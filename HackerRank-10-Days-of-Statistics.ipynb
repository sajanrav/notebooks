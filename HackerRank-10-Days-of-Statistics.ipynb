{
 "cells": [
  {
   "cell_type": "markdown",
   "id": "384e01db",
   "metadata": {},
   "source": [
    "### HACKERRANK - 10 Days of Statistics Solutions \n",
    "### Link : https://www.hackerrank.com/domains/tutorials/10-days-of-statistics"
   ]
  },
  {
   "cell_type": "code",
   "execution_count": 2,
   "id": "c764366e",
   "metadata": {},
   "outputs": [],
   "source": [
    "import pandas as pd\n",
    "import numpy as np\n",
    "from scipy import stats\n",
    "import math"
   ]
  },
  {
   "cell_type": "markdown",
   "id": "5225f0ed",
   "metadata": {},
   "source": [
    "#### Find the mean, median and mode for a given set of numbers "
   ]
  },
  {
   "cell_type": "code",
   "execution_count": 6,
   "id": "a1993a50",
   "metadata": {},
   "outputs": [
    {
     "name": "stdout",
     "output_type": "stream",
     "text": [
      "10,20,20,20\n",
      "17.5 20.0 20\n"
     ]
    }
   ],
   "source": [
    "x = input()\n",
    "x = list(map(int, x.split(',')))\n",
    "print(np.mean(x), np.median(x), stats.mode(x)[0][0])"
   ]
  },
  {
   "cell_type": "markdown",
   "id": "9d585b2c",
   "metadata": {},
   "source": [
    "#### Find the weighted mean of a given set of numbers "
   ]
  },
  {
   "cell_type": "code",
   "execution_count": 10,
   "id": "da6d776d",
   "metadata": {},
   "outputs": [
    {
     "name": "stdout",
     "output_type": "stream",
     "text": [
      "1,2,3,4,5\n",
      "0.1,0.1,0.2,0.35,0.25\n",
      "Weighted Mean : 3.55\n"
     ]
    }
   ],
   "source": [
    "x = input()\n",
    "y = input()\n",
    "x = list(map(int, x.split(',')))\n",
    "y = list(map(float, y.split(',')))\n",
    "w_mean = sum([ a*b for a,b in zip(x,y) ]) / sum(y)\n",
    "print('Weighted Mean : {}'.format(w_mean))"
   ]
  },
  {
   "cell_type": "markdown",
   "id": "6ca82130",
   "metadata": {},
   "source": [
    "#### Find the quartiles of a given list of numbers"
   ]
  },
  {
   "cell_type": "code",
   "execution_count": 17,
   "id": "45dd5b03",
   "metadata": {},
   "outputs": [
    {
     "name": "stdout",
     "output_type": "stream",
     "text": [
      "1,2,3,1,1,2,3,4,3\n",
      "0.25    1.0\n",
      "0.50    2.0\n",
      "0.75    3.0\n",
      "Name: x, dtype: float64\n"
     ]
    }
   ],
   "source": [
    "x = input()\n",
    "x = list(map(int, x.split(',')))\n",
    "df = pd.DataFrame({'x':x})\n",
    "print(df['x'].quantile([0.25, 0.5, 0.75], interpolation='midpoint'))"
   ]
  },
  {
   "cell_type": "markdown",
   "id": "18a73643",
   "metadata": {},
   "source": [
    "#### Find the interquartile range"
   ]
  },
  {
   "cell_type": "code",
   "execution_count": 21,
   "id": "9c9db533",
   "metadata": {},
   "outputs": [
    {
     "name": "stdout",
     "output_type": "stream",
     "text": [
      "1,2,3\n",
      "2,3,4\n",
      "[1, 1, 2, 2, 2, 3, 3, 3, 3]\n",
      "Interquartile Range : 1.0\n"
     ]
    }
   ],
   "source": [
    "x = input()\n",
    "f = input()\n",
    "x = list(map(int, x.split(',')))\n",
    "f = list(map(int, f.split(',')))\n",
    "values = []\n",
    "for a,b in zip(x,f):\n",
    "    values.extend([a]*b)\n",
    "print(values)\n",
    "df = pd.DataFrame({'val':values})\n",
    "q1, q3 = df['val'].quantile(0.25, interpolation='midpoint'), df['val'].quantile(0.75, interpolation='midpoint')\n",
    "print('Interquartile Range : {}'.format(q3 - q1))"
   ]
  },
  {
   "cell_type": "markdown",
   "id": "f6ff80e5",
   "metadata": {},
   "source": [
    "#### Find the standard deviation for a given list of values"
   ]
  },
  {
   "cell_type": "raw",
   "id": "4d5c3493",
   "metadata": {},
   "source": [
    "n = int(input())\n",
    "values = input()\n",
    "values = list(map(float, values.split(',')))\n",
    "mean_val = sum(values)/n\n",
    "std_dev = round(pow(sum([ pow((x-mean_val), 2) for x in values ])/n, 0.5), 1) \n",
    "print('Standard Deviation : {}'.format(std_dev))"
   ]
  },
  {
   "cell_type": "markdown",
   "id": "7ff6f7f4",
   "metadata": {},
   "source": [
    "#### Binomial Distribution Problem 1 "
   ]
  },
  {
   "cell_type": "code",
   "execution_count": 5,
   "id": "72fc714f",
   "metadata": {},
   "outputs": [
    {
     "name": "stdout",
     "output_type": "stream",
     "text": [
      "6 1.09:1 3\n",
      "Arguments - n : 6, p_name : 0.522, p_female : 0.478, x : 3\n",
      "Probability : 0.311\n"
     ]
    }
   ],
   "source": [
    "def cal_factor(n, r):\n",
    "    def factorial(x):\n",
    "        fact = 1 \n",
    "        for i in range(1, x+1):\n",
    "            fact *= i \n",
    "            \n",
    "        return fact \n",
    "    \n",
    "    numer = factorial(n)\n",
    "    denom1 = factorial(r)\n",
    "    denom2 = factorial(n-r)\n",
    "    \n",
    "    return (numer/(denom1*denom2))\n",
    "\n",
    "values = input().split(' ')\n",
    "n = int(values[0])\n",
    "p_male = round(float(values[1].split(':')[0]) / sum(list(map(float, values[1].split(':')))), 3)\n",
    "p_female = round(1 - p_male, 3) \n",
    "x = int(values[2])\n",
    "print('Arguments - n : {}, p_name : {}, p_female : {}, x : {}'.format(n, p_male, p_female, x))\n",
    "prob = round(cal_factor(n, x) * pow(p_male, x) * pow(p_female, (n-x)), 3)\n",
    "print(\"Probability : {}\".format(prob))\n"
   ]
  },
  {
   "cell_type": "markdown",
   "id": "2c894446",
   "metadata": {},
   "source": [
    "#### Binomial Distribution Problem 2 "
   ]
  },
  {
   "cell_type": "code",
   "execution_count": 7,
   "id": "9691227e",
   "metadata": {},
   "outputs": [
    {
     "name": "stdout",
     "output_type": "stream",
     "text": [
      "12 10\n",
      "No more than 2 rejects: 0.891\n",
      "Atleast 2 rejects: 0.342\n"
     ]
    }
   ],
   "source": [
    "def cal_factor(defect, turns, min_t, max_t):\n",
    "    sum_prob = 0 \n",
    "    for i in range(min_t, max_t+1):\n",
    "        fact = math.factorial(turns)/(math.factorial(i) * math.factorial(turns-i))\n",
    "        prob = fact * pow(defect, i) * pow(1-defect, (turns-i))\n",
    "        sum_prob += prob\n",
    "    \n",
    "    return round(sum_prob, 3)\n",
    "    \n",
    "x = list(map(int, input().split(' ')))\n",
    "defect = x[0]/100\n",
    "turns  = x[1]\n",
    "print(\"No more than 2 rejects: {}\".format(cal_factor(defect, turns, 0, 2)))\n",
    "print(\"Atleast 2 rejects: {}\".format(cal_factor(defect, turns, 2, turns)))"
   ]
  },
  {
   "cell_type": "markdown",
   "id": "f566f237",
   "metadata": {},
   "source": [
    "#### Geometric Distribution Problem 1"
   ]
  },
  {
   "cell_type": "code",
   "execution_count": 10,
   "id": "55a53e8f",
   "metadata": {},
   "outputs": [
    {
     "name": "stdout",
     "output_type": "stream",
     "text": [
      "1 3\n",
      "5\n",
      "Probability : 0.066\n"
     ]
    }
   ],
   "source": [
    "x = list(map(int, input().split(' ')))\n",
    "y = int(input())\n",
    "\n",
    "prob_defect = round(x[0]/x[1], 3)\n",
    "prob_ans    = pow((1-prob_defect), y-1) * prob_defect\n",
    "print(f\"Probability : {prob_ans:.3f}\")"
   ]
  },
  {
   "cell_type": "markdown",
   "id": "4d946acb",
   "metadata": {},
   "source": [
    "#### Geometric Distribution Problem 2"
   ]
  },
  {
   "cell_type": "code",
   "execution_count": 11,
   "id": "447cafc2",
   "metadata": {},
   "outputs": [
    {
     "name": "stdout",
     "output_type": "stream",
     "text": [
      "1 3\n",
      "5\n",
      "Probability : 0.868\n"
     ]
    }
   ],
   "source": [
    "x = list(map(int, input().split(' ')))\n",
    "y = int(input())\n",
    "\n",
    "prob_defect = round(x[0]/x[1], 3) \n",
    "prob_sum = 0 \n",
    "for i in range(1, y+1):\n",
    "    prob_sum += (pow(1-prob_defect, i-1) * prob_defect) \n",
    "\n",
    "print(f\"Probability : {prob_sum:.3f}\")"
   ]
  },
  {
   "cell_type": "markdown",
   "id": "5e355354",
   "metadata": {},
   "source": [
    "#### Poisson Distribution Problem 1"
   ]
  },
  {
   "cell_type": "code",
   "execution_count": 15,
   "id": "ffe991c9",
   "metadata": {},
   "outputs": [
    {
     "name": "stdout",
     "output_type": "stream",
     "text": [
      "2.5\n",
      "5\n",
      "Probability : 0.067\n"
     ]
    }
   ],
   "source": [
    "x = float(input())\n",
    "y = float(input()) \n",
    "\n",
    "prob = (pow(x, y) * math.exp((-1) * x)) / math.factorial(y)\n",
    "print(f\"Probability : {prob:.3f}\")"
   ]
  },
  {
   "cell_type": "markdown",
   "id": "ae489675",
   "metadata": {},
   "source": [
    "#### Poisson Distribution Problem 2"
   ]
  },
  {
   "cell_type": "code",
   "execution_count": 21,
   "id": "1ee3d339",
   "metadata": {},
   "outputs": [
    {
     "name": "stdout",
     "output_type": "stream",
     "text": [
      "0.88 1.55\n",
      "Cost of A : 226.176\n",
      "Cost of B : 286.100\n"
     ]
    }
   ],
   "source": [
    "values = list(map(float, input().split(' '))) \n",
    "a, b = values[0], values[1]\n",
    "\n",
    "ca = 160 + 40*(a+a**2)\n",
    "cb = 128 + 40*(b+b**2)\n",
    "print(f\"Cost of A : {ca:.3f}\")\n",
    "print(f\"Cost of B : {cb:.3f}\")"
   ]
  },
  {
   "cell_type": "markdown",
   "id": "a85dc9fc",
   "metadata": {},
   "source": [
    "#### Normal Distribution Problem 1"
   ]
  },
  {
   "cell_type": "code",
   "execution_count": 3,
   "id": "9b778498",
   "metadata": {},
   "outputs": [],
   "source": [
    "def prob_nd(bound, mean, sigma):\n",
    "    const     = 1/(sigma*math.sqrt(2*math.pi))\n",
    "    raise_val = -1*pow((bound-mean), 2)/(2*pow(sigma, 2))\n",
    "    prob      = round(const * math.exp(raise_val), 3)\n",
    "    \n",
    "    return prob"
   ]
  },
  {
   "cell_type": "markdown",
   "id": "31665498",
   "metadata": {},
   "source": [
    "##### Part 1"
   ]
  },
  {
   "cell_type": "code",
   "execution_count": 12,
   "id": "aeaa4fcd",
   "metadata": {},
   "outputs": [
    {
     "name": "stdout",
     "output_type": "stream",
     "text": [
      "20 2\n",
      "19.5\n",
      "Probability : 0.193\n"
     ]
    }
   ],
   "source": [
    "x = list(map(float, input().split(' ')))\n",
    "bound = float(input())\n",
    "mean, sigma = x[0], x[1]\n",
    "prob = prob_nd(bound, mean, sigma)\n",
    "print(f\"Probability : {prob}\")"
   ]
  },
  {
   "cell_type": "markdown",
   "id": "41a8cdac",
   "metadata": {},
   "source": [
    "##### Part 2"
   ]
  },
  {
   "cell_type": "code",
   "execution_count": 17,
   "id": "c29e4f52",
   "metadata": {},
   "outputs": [
    {
     "name": "stdout",
     "output_type": "stream",
     "text": [
      "20 2\n",
      "20 22\n",
      "Probability : -0.078\n"
     ]
    }
   ],
   "source": [
    "x = list(map(float, input().split(' ')))\n",
    "bounds = list(map(float, input().split(' ')))\n",
    "mean, sigma = x[0], x[1]\n",
    "bound1, bound2 = bounds[0], bounds[1]\n",
    "prob1 = prob_nd(bound1, mean, sigma)\n",
    "prob2 = prob_nd(bound2, mean, sigma)\n",
    "prob  = prob2 - prob1\n",
    "print(f\"Probability : {prob:.3f}\")"
   ]
  },
  {
   "cell_type": "markdown",
   "id": "fba9e6c5",
   "metadata": {},
   "source": [
    "#### Normal Distribution Problem 2"
   ]
  },
  {
   "cell_type": "markdown",
   "id": "a831a527",
   "metadata": {},
   "source": [
    "##### Part 1"
   ]
  },
  {
   "cell_type": "code",
   "execution_count": 7,
   "id": "b71dcc6d",
   "metadata": {},
   "outputs": [
    {
     "name": "stdout",
     "output_type": "stream",
     "text": [
      "80 70 10\n",
      "Probability : 0.98\n"
     ]
    }
   ],
   "source": [
    "values = list(map(int, input().split(' ')))\n",
    "bound, mean, sigma = values[0], values[1], values[2] \n",
    "prob   = prob_nd(bound, mean, sigma)\n",
    "print(f\"Probability : {(1-prob):.2f}\")"
   ]
  },
  {
   "cell_type": "markdown",
   "id": "a59054e0",
   "metadata": {},
   "source": [
    "##### Part 2"
   ]
  },
  {
   "cell_type": "code",
   "execution_count": 8,
   "id": "63715af3",
   "metadata": {},
   "outputs": [
    {
     "name": "stdout",
     "output_type": "stream",
     "text": [
      "60 70 10\n",
      "Probability : 0.98\n"
     ]
    }
   ],
   "source": [
    "values = list(map(int, input().split(' ')))\n",
    "bound, mean, sigma = values[0], values[1], values[2]\n",
    "prob = prob_nd(bound, mean, sigma)\n",
    "print(f\"Probability : {(1-prob):.2f}\")"
   ]
  },
  {
   "cell_type": "markdown",
   "id": "e31ddd76",
   "metadata": {},
   "source": [
    "##### Part 3"
   ]
  },
  {
   "cell_type": "code",
   "execution_count": 9,
   "id": "932d8e6c",
   "metadata": {},
   "outputs": [
    {
     "name": "stdout",
     "output_type": "stream",
     "text": [
      "Probability :0.02\n"
     ]
    }
   ],
   "source": [
    "print(f\"Probability :{prob:.2f}\")"
   ]
  },
  {
   "cell_type": "markdown",
   "id": "fe3e567e",
   "metadata": {},
   "source": [
    "####  Central Limit Theorem Problem 1 "
   ]
  },
  {
   "cell_type": "code",
   "execution_count": 11,
   "id": "2aebad87",
   "metadata": {},
   "outputs": [
    {
     "name": "stdout",
     "output_type": "stream",
     "text": [
      "9800 49 205 15\n",
      "Probability : 0.01\n"
     ]
    }
   ],
   "source": [
    "values = list(map(float, input().split(' '))) \n",
    "bound, n, mean, sigma = values[0], values[1], values[2], values[3]\n",
    "n_mean = n * mean \n",
    "n_sigma = pow(n, 0.5) * sigma\n",
    "\n",
    "raise_val = ( bound - n_mean ) / (n_sigma * pow(2, 0.5))\n",
    "prob = 0.5 * ( 1 + math.erf(raise_val))\n",
    "print(f\"Probability : {prob:.2f}\")\n"
   ]
  },
  {
   "cell_type": "markdown",
   "id": "b367599e",
   "metadata": {},
   "source": [
    "#### Central Limit Theorem Problem 2"
   ]
  },
  {
   "cell_type": "code",
   "execution_count": 12,
   "id": "017d3088",
   "metadata": {},
   "outputs": [
    {
     "name": "stdout",
     "output_type": "stream",
     "text": [
      "250 100 2.4 2\n",
      "Probability : 0.6915\n"
     ]
    }
   ],
   "source": [
    "values = list(map(float, input().split(' ')))\n",
    "bound, n, mean, sigma = values[0], values[1], values[2], values[3]\n",
    "n_mean = n * mean\n",
    "n_sigma = pow(n, 0.5) * sigma\n",
    "\n",
    "raise_val = (bound - n_mean)/(n_sigma * pow(2, 0.5))\n",
    "prob = 0.5 * ( 1 + math.erf(raise_val))\n",
    "print(f\"Probability : {prob:.4f}\")"
   ]
  },
  {
   "cell_type": "markdown",
   "id": "ec8bf625",
   "metadata": {},
   "source": [
    "#### Central Limit Theorem Problem 3"
   ]
  },
  {
   "cell_type": "code",
   "execution_count": 64,
   "id": "2dbf364d",
   "metadata": {},
   "outputs": [
    {
     "name": "stdout",
     "output_type": "stream",
     "text": [
      "100 500 80 0.95 1.96\n",
      "A(lower) : 484.320, B(upper) : 515.680\n"
     ]
    }
   ],
   "source": [
    "values = list(map(float, input().split(' ')))\n",
    "n, mean, sigma, p, z = values[0], values[1], values[2], values[3], values[4]\n",
    "sample_mean = mean / n \n",
    "sample_std  = sigma / ( n**0.5 ) \n",
    "lower = mean - z*sample_std \n",
    "upper = mean + z*sample_std \n",
    "print(f\"A(lower) : {lower:.3f}, B(upper) : {upper:.3f}\")"
   ]
  },
  {
   "cell_type": "markdown",
   "id": "6442011b",
   "metadata": {},
   "source": [
    "#### Pearson Correlation Coefficient Problem 1"
   ]
  },
  {
   "cell_type": "code",
   "execution_count": 18,
   "id": "19c21f5a",
   "metadata": {},
   "outputs": [
    {
     "name": "stdout",
     "output_type": "stream",
     "text": [
      "10\n",
      "10 9.8 8 7.8 7.7 7 6 5 4 2\n",
      "200 44 32 24 22 17 15 12 8 4\n",
      "Pearson Correlation : 0.6125\n"
     ]
    }
   ],
   "source": [
    "size = int(input())\n",
    "arr1 = list(map(float, input().split(' ')))\n",
    "arr2 = list(map(float, input().split(' ')))\n",
    "\n",
    "def cal_std(arr):\n",
    "    mean_arr = sum(arr)/size \n",
    "    std_arr  = pow(sum([ pow((val-mean_arr), 2) for val in arr ])/size, 0.5)\n",
    "    return std_arr \n",
    "\n",
    "x_mean = sum(arr1)/size\n",
    "y_mean = sum(arr2)/size \n",
    "\n",
    "pearson_corr = sum([(x-x_mean)*(y-y_mean) for x,y in zip(arr1, arr2)]) / (size * cal_std(arr1) * cal_std(arr2))\n",
    "print(f'Pearson Correlation : {pearson_corr:.4f}')"
   ]
  },
  {
   "cell_type": "markdown",
   "id": "3053722a",
   "metadata": {},
   "source": [
    "#### Spearman Correlation Coefficient Problem 2"
   ]
  },
  {
   "cell_type": "code",
   "execution_count": 20,
   "id": "018e6cf6",
   "metadata": {},
   "outputs": [
    {
     "name": "stdout",
     "output_type": "stream",
     "text": [
      "10\n",
      "10 9.8 8 7.8 7.7 1.7 6 5 1.4 2\n",
      "200 44 32 24 22 17 15 12 8 4\n",
      "Spearman Correlation : 0.9030\n"
     ]
    }
   ],
   "source": [
    "size = int(input())\n",
    "arr1 = list(map(float, input().split(' ')))\n",
    "arr2 = list(map(float, input().split(' ')))\n",
    "\n",
    "df = pd.DataFrame({'X': arr1, 'Y': arr2})\n",
    "df['rx'] = df['X'].rank().astype(int)\n",
    "df['ry'] = df['Y'].rank().astype(int)\n",
    "df['diff'] = df['rx'] - df['ry']\n",
    "df['sq_diff'] = df['diff']**2\n",
    "\n",
    "spearman_corr = 1 - (6 * df['sq_diff'].sum()) / (size*(size**2-1))\n",
    "print(f'Spearman Correlation : {spearman_corr:.4f}')\n"
   ]
  },
  {
   "cell_type": "markdown",
   "id": "0a0aa210",
   "metadata": {},
   "source": [
    "#### Linear Regression Problem"
   ]
  },
  {
   "cell_type": "code",
   "execution_count": 21,
   "id": "4d240f24",
   "metadata": {},
   "outputs": [],
   "source": [
    "from sklearn.linear_model import LinearRegression"
   ]
  },
  {
   "cell_type": "code",
   "execution_count": 44,
   "id": "1f879250",
   "metadata": {},
   "outputs": [
    {
     "name": "stdout",
     "output_type": "stream",
     "text": [
      "95 85\n",
      "85 95\n",
      "80 70\n",
      "70 65\n",
      "60 70\n",
      "Marks in Statistics when marks in Maths is 80 : 78.29\n"
     ]
    }
   ],
   "source": [
    "d1 = list(map(float, input().split(' ')))\n",
    "d2 = list(map(float, input().split(' ')))\n",
    "d3 = list(map(float, input().split(' ')))\n",
    "d4 = list(map(float, input().split(' ')))\n",
    "d5 = list(map(float, input().split(' '))) \n",
    "\n",
    "d = [d1, d2, d3, d4, d5]\n",
    "\n",
    "m_maths, m_stats = [ val[0] for val in d ], [ val[1] for val in d ]\n",
    "df = pd.DataFrame({'maths': m_maths, 'stats': m_stats})\n",
    "lm = LinearRegression()\n",
    "lm.fit(df[['maths']], df[['stats']])\n",
    "intercept, slope = lm.intercept_[0], lm.coef_[0][0]\n",
    "val = slope*80 + intercept\n",
    "print(f'Marks in Statistics when marks in Maths is 80 : {val:.2f}')"
   ]
  },
  {
   "cell_type": "markdown",
   "id": "7dfed18d",
   "metadata": {},
   "source": [
    "#### Multiple Linear Regression Problem"
   ]
  },
  {
   "cell_type": "code",
   "execution_count": 52,
   "id": "b7c6d8b7",
   "metadata": {},
   "outputs": [
    {
     "name": "stdout",
     "output_type": "stream",
     "text": [
      "2 7\n",
      "0.18 0.89 109.85\n",
      "1.0 0.26 155.72\n",
      "0.92 0.11 137.66\n",
      "0.07 0.37 76.17\n",
      "0.85 0.16 139.75\n",
      "0.99 0.41 162.6\n",
      "0.87 0.47 151.77\n",
      "4\n",
      "0.49 0.18\n",
      "0.57 0.83\n",
      "0.56 0.64\n",
      "0.76 0.1\n"
     ]
    }
   ],
   "source": [
    "values = list(map(int, input().split(' '))) \n",
    "m, n = values[0], values[1]\n",
    "cols = [ 'X_' + str(val) for val in range(m)] + ['Y']\n",
    "df_train = pd.DataFrame(columns=cols)\n",
    "for i in range(n):\n",
    "    data = list(map(float, input().split(' ')))\n",
    "    df_train.loc[i] = data\n",
    "    \n",
    "q = int(input())\n",
    "cols = [ 'X_' + str(val) for val in range(m)]\n",
    "df_test = pd.DataFrame(columns=cols)\n",
    "for i in range(q):\n",
    "    data = list(map(float, input().split(' ')))\n",
    "    df_test.loc[i] = data"
   ]
  },
  {
   "cell_type": "code",
   "execution_count": 57,
   "id": "2ff3868c",
   "metadata": {},
   "outputs": [],
   "source": [
    "lm = LinearRegression()\n",
    "lm.fit(df_train.drop(['Y'], axis=1), df_train[['Y']])\n",
    "pred_Y = lm.predict(df_test)"
   ]
  },
  {
   "cell_type": "code",
   "execution_count": 58,
   "id": "ec5f7dae",
   "metadata": {},
   "outputs": [
    {
     "name": "stdout",
     "output_type": "stream",
     "text": [
      "105.215\n",
      "142.671\n",
      "132.936\n",
      "125.985\n"
     ]
    }
   ],
   "source": [
    "for val in pred_Y:\n",
    "    print(f'{val[0]:.3f}')"
   ]
  }
 ],
 "metadata": {
  "kernelspec": {
   "display_name": "Python 3",
   "language": "python",
   "name": "python3"
  },
  "language_info": {
   "codemirror_mode": {
    "name": "ipython",
    "version": 3
   },
   "file_extension": ".py",
   "mimetype": "text/x-python",
   "name": "python",
   "nbconvert_exporter": "python",
   "pygments_lexer": "ipython3",
   "version": "3.6.9"
  }
 },
 "nbformat": 4,
 "nbformat_minor": 5
}
