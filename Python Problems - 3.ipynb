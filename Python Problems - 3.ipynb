{
 "cells": [
  {
   "cell_type": "code",
   "execution_count": 2,
   "metadata": {},
   "outputs": [],
   "source": [
    "import math\n",
    "from datetime import datetime, timedelta"
   ]
  },
  {
   "cell_type": "code",
   "execution_count": null,
   "metadata": {},
   "outputs": [],
   "source": [
    "#Find solution to quadratic equation\n",
    "\n",
    "#Test Values\n",
    "a = 1\n",
    "b = -7\n",
    "c = 12\n",
    "\n",
    "try:\n",
    "    term = math.sqrt(math.pow(b, 2) - (4*a*c))\n",
    "    x1 = round(((-1)*b - term)/(2*a))\n",
    "    x2 = round(((-1)*b + term)/(2*a))\n",
    "    output = str(x1) + '\\n' + str(x2)\n",
    "except:\n",
    "    output = \"Imaginary number\"\n",
    "\n",
    "print(output)"
   ]
  },
  {
   "cell_type": "code",
   "execution_count": null,
   "metadata": {},
   "outputs": [],
   "source": [
    "#Find out if petrol or diesel version of cars is better\n",
    "\n",
    "#Test Values\n",
    "pet_dist_per_litre = 15\n",
    "pet_fuelcost_per_litre = 70\n",
    "pet_showroom_price = 600000\n",
    "pet_avg_monthly_run = 1000\n",
    "pet_maintenance_cost = 500\n",
    "pet_horizon = 60\n",
    "\n",
    "die_dist_per_litre = 16\n",
    "die_fuelcost_per_litre = 60\n",
    "die_showroom_price = 590000\n",
    "die_avg_monthly_run = 1000\n",
    "die_maintenance_cost = 600\n",
    "die_horizon = 60\n",
    "\n",
    "pet_total_cost = pet_maintenance_cost + pet_showroom_price + ((pet_avg_monthly_run/pet_dist_per_litre) * pet_fuelcost_per_litre)*pet_horizon\n",
    "die_total_cost = die_maintenance_cost + die_showroom_price + ((die_avg_monthly_run/die_dist_per_litre) * die_fuelcost_per_litre)*die_horizon\n",
    "\n",
    "if pet_total_cost > die_total_cost:\n",
    "    print(\"petrol\")\n",
    "elif pet_total_cost < die_total_cost:\n",
    "    print(\"diesel\")\n",
    "else:\n",
    "    print(\"Both are good\")"
   ]
  },
  {
   "cell_type": "code",
   "execution_count": null,
   "metadata": {},
   "outputs": [],
   "source": [
    "#Find out next date of eclipse\n",
    "\n",
    "#Test Value\n",
    "dt = '05-11-2018'\n",
    "\n",
    "dt_ptr = datetime.strptime(dt, '%d-%m-%Y')\n",
    "next_dt_ptr = dt_ptr + timedelta(days=(365*18)+15)\n",
    "next_dt = datetime.strftime(next_dt_ptr, '%Y-%m-%d')\n",
    "print(next_dt)"
   ]
  }
 ],
 "metadata": {
  "kernelspec": {
   "display_name": "Python 3",
   "language": "python",
   "name": "python3"
  },
  "language_info": {
   "codemirror_mode": {
    "name": "ipython",
    "version": 3
   },
   "file_extension": ".py",
   "mimetype": "text/x-python",
   "name": "python",
   "nbconvert_exporter": "python",
   "pygments_lexer": "ipython3",
   "version": "3.7.0"
  }
 },
 "nbformat": 4,
 "nbformat_minor": 2
}
