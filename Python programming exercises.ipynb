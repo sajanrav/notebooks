{
 "cells": [
  {
   "cell_type": "code",
   "execution_count": 2,
   "metadata": {},
   "outputs": [
    {
     "name": "stdout",
     "output_type": "stream",
     "text": [
      "2002,2009,2016,2023,2037,2044,2051,2058,2072,2079,2086,2093,2107,2114,2121,2128,2142,2149,2156,2163,2177,2184,2191,2198,2212,2219,2226,2233,2247,2254,2261,2268,2282,2289,2296,2303,2317,2324,2331,2338,2352,2359,2366,2373,2387,2394,2401,2408,2422,2429,2436,2443,2457,2464,2471,2478,2492,2499,2506,2513,2527,2534,2541,2548,2562,2569,2576,2583,2597,2604,2611,2618,2632,2639,2646,2653,2667,2674,2681,2688,2702,2709,2716,2723,2737,2744,2751,2758,2772,2779,2786,2793,2807,2814,2821,2828,2842,2849,2856,2863,2877,2884,2891,2898,2912,2919,2926,2933,2947,2954,2961,2968,2982,2989,2996,3003,3017,3024,3031,3038,3052,3059,3066,3073,3087,3094,3101,3108,3122,3129,3136,3143,3157,3164,3171,3178,3192,3199\n"
     ]
    }
   ],
   "source": [
    "#Write a program which will find all such numbers which are divisible by 7 but are not a multiple of 5,\n",
    "#between 2000 and 3200 (both included).The numbers obtained should be printed in a comma-separated sequence on a single line.\n",
    "\n",
    "num = []\n",
    "for val in range(2000, 3201):\n",
    "    if ((val % 7) == 0) & ((val % 5) != 0):\n",
    "        num.append(str(val))\n",
    "\n",
    "values = \",\".join(num)\n",
    "print(values)"
   ]
  },
  {
   "cell_type": "code",
   "execution_count": 9,
   "metadata": {},
   "outputs": [
    {
     "name": "stdout",
     "output_type": "stream",
     "text": [
      "40320,362880,93326215443944152681699238856266700490715968264381621468592963895217599993229915608941463976156518286253697920827223758251185210916864000000000000000000000000,2432902008176640000,10333147966386144929666651337523200000000,815915283247897734345611269596115894272000000000\n"
     ]
    }
   ],
   "source": [
    "#Write a program which can compute the factorial of a given numbers. The results should be \n",
    "#printed in a comma-separated sequence on a single line.Suppose the following input is supplied to the program:\n",
    "#8\n",
    "#Then, the output should be:\n",
    "#40320\n",
    "\n",
    "def factorial(v):\n",
    "    f = 1\n",
    "    for part in range(1,v+1):\n",
    "        f = f * part\n",
    "    \n",
    "    return str(f)\n",
    "        \n",
    "val = \"8,9,100,20,35,40\".split(\",\")\n",
    "fact = []\n",
    "for v in val:\n",
    "    f = factorial(int(v))\n",
    "    fact.append(f)\n",
    "\n",
    "csv_fact = \",\".join(fact)\n",
    "print(csv_fact)"
   ]
  },
  {
   "cell_type": "code",
   "execution_count": 10,
   "metadata": {},
   "outputs": [
    {
     "name": "stdout",
     "output_type": "stream",
     "text": [
      "{1: 1, 2: 4, 3: 9, 4: 16, 5: 25, 6: 36, 7: 49, 8: 64}\n"
     ]
    }
   ],
   "source": [
    "#With a given integral number n, write a program to generate a dictionary that contains (i, i*i) such that is an integral number between 1 and n (both included). and then the program should print the dictionary.\n",
    "#Suppose the following input is supplied to the program:\n",
    "#8\n",
    "#Then, the output should be:\n",
    "#{1: 1, 2: 4, 3: 9, 4: 16, 5: 25, 6: 36, 7: 49, 8: 64}\n",
    "\n",
    "val_dict = {}\n",
    "input_val = 8\n",
    "for v in range(1, input_val+1):\n",
    "    val_dict[v] = v*v\n",
    "    \n",
    "print(val_dict)"
   ]
  },
  {
   "cell_type": "code",
   "execution_count": 12,
   "metadata": {},
   "outputs": [
    {
     "name": "stdout",
     "output_type": "stream",
     "text": [
      "['34', '67', '55', '33', '12', '98']\n",
      "('34', '67', '55', '33', '12', '98')\n"
     ]
    }
   ],
   "source": [
    "#Write a program which accepts a sequence of comma-separated numbers from console and generate a list and a tuple which contains every number.\n",
    "#Suppose the following input is supplied to the program:\n",
    "#34,67,55,33,12,98\n",
    "#Then, the output should be:\n",
    "#['34', '67', '55', '33', '12', '98']\n",
    "#('34', '67', '55', '33', '12', '98')\n",
    "\n",
    "input_str = \"34,67,55,33,12,98\"\n",
    "out_list = input_str.split(',')\n",
    "out_tuple = tuple(out_list)\n",
    "print(out_list)\n",
    "print(out_tuple)"
   ]
  },
  {
   "cell_type": "code",
   "execution_count": 13,
   "metadata": {},
   "outputs": [
    {
     "name": "stdout",
     "output_type": "stream",
     "text": [
      "This is a test\n"
     ]
    }
   ],
   "source": [
    "#Define a class which has at least two methods:\n",
    "#getString: to get a string from console input\n",
    "#printString: to print the string in upper case.\n",
    "#Also please include simple test function to test the class methods.\n",
    "\n",
    "class class_str():\n",
    "    def __init__(self):\n",
    "        self.s = ''\n",
    "        \n",
    "    def getString(self, s):\n",
    "        self.s = s\n",
    "        \n",
    "    def printString(self):\n",
    "        print(self.s)\n",
    "        \n",
    "input_str = \"This is a test\"\n",
    "str_obj = class_str()\n",
    "str_obj.getString(input_str)\n",
    "str_obj.printString()"
   ]
  },
  {
   "cell_type": "code",
   "execution_count": 17,
   "metadata": {},
   "outputs": [
    {
     "name": "stdout",
     "output_type": "stream",
     "text": [
      "18,22,24\n"
     ]
    }
   ],
   "source": [
    "#Write a program that calculates and prints the value according to the given formula:\n",
    "#Q = Square root of [(2 * C * D)/H]\n",
    "#Following are the fixed values of C and H:\n",
    "#C is 50. H is 30.\n",
    "#D is the variable whose values should be input to your program in a comma-separated sequence.\n",
    "#Example\n",
    "#Let us assume the following comma separated input sequence is given to the program:\n",
    "#100,150,180\n",
    "#The output of the program should be:\n",
    "#18,22,24\n",
    "\n",
    "import math\n",
    "\n",
    "input_str = \"100,150,180\"\n",
    "C = 50\n",
    "H = 30\n",
    "D_list = input_str.split(\",\")\n",
    "Q_list = []\n",
    "for D in D_list:\n",
    "    Q = str(int(math.sqrt((2*C*int(D))/H)))\n",
    "    Q_list.append(Q)\n",
    "\n",
    "csv_Q = \",\".join(Q_list)\n",
    "print(csv_Q)\n",
    "    "
   ]
  },
  {
   "cell_type": "code",
   "execution_count": 19,
   "metadata": {},
   "outputs": [
    {
     "name": "stdout",
     "output_type": "stream",
     "text": [
      "[[0, 0, 0, 0, 0], [0, 1, 2, 3, 4], [0, 2, 4, 6, 8]]\n"
     ]
    }
   ],
   "source": [
    "#Write a program which takes 2 digits, X,Y as input and generates a 2-dimensional array. The element value in the i-th row and j-th column of the array should be i*j.\n",
    "#Note: i=0,1.., X-1; j=0,1,¡­Y-1.\n",
    "#Example\n",
    "#Suppose the following inputs are given to the program:\n",
    "#3,5\n",
    "#Then, the output of the program should be:\n",
    "#[[0, 0, 0, 0, 0], [0, 1, 2, 3, 4], [0, 2, 4, 6, 8]] \n",
    "\n",
    "rows = 3\n",
    "cols = 5\n",
    "final = []\n",
    "\n",
    "#First Method\n",
    "for row in range(0,rows):\n",
    "    values = [ val*row for val in range(0,5)]\n",
    "    final.append(values)\n",
    "    \n",
    "print(final)"
   ]
  },
  {
   "cell_type": "code",
   "execution_count": 22,
   "metadata": {},
   "outputs": [
    {
     "name": "stdout",
     "output_type": "stream",
     "text": [
      "['bag', 'hello', 'without', 'world']\n"
     ]
    }
   ],
   "source": [
    "#Write a program that accepts a comma separated sequence of words as input and prints the words in a comma-separated sequence after sorting them alphabetically.\n",
    "#Suppose the following input is supplied to the program:\n",
    "#without,hello,bag,world\n",
    "#Then, the output should be:\n",
    "#bag,hello,without,world\n",
    "\n",
    "l = ['without','hello','bag','world']\n",
    "l = sorted(l)\n",
    "print(l)"
   ]
  },
  {
   "cell_type": "code",
   "execution_count": 24,
   "metadata": {},
   "outputs": [
    {
     "name": "stdout",
     "output_type": "stream",
     "text": [
      "['HELLO WORLD', 'PRACTICE MAKES PERFECT']\n"
     ]
    }
   ],
   "source": [
    "#Write a program that accepts sequence of lines as input and prints the lines after making all characters in the sentence capitalized.\n",
    "#Suppose the following input is supplied to the program:\n",
    "#Hello world\n",
    "#Practice makes perfect\n",
    "#Then, the output should be:\n",
    "#HELLO WORLD\n",
    "#PRACTICE MAKES PERFECT\n",
    "\n",
    "l = ['Hello World', 'Practice makes perfect']\n",
    "output = []\n",
    "for val in l:\n",
    "    output.append(val.upper())\n",
    "    \n",
    "print(output)"
   ]
  },
  {
   "cell_type": "code",
   "execution_count": 26,
   "metadata": {},
   "outputs": [
    {
     "name": "stdout",
     "output_type": "stream",
     "text": [
      "again and hello makes perfect practice world\n"
     ]
    }
   ],
   "source": [
    "#Write a program that accepts a sequence of whitespace separated words as input and prints the words after removing all duplicate words and sorting them alphanumerically.\n",
    "#Suppose the following input is supplied to the program:\n",
    "#hello world and practice makes perfect and hello world again\n",
    "#Then, the output should be:\n",
    "#again and hello makes perfect practice world\n",
    "\n",
    "l = 'hello world and practice makes perfect and hello world again'\n",
    "words = l.split(' ')\n",
    "words = sorted(list(set(words)))\n",
    "sent = \" \".join(words)\n",
    "print(sent)"
   ]
  },
  {
   "cell_type": "code",
   "execution_count": 29,
   "metadata": {},
   "outputs": [
    {
     "name": "stdout",
     "output_type": "stream",
     "text": [
      "Upper Case count : 1\n",
      "Lower Case count : 9\n"
     ]
    }
   ],
   "source": [
    "#Write a program that accepts a sentence and calculate the number of upper case letters and lower case letters.\n",
    "#Suppose the following input is supplied to the program:\n",
    "#Hello world!\n",
    "#Then, the output should be:\n",
    "#UPPER CASE 1\n",
    "#LOWER CASE 9\n",
    "\n",
    "l = \"Hello world\"\n",
    "count_upper = 0\n",
    "count_lower = 0\n",
    "for ch in l:\n",
    "    if ch.isupper():\n",
    "        count_upper += 1\n",
    "    elif ch.islower():\n",
    "        count_lower += 1\n",
    "        \n",
    "print(\"Upper Case count : {}\".format(count_upper))\n",
    "print(\"Lower Case count : {}\".format(count_lower))        "
   ]
  },
  {
   "cell_type": "code",
   "execution_count": 2,
   "metadata": {},
   "outputs": [
    {
     "name": "stdout",
     "output_type": "stream",
     "text": [
      "Final : 11106\n"
     ]
    }
   ],
   "source": [
    "#Question:\n",
    "#Write a program that computes the value of a+aa+aaa+aaaa with a given digit as the value of a.\n",
    "#Suppose the following input is supplied to the program:\n",
    "#9\n",
    "#Then, the output should be:\n",
    "#11106\n",
    "\n",
    "a = 9\n",
    "final = a + (10*a + a) + (100*a + 10*a + a) + (1000*a + 100*a + 10*a + a)\n",
    "print(\"Final : {}\".format(final))"
   ]
  },
  {
   "cell_type": "code",
   "execution_count": 5,
   "metadata": {},
   "outputs": [
    {
     "name": "stdout",
     "output_type": "stream",
     "text": [
      "[1, 3, 5, 7, 9]\n"
     ]
    }
   ],
   "source": [
    "#Question:\n",
    "#Use a list comprehension to print each odd number in a list. The list is input by a sequence of comma-separated numbers.\n",
    "#Suppose the following input is supplied to the program:\n",
    "#1,2,3,4,5,6,7,8,9\n",
    "#Then, the output should be:\n",
    "#1,3,5,7,9\n",
    "\n",
    "l = [1,2,3,4,5,6,7,8,9]\n",
    "odds = [ l[ind] for ind in range(0,len(l),2)]\n",
    "print(odds)\n"
   ]
  },
  {
   "cell_type": "code",
   "execution_count": 3,
   "metadata": {},
   "outputs": [
    {
     "name": "stdout",
     "output_type": "stream",
     "text": [
      "Balance : 500\n"
     ]
    }
   ],
   "source": [
    "#Write a program that computes the net amount of a bank account based a transaction log from console input. The transaction log format is shown as following:\n",
    "#D 100\n",
    "#W 200\n",
    "\n",
    "#D means deposit while W means withdrawal.\n",
    "#Suppose the following input is supplied to the program:\n",
    "#D 300\n",
    "#D 300\n",
    "#W 200\n",
    "#D 100\n",
    "#Then, the output should be:\n",
    "#500\n",
    "\n",
    "transactions = [['D',300],['D',300],['W',200],['D',100]]\n",
    "balance = 0\n",
    "for transac in transactions:\n",
    "    if transac[0] == 'D':\n",
    "        balance += int(transac[1])\n",
    "    elif transac[0] == 'W':\n",
    "        balance -= int(transac[1])\n",
    "print(\"Balance : {}\".format(balance))\n"
   ]
  },
  {
   "cell_type": "code",
   "execution_count": 4,
   "metadata": {},
   "outputs": [
    {
     "name": "stdout",
     "output_type": "stream",
     "text": [
      "ABd1234@1\n"
     ]
    }
   ],
   "source": [
    "##A website requires the users to input username and password to register. Write a program to check the validity of password input by users.\n",
    "#Following are the criteria for checking the password:\n",
    "#1. At least 1 letter between [a-z]\n",
    "#2. At least 1 number between [0-9]\n",
    "#1. At least 1 letter between [A-Z]\n",
    "#3. At least 1 character from [$#@]\n",
    "#4. Minimum length of transaction password: 6\n",
    "#5. Maximum length of transaction password: 12\n",
    "#Your program should accept a sequence of comma separated passwords and will check them according to the above criteria. Passwords that match the criteria are to be printed, each separated by a comma.\n",
    "#Example\n",
    "#If the following passwords are given as input to the program:\n",
    "#ABd1234@1,a F1#,2w3E*,2We3345\n",
    "#Then, the output of the program should be:\n",
    "#ABd1234@1\n",
    "\n",
    "import re\n",
    "\n",
    "pwds = ['ABd1234@1','a F1#','2w3E*','2We3345']\n",
    "valid_pwds = []\n",
    "for pwd in pwds:\n",
    "    if len(pwd) >= 6 and len(pwd) <= 12:\n",
    "        if not re.search(r'[a-z]', pwd):\n",
    "            continue\n",
    "        if not re.search(r'[0-9]', pwd):\n",
    "            continue\n",
    "        if not re.search(r'[A-Z]', pwd):\n",
    "            continue\n",
    "        if not re.search(r'[$#@]', pwd):\n",
    "            continue\n",
    "        valid_pwds.append(pwd)\n",
    "\n",
    "valid_pwds_csv = \",\".join(valid_pwds)\n",
    "print(valid_pwds_csv)     "
   ]
  },
  {
   "cell_type": "code",
   "execution_count": 16,
   "metadata": {},
   "outputs": [
    {
     "name": "stdout",
     "output_type": "stream",
     "text": [
      "[('John', ' 20', ' 90'), ('Jony', ' 17', ' 91'), ('Jony', ' 17', ' 93'), ('Json', ' 21', ' 85'), ('Tom', ' 19', ' 80')]\n"
     ]
    }
   ],
   "source": [
    "#Question:\n",
    "#You are required to write a program to sort the (name, age, height) tuples by ascending order where name is string, age and height are numbers. The tuples are input by console. The sort criteria is:\n",
    "#1: Sort based on name;\n",
    "#2: Then sort based on age;\n",
    "#3: Then sort by score.\n",
    "#The priority is that name > age > score.\n",
    "#If the following tuples are given as input to the program:\n",
    "#Tom,19,80\n",
    "#John,20,90\n",
    "#Jony,17,91\n",
    "#Jony,17,93\n",
    "#Json,21,85\n",
    "#Then, the output of the program should be:\n",
    "#[('John', '20', '90'), ('Jony', '17', '91'), ('Jony', '17', '93'), ('Json', '21', '85'), ('Tom', '19', '80')]\n",
    "\n",
    "from operator import itemgetter, attrgetter\n",
    "\n",
    "t = \"Tom, 19, 80\\nJohn, 20, 90\\nJony, 17, 91\\nJony, 17, 93\\nJson, 21, 85\"\n",
    "        \n",
    "list_t = t.split(\"\\n\")\n",
    "tuple_t = [ tuple(val.split(',')) for val in list_t]\n",
    "sorted_t = sorted(tuple_t, key=itemgetter(0,1,2))\n",
    "print(sorted_t)"
   ]
  },
  {
   "cell_type": "code",
   "execution_count": 22,
   "metadata": {},
   "outputs": [
    {
     "name": "stdout",
     "output_type": "stream",
     "text": [
      "Distance : 2\n"
     ]
    }
   ],
   "source": [
    "#A robot moves in a plane starting from the original point (0,0). The robot can move toward UP, DOWN, LEFT and RIGHT with a given steps. The trace of robot movement is shown as the following:\n",
    "#UP 5\n",
    "#DOWN 3\n",
    "#LEFT 3\n",
    "#RIGHT 2\n",
    "\n",
    "#The numbers after the direction are steps. Please write a program to compute the distance from current position after a sequence of movement and original point. If the distance is a float, then just print the nearest integer.\n",
    "#Example:\n",
    "#If the following tuples are given as input to the program:\n",
    "#UP 5\n",
    "#DOWN 3\n",
    "#LEFT 3\n",
    "#RIGHT 2\n",
    "#Then, the output of the program should be:\n",
    "#2\n",
    "import math\n",
    "\n",
    "dir_str = \"UP 5\\nDOWN 3\\nLEFT 3\\nRIGHT 2\"\n",
    "dir_list = dir_str.split('\\n')\n",
    "dir_list = [ val.split(' ') for val in dir_list ]\n",
    "origin = [0,0]\n",
    "for d in dir_list:\n",
    "    if d[0] == 'UP':\n",
    "        origin[0] += int(d[1])\n",
    "    elif d[0] == 'DOWN':\n",
    "        origin[0] -= int(d[1])\n",
    "    elif d[0] == 'LEFT':\n",
    "        origin[1] -= int(d[1])\n",
    "    elif d[0] == 'RIGHT':\n",
    "        origin[1] += int(d[1])\n",
    "\n",
    "dist = int(round(math.sqrt((origin[0]**2) + (origin[1]**2))))\n",
    "print(\"Distance : {}\".format(dist))\n",
    "\n"
   ]
  },
  {
   "cell_type": "code",
   "execution_count": null,
   "metadata": {},
   "outputs": [],
   "source": []
  }
 ],
 "metadata": {
  "kernelspec": {
   "display_name": "Python 3",
   "language": "python",
   "name": "python3"
  },
  "language_info": {
   "codemirror_mode": {
    "name": "ipython",
    "version": 3
   },
   "file_extension": ".py",
   "mimetype": "text/x-python",
   "name": "python",
   "nbconvert_exporter": "python",
   "pygments_lexer": "ipython3",
   "version": "3.7.0"
  }
 },
 "nbformat": 4,
 "nbformat_minor": 2
}
