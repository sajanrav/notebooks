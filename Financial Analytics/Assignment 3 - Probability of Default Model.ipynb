{
 "cells": [
  {
   "cell_type": "markdown",
   "metadata": {},
   "source": [
    "# Import Libraries"
   ]
  },
  {
   "cell_type": "code",
   "execution_count": null,
   "metadata": {},
   "outputs": [],
   "source": [
    "#Import libraries\n",
    "import pandas as pd\n",
    "import numpy as np\n",
    "from datetime import datetime\n",
    "import matplotlib.pyplot as plt\n",
    "import seaborn as sns\n",
    "\n",
    "import statsmodels.api as sm\n",
    "from sklearn.neighbors import KNeighborsClassifier\n",
    "from sklearn.linear_model import LogisticRegression\n",
    "from sklearn.model_selection import train_test_split\n",
    "from sklearn.metrics import confusion_matrix"
   ]
  },
  {
   "cell_type": "markdown",
   "metadata": {},
   "source": [
    "# Dataframe Preparation"
   ]
  },
  {
   "cell_type": "code",
   "execution_count": null,
   "metadata": {},
   "outputs": [],
   "source": [
    "#Read file and check for shape and column names\n",
    "loan = pd.read_csv('G:\\\\Financial Analytics\\\\Assignment 3\\\\loan_a.csv')\n",
    "loan.head()"
   ]
  },
  {
   "cell_type": "code",
   "execution_count": null,
   "metadata": {},
   "outputs": [],
   "source": [
    "#Convert dates from object to datetime\n",
    "loan['Date.of.Birth'] = pd.to_datetime(loan['Date.of.Birth'])\n",
    "loan['DisbursalDate'] = pd.to_datetime(loan['DisbursalDate'])"
   ]
  },
  {
   "cell_type": "code",
   "execution_count": null,
   "metadata": {},
   "outputs": [],
   "source": [
    "#Check for NA's\n",
    "loan.isna().sum()"
   ]
  },
  {
   "cell_type": "code",
   "execution_count": null,
   "metadata": {},
   "outputs": [],
   "source": [
    "#Remove rows with NA's in Employment.Type\n",
    "loan = loan[loan['Employment.Type'].notna()].reset_index(drop=True)"
   ]
  },
  {
   "cell_type": "code",
   "execution_count": null,
   "metadata": {},
   "outputs": [],
   "source": [
    "#Rename columns to have name convenstion consistency\n",
    "loan_final = loan.rename(columns={'UniqueID':'unique_id', 'Current_pincode_ID':'current_pincode_id', 'Date.of.Birth':'date_of_birth', 'Employment.Type': 'employment_type', 'DisbursalDate':'disbursal_date', 'State_ID':'state_id'})\n",
    "loan_final.columns"
   ]
  },
  {
   "cell_type": "code",
   "execution_count": null,
   "metadata": {},
   "outputs": [],
   "source": [
    "#Calculate Age of borrower when loan is disbursed\n",
    "loan_final['age_at_disbursal'] = ((loan_final['disbursal_date'] - loan_final['date_of_birth']).dt.days / 365).round(2)"
   ]
  },
  {
   "cell_type": "markdown",
   "metadata": {},
   "source": [
    "# Exploratory Data Analysis"
   ]
  },
  {
   "cell_type": "code",
   "execution_count": null,
   "metadata": {},
   "outputs": [],
   "source": [
    "#Find distribution of Age\n",
    "sns.distplot(loan_final['age_at_disbursal'], bins=20)"
   ]
  },
  {
   "cell_type": "code",
   "execution_count": null,
   "metadata": {},
   "outputs": [],
   "source": [
    "#Scatter Plot of Age at Loan Disbursal and Asset Cost\n",
    "sns.scatterplot(x=loan_final['age_at_disbursal'], y=loan_final['asset_cost']);"
   ]
  },
  {
   "cell_type": "code",
   "execution_count": null,
   "metadata": {},
   "outputs": [],
   "source": [
    "#Count of Defaulters and Non-Defaulters \n",
    "loan_final.groupby(['loan_default'])['unique_id'].count()"
   ]
  },
  {
   "cell_type": "code",
   "execution_count": null,
   "metadata": {},
   "outputs": [],
   "source": [
    "#Distribution of Age of Non-Defaulters and Defaulters\n",
    "no_default = loan_final[loan_final['loan_default'] == 0 ].reset_index(drop=True)\n",
    "default = loan_final[loan_final['loan_default'] == 1].reset_index(drop=True)\n",
    "\n",
    "f, axes = plt.subplots(1, 2, figsize=(10, 5))\n",
    "\n",
    "sns.distplot(no_default['age_at_disbursal'], bins=20, ax=axes[0]).set_title('Age Distribution of Non-Defaulters');\n",
    "sns.distplot(default['age_at_disbursal'], bins=20, ax=axes[1]).set_title('Age Distribution of Defaulters');"
   ]
  },
  {
   "cell_type": "code",
   "execution_count": null,
   "metadata": {},
   "outputs": [],
   "source": [
    "#Distribution of borrowers by state_id\n",
    "state_id_count = loan_final.groupby('state_id')['unique_id'].count().reset_index()\n",
    "state_id_count.columns = ['state_id', 'count']\n",
    "state_id_count = state_id_count.sort_values(by='count', ascending=False).reset_index(drop=True)\n",
    "sns.barplot(x='state_id', y='count', data=state_id_count, color='blue');"
   ]
  },
  {
   "cell_type": "code",
   "execution_count": null,
   "metadata": {},
   "outputs": [],
   "source": [
    "#Distribution of Defaulters and Non-Defaulters by state_id\n",
    "loan_default_dist = loan_final.groupby(['state_id', 'loan_default'])['unique_id'].count().reset_index()\n",
    "loan_default_dist.columns = ['state_id', 'default_status', 'count']\n",
    "loan_default_pivot = loan_default_dist.pivot(index='state_id', columns='default_status', values='count').reset_index().fillna(0.0)\n",
    "loan_default_pivot.columns = ['state_id', 'non_default', 'default']\n",
    "loan_default_pivot['ratio_default'] = loan_default_pivot['default'] / ( loan_default_pivot['default'] + loan_default_pivot['non_default'])\n",
    "loan_default_pivot['ratio_no_default'] = 1 - loan_default_pivot['ratio_default']\n",
    "to_plot_def = loan_default_pivot[['state_id', 'ratio_default', 'ratio_no_default']]\n",
    "to_plot_def_melt = pd.melt(to_plot_def, id_vars='state_id', var_name='status', value_name='default_status_ratio')\n",
    "sns.barplot(x='state_id', y='default_status_ratio', data=to_plot_def_melt, hue='status');"
   ]
  },
  {
   "cell_type": "code",
   "execution_count": null,
   "metadata": {},
   "outputs": [],
   "source": [
    "#Distribution of Defaulters by Employment.Type\n",
    "emp_type_default_dist = loan_final.groupby(['employment_type', 'loan_default'])['unique_id'].count().reset_index()\n",
    "emp_type_default_dist.columns = ['employment_type', 'default_status', 'count']\n",
    "sns.barplot(x='employment_type', y='count', data=emp_type_default_dist, hue='default_status');"
   ]
  },
  {
   "cell_type": "code",
   "execution_count": null,
   "metadata": {},
   "outputs": [],
   "source": [
    "#Distribution of Defaulters by disbursed_amount and asset_type\n",
    "loan_final['disbursed_amount_range'] = pd.cut(loan_final['disbursed_amount'], 20)\n",
    "loan_final['asset_cost_range'] = pd.cut(loan_final['asset_cost'], 20)\n",
    "\n",
    "disb_amt_default_range_dist = loan_final.groupby(['disbursed_amount_range', 'loan_default'])['unique_id'].count().reset_index()\n",
    "disb_amt_default_range_dist.columns = ['disbursed_amount_range', 'default_status', 'count']\n",
    "\n",
    "asset_amt_default_range_dist = loan_final.groupby(['asset_cost_range', 'loan_default'])['unique_id'].count().reset_index()\n",
    "asset_amt_default_range_dist.columns = ['asset_cost_range', 'default_status', 'count']\n",
    "\n",
    "f, axes = plt.subplots(2, 2, figsize=(15, 8))\n",
    "plt.subplots_adjust(wspace=0.5, hspace=1.1)\n",
    "\n",
    "for ax in f.axes:\n",
    "    plt.sca(ax)\n",
    "    plt.xticks(rotation=90)\n",
    "    \n",
    "sns.distplot(loan_final['disbursed_amount'], bins=20, ax=axes[0][0]).set_title('Distribution of disbursed_amount_range')\n",
    "sns.barplot(x='disbursed_amount_range', y='count', hue='default_status', data=disb_amt_default_range_dist, ax=axes[0][1]).set_title('Bar Plot of disbursed_amount categories')\n",
    "sns.distplot(loan_final['asset_cost'], bins=20, ax=axes[1][0]).set_title('Distribution of asset_cost range')\n",
    "sns.barplot(x='asset_cost_range', y='count', hue='default_status', data=asset_amt_default_range_dist, ax=axes[1][1]).set_title('Bar Plot of asset_cost categories')"
   ]
  },
  {
   "cell_type": "markdown",
   "metadata": {},
   "source": [
    "# Generating Feature and Target Dataframes"
   ]
  },
  {
   "cell_type": "code",
   "execution_count": null,
   "metadata": {},
   "outputs": [],
   "source": [
    "#Develop feature and target dataframe\n",
    "model_frame = loan_final.loc[:,['disbursed_amount', 'asset_cost', 'ltv', 'branch_id', 'supplier_id', 'manufacturer_id', 'current_pincode_id', 'employment_type', 'state_id', 'age_at_disbursal', 'loan_default']]\n",
    "model_frame['employment_type'] = model_frame['employment_type'].astype('category')\n",
    "model_frame = pd.get_dummies(model_frame)\n",
    "X = model_frame.drop(['loan_default'], axis=1)\n",
    "Y = model_frame['loan_default']"
   ]
  },
  {
   "cell_type": "markdown",
   "metadata": {},
   "source": [
    "# Model Generation and Validation : KNN Classifier"
   ]
  },
  {
   "cell_type": "code",
   "execution_count": null,
   "metadata": {},
   "outputs": [],
   "source": [
    "#Model the dataframe using KNN Classifier\n",
    "def KNNClassifier(X,Y, random_state, test_size, neighbors):\n",
    "    X_train, X_test, Y_train, Y_test = train_test_split(X, Y, random_state=random_state, test_size=test_size)\n",
    "    knn = KNeighborsClassifier(n_neighbors=neighbors)\n",
    "    knn.fit(X_train, Y_train)\n",
    "    Y_pred = knn.predict(X_test)\n",
    "    \n",
    "    train_score = knn.score(X_train, Y_train)\n",
    "    test_score = knn.score(X_test, Y_test)\n",
    "    con_matrix = confusion_matrix(Y_test, Y_pred)\n",
    "    \n",
    "    return train_score, test_score, con_matrix"
   ]
  },
  {
   "cell_type": "code",
   "execution_count": null,
   "metadata": {},
   "outputs": [],
   "source": [
    "#KNN Model with random_state=0.9, test_size=0.2, neighbors=3\n",
    "tr_score, te_score, conf_mat = KNNClassifier(X, Y, 9, 0.2, 3)\n",
    "print(\"Training Score : {}\".format(tr_score))\n",
    "print(\"Test Score : {}\".format(te_score))\n",
    "print(\"Confusion Matrix : {}\".format(conf_mat))"
   ]
  },
  {
   "cell_type": "code",
   "execution_count": null,
   "metadata": {},
   "outputs": [],
   "source": [
    "#KNN Model with random_state=0.9, test_size=0.2, neighbors=5\n",
    "tr_score, te_score, conf_mat = KNNClassifier(X, Y, 9, 0.2, 5)\n",
    "print(\"Training Score : {}\".format(tr_score))\n",
    "print(\"Test Score : {}\".format(te_score))\n",
    "print(\"Confusion Matrix : {}\".format(conf_mat))"
   ]
  },
  {
   "cell_type": "code",
   "execution_count": null,
   "metadata": {},
   "outputs": [],
   "source": [
    "#KNN Model with random_state=0.9, test_size=0.2, neighbors=7\n",
    "tr_score, te_score, conf_mat = KNNClassifier(X, Y, 9, 0.2, 7)\n",
    "print(\"Training Score : {}\".format(tr_score))\n",
    "print(\"Test Score : {}\".format(te_score))\n",
    "print(\"Confusion Matrix : {}\".format(conf_mat))"
   ]
  },
  {
   "cell_type": "code",
   "execution_count": null,
   "metadata": {},
   "outputs": [],
   "source": [
    "#KNN Model with random_state=0.9, test_size=0.2, neighbors=9\n",
    "tr_score, te_score, conf_mat = KNNClassifier(X, Y, 9, 0.2, 9)\n",
    "print(\"Training Score : {}\".format(tr_score))\n",
    "print(\"Test Score : {}\".format(te_score))\n",
    "print(\"Confusion Matrix : {}\".format(conf_mat))"
   ]
  },
  {
   "cell_type": "code",
   "execution_count": null,
   "metadata": {},
   "outputs": [],
   "source": [
    "#KNN Model with random_state=0.9, test_size=0.2, neighbors=11\n",
    "tr_score, te_score, conf_mat = KNNClassifier(X, Y, 9, 0.2, 11)\n",
    "print(\"Training Score : {}\".format(tr_score))\n",
    "print(\"Test Score : {}\".format(te_score))\n",
    "print(\"Confusion Matrix : {}\".format(conf_mat))"
   ]
  },
  {
   "cell_type": "markdown",
   "metadata": {},
   "source": [
    "# Model Generation and Validation : Logistic Regression"
   ]
  },
  {
   "cell_type": "code",
   "execution_count": null,
   "metadata": {},
   "outputs": [],
   "source": [
    "#Model the dataframe using Logistic Regression \n",
    "def Logistic_Regression(X, Y, random_state, test_size):\n",
    "    X_train, X_test, Y_train, Y_test = train_test_split(X, Y, random_state=random_state, test_size=test_size)\n",
    "    \n",
    "    #Specifying value of solver to suppress FutureWarning\n",
    "    #Ref: https://machinelearningmastery.com/how-to-fix-futurewarning-messages-in-scikit-learn/\n",
    "    logit = LogisticRegression(solver='liblinear')\n",
    "    logit.fit(X_train, Y_train)\n",
    "    Y_pred = logit.predict(X_test)\n",
    "    \n",
    "    train_score = logit.score(X_train, Y_train)\n",
    "    test_score = logit.score(X_test, Y_test)\n",
    "    con_matrix = confusion_matrix(Y_test, Y_pred)\n",
    "    \n",
    "    return train_score, test_score, con_matrix"
   ]
  },
  {
   "cell_type": "code",
   "execution_count": null,
   "metadata": {},
   "outputs": [],
   "source": [
    "#Logistic Regression Model with random_state=9, test_size=0.2\n",
    "tr_score, te_score, conf_mat = Logistic_Regression(X, Y, 9, 0.2)\n",
    "print(\"Training Score : {}\".format(tr_score))\n",
    "print(\"Test Score : {}\".format(te_score))\n",
    "print(\"Confusion Matrix : {}\".format(conf_mat))"
   ]
  }
 ],
 "metadata": {
  "kernelspec": {
   "display_name": "Python 3",
   "language": "python",
   "name": "python3"
  },
  "language_info": {
   "codemirror_mode": {
    "name": "ipython",
    "version": 3
   },
   "file_extension": ".py",
   "mimetype": "text/x-python",
   "name": "python",
   "nbconvert_exporter": "python",
   "pygments_lexer": "ipython3",
   "version": "3.7.4"
  }
 },
 "nbformat": 4,
 "nbformat_minor": 2
}
