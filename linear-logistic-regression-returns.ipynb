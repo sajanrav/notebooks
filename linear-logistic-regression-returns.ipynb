{
 "cells": [
  {
   "cell_type": "markdown",
   "id": "34ba47e1",
   "metadata": {},
   "source": [
    "#### Apply linear and logistic regression models on rolling returns and its moments "
   ]
  },
  {
   "cell_type": "code",
   "execution_count": 31,
   "id": "4311f332",
   "metadata": {},
   "outputs": [],
   "source": [
    "import pandas as pd\n",
    "import numpy as np \n",
    "import yfinance as yf \n",
    "from sklearn.linear_model import LinearRegression, LogisticRegression \n",
    "from sklearn.model_selection import train_test_split \n",
    "from sklearn.metrics import mean_squared_error, r2_score, accuracy_score, confusion_matrix \n",
    "import matplotlib.pyplot as plt \n",
    "%matplotlib inline "
   ]
  },
  {
   "cell_type": "code",
   "execution_count": 32,
   "id": "488661bc",
   "metadata": {},
   "outputs": [],
   "source": [
    "def get_df(values_df, ret_type, window, forward):\n",
    "    ret_df = values_df.pct_change().dropna(axis=0, how='any').reset_index(drop=True).rename(columns={'prices':'returns'})\n",
    "    ret_df['mean_rolling_rets'] = ret_df['returns'].rolling(window=window).mean()\n",
    "    ret_df['std_rolling_rets']  = ret_df['returns'].rolling(window=window).std()\n",
    "    ret_df['skew_rolling_rets'] = ret_df['returns'].rolling(window=window).skew()\n",
    "    ret_df['kurt_rolling_rets'] = ret_df['returns'].rolling(window=window).kurt()\n",
    "    ret_df = ret_df.dropna(axis=0, how='any').reset_index(drop=True)\n",
    "    if ret_type == 'fwd_rets': \n",
    "        ret_df['result'] = ret_df['returns'].shift(forward)/ret_df['returns'] - 1 \n",
    "    elif ret_type == 'flag':\n",
    "        ret_df['result'] = np.where(ret_df['returns'].shift(forward) >= ret_df['returns'], 1, 0)\n",
    "    else:\n",
    "        return None \n",
    "    \n",
    "    ret_df = ret_df.iloc[forward:, :].reset_index(drop=True)\n",
    "    \n",
    "    return ret_df"
   ]
  },
  {
   "cell_type": "code",
   "execution_count": 33,
   "id": "3f69fb91",
   "metadata": {},
   "outputs": [],
   "source": [
    "def apply_lin_regr_model(values_df, sample): \n",
    "    X, Y = values_df.drop(['result'], axis=1), values_df['result'].copy()\n",
    "    train_param_df, test_param_df, train_result_df, test_result_df = train_test_split(X, Y, test_size=sample, random_state=1)\n",
    "    \n",
    "    print(\"Test Sample Size : {}\".format(sample))\n",
    "    print(\"Training set (param/result): {} {}\".format(len(train_param_df), len(train_result_df)))\n",
    "    print(\"Testing set (param/result): {} {}\".format(len(test_param_df), len(test_result_df)))\n",
    "    \n",
    "    train_param_df  = train_param_df.replace([-np.inf, np.inf], np.nan).fillna(0)\n",
    "    test_param_df   = test_param_df.replace([-np.inf, np.inf], np.nan).fillna(0)\n",
    "    train_result_df = train_result_df.replace([-np.inf, np.inf], np.nan).fillna(0)\n",
    "    test_result_df  = test_result_df.replace([-np.inf, np.inf], np.nan).fillna(0)\n",
    "    \n",
    "    lr_m = LinearRegression()\n",
    "    lr_m.fit(train_param_df, train_result_df)\n",
    "    result_df = pd.DataFrame({'pred_result':lr_m.predict(test_param_df)})\n",
    "    result_df['test_result'] = test_result_df.tolist()\n",
    "    result_df = result_df[['test_result', 'pred_result']]\n",
    "    result_df.plot(x='test_result', y='pred_result', kind='scatter', grid=True, title='Scatter plot - Actual/Predicted')\n",
    "    \n",
    "    return round(mean_squared_error(result_df['test_result'], result_df['pred_result']), 4), round(r2_score(result_df['test_result'], result_df['pred_result']), 4)"
   ]
  },
  {
   "cell_type": "code",
   "execution_count": 34,
   "id": "d327a601",
   "metadata": {},
   "outputs": [],
   "source": [
    "def apply_log_regr_model(values_df, sample):\n",
    "    X, Y = values_df.drop(['result'], axis=1), values_df['result'].copy()\n",
    "    train_param_df, test_param_df, train_result_df, test_result_df = train_test_split(X, Y, test_size=sample, random_state=1)\n",
    "    \n",
    "    print(\"Test Sample Size : {}\".format(sample))\n",
    "    print(\"Training set (param/result): {} {}\".format(len(train_param_df), len(train_result_df)))\n",
    "    print(\"Testing set (param/result): {} {}\".format(len(test_param_df), len(test_result_df)))\n",
    "    \n",
    "    train_param_df  = train_param_df.replace([-np.inf, np.inf], np.nan).fillna(0)\n",
    "    test_param_df   = test_param_df.replace([-np.inf, np.inf], np.nan).fillna(0)\n",
    "    train_result_df = train_result_df.replace([-np.inf, np.inf], np.nan).fillna(0)\n",
    "    test_result_df  = test_result_df.replace([-np.inf, np.inf], np.nan).fillna(0)\n",
    "    \n",
    "    lg_m = LogisticRegression()\n",
    "    lg_m.fit(train_param_df, train_result_df)\n",
    "    result_df = pd.DataFrame({'pred_result': lg_m.predict(test_param_df)})\n",
    "    result_df['test_result'] = test_result_df.tolist() \n",
    "    result_df = result_df[['test_result', 'pred_result']]\n",
    "    \n",
    "    return round(accuracy_score(result_df['test_result'], result_df['pred_result']), 4), confusion_matrix(result_df['test_result'], result_df['pred_result'])\n",
    "    \n",
    "    "
   ]
  },
  {
   "cell_type": "code",
   "execution_count": 35,
   "id": "b2dc2779",
   "metadata": {},
   "outputs": [],
   "source": [
    "def return_random_values(size=100):\n",
    "    values_df = pd.DataFrame({'prices': np.random.randint(10, 100, size=size)})\n",
    "    \n",
    "    return values_df"
   ]
  },
  {
   "cell_type": "code",
   "execution_count": 36,
   "id": "2448d066",
   "metadata": {},
   "outputs": [],
   "source": [
    "def return_price_values(symbol, start_date, end_date):\n",
    "    df = yf.download(symbol, start_date, end_date)\n",
    "    adj_closes = df['Adj Close'].copy() \n",
    "    adj_closes = adj_closes.to_frame().rename(columns={'Adj Close':'prices'})\n",
    "    \n",
    "    return adj_closes "
   ]
  },
  {
   "cell_type": "code",
   "execution_count": 37,
   "id": "c1395ce1",
   "metadata": {},
   "outputs": [],
   "source": [
    "def calc(*args):\n",
    "    arg_values = [ arg for arg in args ]\n",
    "    if arg_values[0] == 'random':\n",
    "        data_type = arg_values[1]\n",
    "        values_df = return_random_values(size=arg_values[2])\n",
    "        test_size, window, forward = arg_values[3], arg_values[4], arg_values[5]\n",
    "\n",
    "    elif arg_values[0] == 'symbol':\n",
    "        data_type = arg_values[1]\n",
    "        symbol, start_date, end_date = arg_values[2], arg_values[3], arg_values[4]\n",
    "        values_df = return_price_values(symbol, start_date, end_date)\n",
    "        test_size, window, forward = arg_values[5], arg_values[6], arg_values[7]\n",
    "    else:\n",
    "        print(\"Incorrect Parameters\")\n",
    "        return False\n",
    " \n",
    "    values_df = get_df(values_df, data_type, window, forward)\n",
    "    if len(values_df):\n",
    "        print(\"Length of the dataframe: {}\".format(len(values_df)))\n",
    "        if data_type == 'fwd_rets': \n",
    "            mean_sq_err, r2_err = apply_lin_regr_model(values_df, test_size)\n",
    "            print(\"Mean Square Error: {}, R2 Error : {}\".format(mean_sq_err, r2_err))\n",
    "        elif data_type == 'flag': \n",
    "            acc_score, confusion_matrix = apply_log_regr_model(values_df, test_size)\n",
    "            print(\"Accuracy Score : {}\".format(acc_score)) \n",
    "            print(confusion_matrix)\n",
    "        else:\n",
    "            print(\"Incorrect data_type value for model specification\")\n",
    "        \n",
    "    return True"
   ]
  },
  {
   "cell_type": "code",
   "execution_count": 45,
   "id": "ae02d5b1",
   "metadata": {},
   "outputs": [
    {
     "name": "stdout",
     "output_type": "stream",
     "text": [
      "Length of the dataframe: 980\n",
      "Test Sample Size : 0.25\n",
      "Training set (param/result): 735 735\n",
      "Testing set (param/result): 245 245\n",
      "Mean Square Error: 234.6797, R2 Error : -0.0321\n"
     ]
    },
    {
     "data": {
      "text/plain": [
       "True"
      ]
     },
     "execution_count": 45,
     "metadata": {},
     "output_type": "execute_result"
    },
    {
     "data": {
      "image/png": "[encoded data removed]",
      "text/plain": [
       "<Figure size 432x288 with 1 Axes>"
      ]
     },
     "metadata": {
      "needs_background": "light"
     },
     "output_type": "display_data"
    }
   ],
   "source": [
    "calc('random', 'fwd_rets', 1000, 0.25, 10, 10)"
   ]
  },
  {
   "cell_type": "code",
   "execution_count": 39,
   "id": "41daa531",
   "metadata": {},
   "outputs": [
    {
     "name": "stdout",
     "output_type": "stream",
     "text": [
      "[*********************100%***********************]  1 of 1 completed\n",
      "Length of the dataframe: 1608\n",
      "Test Sample Size : 0.25\n",
      "Training set (param/result): 1206 1206\n",
      "Testing set (param/result): 402 402\n",
      "Mean Square Error: 667.4222, R2 Error : -0.0104\n"
     ]
    },
    {
     "data": {
      "text/plain": [
       "True"
      ]
     },
     "execution_count": 39,
     "metadata": {},
     "output_type": "execute_result"
    },
    {
     "data": {
      "image/png": "[encoded data removed]",
      "text/plain": [
       "<Figure size 432x288 with 1 Axes>"
      ]
     },
     "metadata": {
      "needs_background": "light"
     },
     "output_type": "display_data"
    }
   ],
   "source": [
    "calc('symbol', 'fwd_rets', 'AAPL', '2015-01-01', '2021-06-20', 0.25, 10, 10)"
   ]
  },
  {
   "cell_type": "code",
   "execution_count": 40,
   "id": "5dd3bf10",
   "metadata": {},
   "outputs": [
    {
     "name": "stdout",
     "output_type": "stream",
     "text": [
      "[*********************100%***********************]  1 of 1 completed\n",
      "Length of the dataframe: 1613\n",
      "Test Sample Size : 0.25\n",
      "Training set (param/result): 1209 1209\n",
      "Testing set (param/result): 404 404\n",
      "Mean Square Error: 138.115, R2 Error : 0.0026\n"
     ]
    },
    {
     "data": {
      "text/plain": [
       "True"
      ]
     },
     "execution_count": 40,
     "metadata": {},
     "output_type": "execute_result"
    },
    {
     "data": {
      "image/png": "[encoded data removed]",
      "text/plain": [
       "<Figure size 432x288 with 1 Axes>"
      ]
     },
     "metadata": {
      "needs_background": "light"
     },
     "output_type": "display_data"
    }
   ],
   "source": [
    "calc('symbol', 'fwd_rets', 'AAPL', '2015-01-01', '2021-06-20', 0.25, 10, 5)"
   ]
  },
  {
   "cell_type": "code",
   "execution_count": 41,
   "id": "a190f788",
   "metadata": {},
   "outputs": [
    {
     "name": "stdout",
     "output_type": "stream",
     "text": [
      "[*********************100%***********************]  1 of 1 completed\n",
      "Length of the dataframe: 1608\n",
      "Test Sample Size : 0.25\n",
      "Training set (param/result): 1206 1206\n",
      "Testing set (param/result): 402 402\n",
      "Accuracy Score : 0.602\n",
      "[[ 50 152]\n",
      " [  8 192]]\n"
     ]
    },
    {
     "data": {
      "text/plain": [
       "True"
      ]
     },
     "execution_count": 41,
     "metadata": {},
     "output_type": "execute_result"
    }
   ],
   "source": [
    "calc('symbol', 'flag', 'AAPL', '2015-01-01', '2021-06-20', 0.25, 10, 10)"
   ]
  },
  {
   "cell_type": "code",
   "execution_count": 42,
   "id": "14155641",
   "metadata": {},
   "outputs": [
    {
     "name": "stdout",
     "output_type": "stream",
     "text": [
      "[*********************100%***********************]  1 of 1 completed\n",
      "Length of the dataframe: 1613\n",
      "Test Sample Size : 0.25\n",
      "Training set (param/result): 1209 1209\n",
      "Testing set (param/result): 404 404\n",
      "Accuracy Score : 0.6931\n",
      "[[151  51]\n",
      " [ 73 129]]\n"
     ]
    },
    {
     "data": {
      "text/plain": [
       "True"
      ]
     },
     "execution_count": 42,
     "metadata": {},
     "output_type": "execute_result"
    }
   ],
   "source": [
    "calc('symbol', 'flag', 'AAPL', '2015-01-01', '2021-06-20', 0.25, 10, 5)"
   ]
  },
  {
   "cell_type": "code",
   "execution_count": 43,
   "id": "dbd1cc3a",
   "metadata": {},
   "outputs": [
    {
     "name": "stdout",
     "output_type": "stream",
     "text": [
      "[*********************100%***********************]  1 of 1 completed\n",
      "Length of the dataframe: 1608\n",
      "Test Sample Size : 0.25\n",
      "Training set (param/result): 1206 1206\n",
      "Testing set (param/result): 402 402\n",
      "Accuracy Score : 0.5771\n",
      "[[148  43]\n",
      " [127  84]]\n"
     ]
    },
    {
     "data": {
      "text/plain": [
       "True"
      ]
     },
     "execution_count": 43,
     "metadata": {},
     "output_type": "execute_result"
    }
   ],
   "source": [
    "calc('symbol', 'flag', 'MSFT', '2015-01-01', '2021-06-20', 0.25, 10, 10)"
   ]
  },
  {
   "cell_type": "code",
   "execution_count": 44,
   "id": "2bbaba43",
   "metadata": {},
   "outputs": [
    {
     "name": "stdout",
     "output_type": "stream",
     "text": [
      "[*********************100%***********************]  1 of 1 completed\n",
      "Length of the dataframe: 1613\n",
      "Test Sample Size : 0.25\n",
      "Training set (param/result): 1209 1209\n",
      "Testing set (param/result): 404 404\n",
      "Accuracy Score : 0.6386\n",
      "[[158  34]\n",
      " [112 100]]\n"
     ]
    },
    {
     "data": {
      "text/plain": [
       "True"
      ]
     },
     "execution_count": 44,
     "metadata": {},
     "output_type": "execute_result"
    }
   ],
   "source": [
    "calc('symbol', 'flag', 'MSFT', '2015-01-01', '2021-06-20', 0.25, 10, 5)"
   ]
  }
 ],
 "metadata": {
  "kernelspec": {
   "display_name": "Python 3",
   "language": "python",
   "name": "python3"
  },
  "language_info": {
   "codemirror_mode": {
    "name": "ipython",
    "version": 3
   },
   "file_extension": ".py",
   "mimetype": "text/x-python",
   "name": "python",
   "nbconvert_exporter": "python",
   "pygments_lexer": "ipython3",
   "version": "3.6.9"
  }
 },
 "nbformat": 4,
 "nbformat_minor": 5
}
