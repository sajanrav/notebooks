{
 "cells": [
  {
   "cell_type": "code",
   "execution_count": 2,
   "metadata": {},
   "outputs": [],
   "source": [
    "import math"
   ]
  },
  {
   "cell_type": "code",
   "execution_count": 3,
   "metadata": {},
   "outputs": [
    {
     "data": {
      "text/plain": [
       "(23, 233168)"
      ]
     },
     "execution_count": 3,
     "metadata": {},
     "output_type": "execute_result"
    }
   ],
   "source": [
    "def find_sum(x):\n",
    "    mult = [ val for val in range(1, x) if ( val % 3 == 0 ) or ( val % 5 == 0 ) ]\n",
    "    return sum(mult)\n",
    "\n",
    "find_sum(10), find_sum(1000)"
   ]
  },
  {
   "cell_type": "code",
   "execution_count": 19,
   "metadata": {},
   "outputs": [
    {
     "data": {
      "text/plain": [
       "4613732"
      ]
     },
     "execution_count": 19,
     "metadata": {},
     "output_type": "execute_result"
    }
   ],
   "source": [
    "def fibonacci(x):\n",
    "    first = 1\n",
    "    second = 2\n",
    "    result = first + second\n",
    "    numbers = [first, second, result]\n",
    "    \n",
    "    while result <= x:\n",
    "        first = second\n",
    "        second = result\n",
    "        result = first + second\n",
    "        if result <= x:\n",
    "            numbers.append(result)\n",
    "\n",
    "    sum_even = sum([ val for val in numbers if val % 2 == 0 ])\n",
    "    \n",
    "    return sum_even\n",
    "\n",
    "fibonacci(4000000)"
   ]
  },
  {
   "cell_type": "code",
   "execution_count": null,
   "metadata": {},
   "outputs": [],
   "source": [
    "def isprime(x):\n",
    "    values = [ 1 for val in range(2, math.floor(x/2)) if x % val == 0 ]\n",
    "    b_prime = 1 if sum(values) == 0 else 0\n",
    "    return b_prime\n",
    "\n",
    "def largest_prime_factor(num):\n",
    "    primes = [ val for val in range(2, math.floor(num/2)) if (isprime(val) == 1) & (num % val == 0) ]\n",
    "    return max(primes)\n",
    "\n",
    "largest_prime_factor(600851475143)"
   ]
  },
  {
   "cell_type": "code",
   "execution_count": 21,
   "metadata": {},
   "outputs": [
    {
     "data": {
      "text/plain": [
       "(913, 993, 906609)"
      ]
     },
     "execution_count": 21,
     "metadata": {},
     "output_type": "execute_result"
    }
   ],
   "source": [
    "def is_palindrome(x):\n",
    "    x = str(x)\n",
    "    tot = len(x)\n",
    "    l = math.floor(len(x)/2)\n",
    "    first = x[:l]\n",
    "    if tot % 2 == 0:\n",
    "        second = x[l:]\n",
    "    else:\n",
    "        second = x[l+1:]\n",
    "    \n",
    "    second_list = [ val for val in second ]\n",
    "    second_list.reverse()\n",
    "    second = ''.join(second_list)\n",
    "        \n",
    "    if first == second:\n",
    "        return True\n",
    "    else:\n",
    "        return False\n",
    "\n",
    "def find_largest():\n",
    "    highest = 0\n",
    "    val1 = 0\n",
    "    val2 = 0\n",
    "    for i in range(100, 1000):\n",
    "        for j in range(100, 1000):\n",
    "            num = i * j\n",
    "            if is_palindrome(num):\n",
    "                if num > highest:\n",
    "                    highest = num\n",
    "                    val1 = i\n",
    "                    val2 = j\n",
    "                    \n",
    "    return val1, val2, val1*val2\n",
    "                    \n",
    "find_largest()"
   ]
  },
  {
   "cell_type": "code",
   "execution_count": 2,
   "metadata": {},
   "outputs": [
    {
     "data": {
      "text/plain": [
       "232792560"
      ]
     },
     "execution_count": 2,
     "metadata": {},
     "output_type": "execute_result"
    }
   ],
   "source": [
    "def small_mult(x):\n",
    "    nums = [ val for val in range(1, x+1) ]\n",
    "    number = x + 1\n",
    "    while 1:\n",
    "        if_mult = [ 1 for val in nums if number % val == 0 ]\n",
    "        if sum(if_mult) == x:\n",
    "            return number\n",
    "        else:\n",
    "            number += 1\n",
    "            \n",
    "small_mult(20)"
   ]
  },
  {
   "cell_type": "code",
   "execution_count": 6,
   "metadata": {},
   "outputs": [
    {
     "data": {
      "text/plain": [
       "25164150"
      ]
     },
     "execution_count": 6,
     "metadata": {},
     "output_type": "execute_result"
    }
   ],
   "source": [
    "def diff_in_squares(x):\n",
    "    sq = [ pow(val, 2) for val in range(1, x+1)]\n",
    "    num = [ val for val in range(1, x+1) ]\n",
    "    return pow(sum(num), 2) - sum(sq)\n",
    "\n",
    "diff_in_squares(100)"
   ]
  },
  {
   "cell_type": "code",
   "execution_count": 6,
   "metadata": {},
   "outputs": [
    {
     "data": {
      "text/plain": [
       "104743"
      ]
     },
     "execution_count": 6,
     "metadata": {},
     "output_type": "execute_result"
    }
   ],
   "source": [
    "def return_prime(x):\n",
    "    num = 2\n",
    "    count = 0\n",
    "    while 1:\n",
    "        div = [ 1 for val in range(2, math.floor(num/2)) if num % val == 0 ]\n",
    "        if sum(div) == 0:\n",
    "            if count == x:\n",
    "                return num\n",
    "            else:\n",
    "                num += 1\n",
    "                count += 1\n",
    "                continue\n",
    "        else:\n",
    "            num += 1\n",
    "            continue\n",
    "            \n",
    "return_prime(10001)"
   ]
  },
  {
   "cell_type": "code",
   "execution_count": 27,
   "metadata": {},
   "outputs": [
    {
     "data": {
      "text/plain": [
       "('5576689664895', 23514624000)"
      ]
     },
     "execution_count": 27,
     "metadata": {},
     "output_type": "execute_result"
    }
   ],
   "source": [
    "from functools import reduce\n",
    "num = \"73167176531330624919225119674426574742355349194934\\\n",
    "    96983520312774506326239578318016984801869478851843\\\n",
    "    85861560789112949495459501737958331952853208805511\\\n",
    "    12540698747158523863050715693290963295227443043557\\\n",
    "    66896648950445244523161731856403098711121722383113\\\n",
    "    62229893423380308135336276614282806444486645238749\\\n",
    "    30358907296290491560440772390713810515859307960866\\\n",
    "    70172427121883998797908792274921901699720888093776\\\n",
    "    65727333001053367881220235421809751254540594752243\\\n",
    "    52584907711670556013604839586446706324415722155397\\\n",
    "    53697817977846174064955149290862569321978468622482\\\n",
    "    83972241375657056057490261407972968652414535100474\\\n",
    "    82166370484403199890008895243450658541227588666881\\\n",
    "    16427171479924442928230863465674813919123162824586\\\n",
    "    17866458359124566529476545682848912883142607690042\\\n",
    "    24219022671055626321111109370544217506941658960408\\\n",
    "    07198403850962455444362981230987879927244284909188\\\n",
    "    84580156166097919133875499200524063689912560717606\\\n",
    "    05886116467109405077541002256983155200055935729725\\\n",
    "    71636269561882670428252483600823257530420752963450\"\n",
    "    \n",
    "def max_prod(size):\n",
    "    numbers = num.replace('  ','')\n",
    "    parts = [ numbers[ind:ind+size] for ind in range(0, len(numbers)+1) ]\n",
    "    parts = [ val for val in parts if val != '']\n",
    "    max_p = 1\n",
    "    large_part = ''\n",
    "       \n",
    "    for part in parts:\n",
    "        if len(part) == size:\n",
    "            nums = [ int(part[ind]) for ind in range(0, len(part))]\n",
    "            prod = 1\n",
    "            for i in nums:\n",
    "                prod = prod * i\n",
    "            if prod > max_p:\n",
    "                large_part = part\n",
    "                max_p = prod\n",
    "                \n",
    "    return large_part, max_p  \n",
    "    \n",
    "max_prod(13)\n"
   ]
  },
  {
   "cell_type": "code",
   "execution_count": 11,
   "metadata": {},
   "outputs": [
    {
     "data": {
      "text/plain": [
       "(31875000, 200, 375, 425)"
      ]
     },
     "execution_count": 11,
     "metadata": {},
     "output_type": "execute_result"
    }
   ],
   "source": [
    "def get_prod():\n",
    "    for a in range(1, 1001):\n",
    "        for b in range(a+1, 1001):\n",
    "            for c in range(b+1, 1001):\n",
    "                if ((a+b+c) == 1000) & (a < b) & (b < c):\n",
    "                    if math.pow(a,2) + math.pow(b,2) == math.pow(c, 2):\n",
    "                        return a*b*c, a, b, c\n",
    "                    \n",
    "get_prod()"
   ]
  },
  {
   "cell_type": "code",
   "execution_count": null,
   "metadata": {},
   "outputs": [],
   "source": [
    "def find_prime_sum(limit):\n",
    "    prime_sum = []\n",
    "    for val in range(2, limit+1):\n",
    "        not_prime = False\n",
    "        for v in range(2, val):\n",
    "            if val % v == 0:\n",
    "                not_prime = True\n",
    "                break\n",
    "                \n",
    "        if not_prime == False:\n",
    "            prime_sum.append(val)\n",
    "        \n",
    "    return sum(prime_sum), len(prime_sum)\n",
    "\n",
    "find_prime_sum(20000) "
   ]
  },
  {
   "cell_type": "code",
   "execution_count": null,
   "metadata": {},
   "outputs": [],
   "source": []
  }
 ],
 "metadata": {
  "kernelspec": {
   "display_name": "Python 3",
   "language": "python",
   "name": "python3"
  },
  "language_info": {
   "codemirror_mode": {
    "name": "ipython",
    "version": 3
   },
   "file_extension": ".py",
   "mimetype": "text/x-python",
   "name": "python",
   "nbconvert_exporter": "python",
   "pygments_lexer": "ipython3",
   "version": "3.7.0"
  }
 },
 "nbformat": 4,
 "nbformat_minor": 2
}
