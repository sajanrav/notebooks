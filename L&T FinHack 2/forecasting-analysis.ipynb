{
 "cells": [
  {
   "cell_type": "markdown",
   "metadata": {},
   "source": [
    "<b>Problem Statement</b>\n",
    "\n",
    "This problem was done as a part of L&T FinHack 2 conducted by Analytics Vidya in January, 2020.\n",
    "\n",
    "You have been appointed with the task of forecasting daily cases for next 3 months for 2 different business segments\n",
    "aggregated at the country level keeping in consideration the following major Indian festivals (inclusive but not exhaustive\n",
    "list): Diwali, Dussehra, Ganesh Chaturthi, Navratri, Holi etc. (You are free to use any publicly available open source external\n",
    "datasets). Some other examples could be:\n",
    "\n",
    "1. Weather \n",
    "2. Macroeconomic variables \n",
    "\n",
    "Note that the external dataset must belong to a reliable source.The train data has been provided in the following way:\n",
    "\n",
    "For business segment 1, historical data has been made available at branch ID level \n",
    "For business segment 2, historical data has been made available at State level.\n",
    "\n",
    "<b>Train File Variable Definition:</b>\n",
    "1. application_date : Date of application segment \n",
    "2. segment : Business Segment (1/2) \n",
    "3. branch_id : Anonymised id for branch at which application was received \n",
    "4. state : State in which application was received (Karnataka, MP etc.) \n",
    "5. zone : Zone of state in which application was received (Central, East etc.) \n",
    "6. case_count (Target) : Number of cases/applications received\n",
    "\n",
    "<b>Testing file Variable Definition:</b>\n",
    "1. id : Unique id for each sample in test set \n",
    "2. application_date : Date of application \n",
    "3. segment : Business Segment (1/2)\n",
    "\n",
    "Forecasting needs to be done at country level for the dates provided in test set for each segment.\n"
   ]
  },
  {
   "cell_type": "markdown",
   "metadata": {},
   "source": [
    "### Import libraries"
   ]
  },
  {
   "cell_type": "code",
   "execution_count": 1,
   "metadata": {
    "collapsed": true
   },
   "outputs": [],
   "source": [
    "import pandas as pd\n",
    "from datetime import datetime, time, date, timedelta\n",
    "import numpy as np\n",
    "import matplotlib.pyplot as plt\n",
    "from sklearn import linear_model\n",
    "from sklearn.metrics import mean_squared_error, r2_score"
   ]
  },
  {
   "cell_type": "markdown",
   "metadata": {},
   "source": [
    "### Initializing variables with training and test file names"
   ]
  },
  {
   "cell_type": "code",
   "execution_count": null,
   "metadata": {},
   "outputs": [],
   "source": [
    "train_file            = 'train_file.csv'\n",
    "test_file             = 'test_file.csv'\n",
    "output_predicted_file = 'test_predict_file.csv'"
   ]
  },
  {
   "cell_type": "markdown",
   "metadata": {},
   "source": [
    "### Initializing dictionary with holidays for 4 years. "
   ]
  },
  {
   "cell_type": "code",
   "execution_count": 3,
   "metadata": {
    "collapsed": true
   },
   "outputs": [],
   "source": [
    "#The dates were taken from the website - https://www.india-briefing.com/\n",
    "holidays = { 2017: {'holi': '20170313' , 'muharram': '20171001', 'dussehra': '20170930', 'diwali': '20171019', 'christmas': '20171225'},\n",
    "             2018: {'holi': '20180302' , 'muharram': '20180921', 'dussehra': '20181019', 'diwali': '20181107', 'christmas': '20181225'},\n",
    "             2019: {'holi': '20190321' , 'muharram': '20190910', 'dussehra': '20191008', 'diwali': '20191027', 'christmas': '20191225'},\n",
    "             2020: {'holi': '20200310' , 'muharram': '20200830', 'dussehra': '20201025', 'diwali': '20201114', 'christmas': '20201225'},\n",
    "           }"
   ]
  },
  {
   "cell_type": "markdown",
   "metadata": {},
   "source": [
    "### Various function definitions"
   ]
  },
  {
   "cell_type": "code",
   "execution_count": 4,
   "metadata": {
    "collapsed": true
   },
   "outputs": [],
   "source": [
    "def public_data_df():\n",
    "    '''\n",
    "    Function to create dataframe by merging data from \n",
    "    different public datasets.\n",
    "    \n",
    "    args:\n",
    "    None\n",
    "    \n",
    "    except:\n",
    "    None\n",
    "    \n",
    "    returns:\n",
    "    cpi(pandas dataframe) : Pandas dataframe with Consumer Price Index(CPI) values\n",
    "    sp(pandas dataframe)  : Pandas dataframe with Share Prices(SP) values\n",
    "    bci(pandas dataframe) : Pandas dataframe with Business Confidence Index(BCI) values\n",
    "    cli(pandas dataframe) : Pandas dataframe with Composite Lead Indicator(CLI) values\n",
    "    ltir(pandas dataframe): Pandas dataframe with Long Term Interest Rate(LTIR) values\n",
    "    wpi(pandas dataframe) : Pandas dataframe with Wholesale Price Index(WPI) values\n",
    "    \n",
    "    '''\n",
    "    \n",
    "    cpi  = pd.read_csv('raw_datasets/consumer_price_index.csv')\n",
    "    sp   = pd.read_csv('raw_datasets/share_prices.csv')\n",
    "    bci  = pd.read_csv('raw_datasets/business_confidence_index.csv')\n",
    "    cli  = pd.read_csv('raw_datasets/composite_leading_indicator.csv')\n",
    "    ltir = pd.read_csv('raw_datasets/long_term_interest_rates.csv')\n",
    "    wpi  = pd.read_csv('raw_datasets/wholesale_price_index.csv')\n",
    "    \n",
    "    cpi = cpi[['Year', 'Month', 'Value']]\n",
    "    cpi.columns = ['application_year', 'application_month','cpi']\n",
    "    cpi['cpi-3m-mean']    = cpi['cpi'].rolling(window=3).mean()\n",
    "    cpi['cpi-3m-std']     = cpi['cpi'].rolling(window=3).std()\n",
    "    cpi['cpi-6m-mean']    = cpi['cpi'].rolling(window=6).mean()\n",
    "    cpi['cpi-6m-std']     = cpi['cpi'].rolling(window=6).std()\n",
    "    cpi['cpi-12m-mean']   = cpi['cpi'].rolling(window=12).mean()\n",
    "    cpi['cpi-12m-std']    = cpi['cpi'].rolling(window=12).std()\n",
    "    cpi['cpi-6m-excess']  = cpi['cpi-6m-mean'] / cpi['cpi-6m-std']\n",
    "    cpi['cpi-12m-excess'] = cpi['cpi-12m-mean'] / cpi['cpi-12m-std']\n",
    "    \n",
    "    sp = sp[['Year', 'Month', 'Value']]\n",
    "    sp.columns=['application_year', 'application_month','sp']\n",
    "    sp['sp-3m-mean']    = sp['sp'].rolling(window=3).mean()\n",
    "    sp['sp-3m-std']     = sp['sp'].rolling(window=3).std()\n",
    "    sp['sp-6m-mean']    = sp['sp'].rolling(window=6).mean()\n",
    "    sp['sp-6m-std']     = sp['sp'].rolling(window=6).std()\n",
    "    sp['sp-12m-mean']   = sp['sp'].rolling(window=12).mean()\n",
    "    sp['sp-12m-std']    = sp['sp'].rolling(window=12).std()\n",
    "    sp['sp-6m-excess']  = sp['sp-6m-mean'] / sp['sp-6m-std']\n",
    "    sp['sp-12m-excess'] = sp['sp-12m-mean'] / sp['sp-12m-std']\n",
    "    \n",
    "    bci = bci[['Year', 'Month', 'Value']]\n",
    "    bci.columns=['application_year', 'application_month', 'bci']\n",
    "    bci['bci-3m-mean']    = bci['bci'].rolling(window=3).mean()\n",
    "    bci['bci-3m-std']     = bci['bci'].rolling(window=3).std()\n",
    "    bci['bci-6m-mean']    = bci['bci'].rolling(window=6).mean()\n",
    "    bci['bci-6m-std']     = bci['bci'].rolling(window=6).std()\n",
    "    bci['bci-12m-mean']   = bci['bci'].rolling(window=12).mean()\n",
    "    bci['bci-12m-std']    = bci['bci'].rolling(window=12).std()\n",
    "    bci['bci-6m-excess']  = bci['bci-6m-mean'] / bci['bci-6m-std']\n",
    "    bci['bci-12m-excess'] = bci['bci-12m-mean'] / bci['bci-12m-std']\n",
    "    \n",
    "    cli = cli[['Year', 'Month', 'Value']]\n",
    "    cli.columns=['application_year', 'application_month','cli']\n",
    "    cli['cli-3m-mean']    = cli['cli'].rolling(window=3).mean()\n",
    "    cli['cli-3m-std']     = cli['cli'].rolling(window=3).std()\n",
    "    cli['cli-6m-mean']    = cli['cli'].rolling(window=6).mean()\n",
    "    cli['cli-6m-std']     = cli['cli'].rolling(window=6).std()\n",
    "    cli['cli-12m-mean']   = cli['cli'].rolling(window=12).mean()\n",
    "    cli['cli-12m-std']    = cli['cli'].rolling(window=12).std()\n",
    "    cli['cli-6m-excess']  = cli['cli-6m-mean'] / cli['cli-6m-std']\n",
    "    cli['cli-12m-excess'] = cli['cli-12m-mean'] / cli['cli-12m-std']\n",
    "    \n",
    "    ltir = ltir[['Year', 'Month', 'Value']]\n",
    "    ltir.columns=['application_year', 'application_month','ltir']\n",
    "    ltir['ltir-3m-mean']    = ltir['ltir'].rolling(window=3).mean()\n",
    "    ltir['ltir-3m-std']     = ltir['ltir'].rolling(window=3).std()\n",
    "    ltir['ltir-6m-mean']    = ltir['ltir'].rolling(window=6).mean()\n",
    "    ltir['ltir-6m-std']     = ltir['ltir'].rolling(window=6).std()\n",
    "    ltir['ltir-12m-mean']   = ltir['ltir'].rolling(window=12).mean()\n",
    "    ltir['ltir-12m-std']    = ltir['ltir'].rolling(window=12).std()\n",
    "    ltir['ltir-6m-excess']  = ltir['ltir-6m-mean'] / ltir['ltir-6m-std']\n",
    "    ltir['ltir-12m-excess'] = ltir['ltir-12m-mean'] / ltir['ltir-12m-std']\n",
    "    \n",
    "    wpi = wpi[['Year', 'Month', 'Value']]\n",
    "    wpi.columns=['application_year', 'application_month','wpi']\n",
    "    wpi['wpi-3m-mean']    = wpi['wpi'].rolling(window=3).mean()\n",
    "    wpi['wpi-3m-std']     = wpi['wpi'].rolling(window=3).std()\n",
    "    wpi['wpi-6m-mean']    = wpi['wpi'].rolling(window=6).mean()\n",
    "    wpi['wpi-6m-std']     = wpi['wpi'].rolling(window=6).std()\n",
    "    wpi['wpi-12m-mean']   = wpi['wpi'].rolling(window=12).mean()\n",
    "    wpi['wpi-12m-std']    = wpi['wpi'].rolling(window=12).std()\n",
    "    wpi['wpi-6m-excess']  = wpi['wpi-6m-mean'] / wpi['wpi-6m-std']\n",
    "    wpi['wpi-12m-excess'] = wpi['wpi-12m-mean'] / wpi['wpi-12m-std']\n",
    "    \n",
    "    return cpi.dropna(), sp.dropna(), bci.dropna(), cli.dropna(), ltir.dropna(), wpi.dropna()"
   ]
  },
  {
   "cell_type": "code",
   "execution_count": 5,
   "metadata": {
    "collapsed": true
   },
   "outputs": [],
   "source": [
    "def identify_qtr(x):\n",
    "    '''\n",
    "    Function to categories for quarter values\n",
    "    \n",
    "    args:\n",
    "    x(int): Integer value for a quarter\n",
    "    \n",
    "    except:\n",
    "    None\n",
    "    \n",
    "    returns:\n",
    "    'QTR1'/'QTR2'/'QTR3'/'QTR4'(str): Category for a \n",
    "                                      quarter\n",
    "    '''\n",
    "    \n",
    "    if x >= 1 and x <= 3:\n",
    "        return 'QTR1'\n",
    "    elif x >= 4 and x <= 6:\n",
    "        return 'QTR2'\n",
    "    elif x >= 7 and x <= 9:\n",
    "        return 'QTR3'\n",
    "    elif x >= 10 and x <= 12:\n",
    "        return 'QTR4'\n",
    "    else:\n",
    "        return 'Invalid QTR'"
   ]
  },
  {
   "cell_type": "code",
   "execution_count": 6,
   "metadata": {
    "collapsed": true
   },
   "outputs": [],
   "source": [
    "def identify_daytype(x):\n",
    "    '''\n",
    "    Function to identify day category\n",
    "    given a particular day number for a \n",
    "    week\n",
    "    \n",
    "    args:\n",
    "    day number(int): Integer value for day of week\n",
    "    \n",
    "    except:\n",
    "    None\n",
    "    \n",
    "    returns:\n",
    "    'weekday'/'weekend'/'Invalid day type': Category type\n",
    "                             representing a day\n",
    "    \n",
    "    '''\n",
    "    \n",
    "    if x >= 0 and x <= 5:\n",
    "        return 'weekday'\n",
    "    elif x == 6 or x == 7:\n",
    "        return 'weekend'\n",
    "    else:\n",
    "        return 'Invalid day type'"
   ]
  },
  {
   "cell_type": "code",
   "execution_count": 7,
   "metadata": {
    "collapsed": true
   },
   "outputs": [],
   "source": [
    "def identify_season(x):\n",
    "    '''\n",
    "    Function to identify season given a month\n",
    "    \n",
    "    args:\n",
    "    x(int): Integer representing a month\n",
    "    \n",
    "    except:\n",
    "    None\n",
    "    \n",
    "    returns:\n",
    "    'summer'/'monsoon'/'autumn'/'winter'/'Invalid season': Name of season\n",
    "    \n",
    "    '''\n",
    "    \n",
    "    if x >= 3 and x <= 5:\n",
    "        return 'summer'\n",
    "    elif x >= 6 and x <= 9:\n",
    "        return 'monsoon'\n",
    "    elif x == 10 or x == 11:\n",
    "        return 'autumn'\n",
    "    elif x == 12 or x == 1 or x == 2:\n",
    "        return 'winter'\n",
    "    else:\n",
    "        return 'Invalid season'"
   ]
  },
  {
   "cell_type": "code",
   "execution_count": 8,
   "metadata": {
    "collapsed": true
   },
   "outputs": [],
   "source": [
    "def dist_from_holiday(x, festival):\n",
    "    '''\n",
    "    Function to count distance in terms of no. of days \n",
    "    from a festival date\n",
    "    \n",
    "    args:\n",
    "    x(date): Day in consideration\n",
    "    festival: Festival in consideration\n",
    "    \n",
    "    except:\n",
    "    None\n",
    "    \n",
    "    returns:\n",
    "    distance(datetime.days): Difference between date in consideration\n",
    "                             and festival date\n",
    "    \n",
    "    '''\n",
    "    dt_year = x.year\n",
    "    dt_hol = datetime.strptime(holidays[dt_year][festival], '%Y%m%d')\n",
    "    if (dt_hol - x).days < 0:\n",
    "        dt_year = dt_year + 1 \n",
    "        dt_hol = datetime.strptime(holidays[dt_year][festival], '%Y%m%d')\n",
    "        return (dt_hol - x).days\n",
    "    else:\n",
    "        return (dt_hol - x).days  "
   ]
  },
  {
   "cell_type": "code",
   "execution_count": 9,
   "metadata": {
    "collapsed": true
   },
   "outputs": [],
   "source": [
    "def merge_public_data(df):\n",
    "    '''\n",
    "    Function to merge public datasets with the training\n",
    "    or testing data\n",
    "    \n",
    "    args:\n",
    "    df(pandas dataframe): Pandas dataframe with training \n",
    "                          or testing data\n",
    "    \n",
    "    except:\n",
    "    None\n",
    "    \n",
    "    returns:\n",
    "    df(pandas dataframe): Pandas dataframe after merging \n",
    "                          training or testing data with\n",
    "                          public data\n",
    "    \n",
    "    '''\n",
    "    cpi, sp, bci, cli, ltir, wpi = public_data_df()\n",
    "    pd_df = pd.merge(cpi, sp, on=['application_year', 'application_month']).\\\n",
    "            merge(bci, on=['application_year', 'application_month']).\\\n",
    "            merge(cli, on=['application_year', 'application_month']).\\\n",
    "            merge(ltir, on=['application_year', 'application_month']).\\\n",
    "            merge(wpi, on=['application_year', 'application_month'])\n",
    "    df = pd.merge(df, pd_df, on=['application_year', 'application_month'], how='left')         \n",
    "    \n",
    "    return df"
   ]
  },
  {
   "cell_type": "code",
   "execution_count": 10,
   "metadata": {
    "collapsed": true
   },
   "outputs": [],
   "source": [
    "def prepare_training_frame(data_file):\n",
    "    '''\n",
    "    Function to prepare training dataframe\n",
    "    \n",
    "    args:\n",
    "    data_file(str): Name of file with training data\n",
    "    \n",
    "    except:\n",
    "    None\n",
    "    \n",
    "    returns:\n",
    "    df(pandas dataframe): Pandas dataframe with features\n",
    "                          generated from training data\n",
    "    \n",
    "    '''\n",
    "    \n",
    "    df = pd.read_csv(data_file)\n",
    "    df = df[['application_date', 'segment', 'case_count']]\n",
    "    df = df.groupby(['application_date', 'segment']).agg({'case_count':['sum']}).reset_index()\n",
    "    df.columns = ['application_date', 'segment', 'case_count']\n",
    "    df['application_date']    = pd.to_datetime(df['application_date'], format='%Y-%m-%d')\n",
    "    df['application_year']    = df['application_date'].dt.year\n",
    "    df['application_month']   = df['application_date'].dt.month\n",
    "    df['application_dow']     = df['application_date'].dt.dayofweek\n",
    "    df['application_qtr']     = df['application_month'].apply(lambda x: identify_qtr(x))\n",
    "    df['application_daytype'] = df['application_dow'].apply(lambda x: identify_daytype(x))\n",
    "    df['application_season']  = df['application_month'].apply(lambda x: identify_season(x))\n",
    "    df['dist_holi']           = df['application_date'].apply(lambda x: dist_from_holiday(x, 'holi'))\n",
    "    df['dist_muharram']       = df['application_date'].apply(lambda x: dist_from_holiday(x, 'muharram'))\n",
    "    df['dist_dussehra']       = df['application_date'].apply(lambda x: dist_from_holiday(x, 'dussehra'))\n",
    "    df['dist_diwali']         = df['application_date'].apply(lambda x: dist_from_holiday(x, 'diwali'))\n",
    "    df['dist_christmas']      = df['application_date'].apply(lambda x: dist_from_holiday(x, 'christmas'))\n",
    "    df = merge_public_data(df)\n",
    "    \n",
    "    return df.fillna(0)"
   ]
  },
  {
   "cell_type": "code",
   "execution_count": 43,
   "metadata": {
    "collapsed": true
   },
   "outputs": [],
   "source": [
    "def prepare_testing_frame(data_file):\n",
    "    '''\n",
    "    Function to prepare testing dataframe\n",
    "    \n",
    "    args:\n",
    "    data_file(str): Name of file with testing data\n",
    "    \n",
    "    except:\n",
    "    None\n",
    "    \n",
    "    returns:\n",
    "    df(pandas dataframe): Pandas dataframe with features\n",
    "                          generated from testing data\n",
    "                          \n",
    "    '''\n",
    "    \n",
    "    df = pd.read_csv(data_file)\n",
    "    df.columns = ['id', 'application_date', 'segment']\n",
    "    df.set_index('id')\n",
    "    df['application_date']    = pd.to_datetime(df['application_date'], format='%Y-%m-%d')\n",
    "    df['application_year']    = df['application_date'].dt.year\n",
    "    df['application_month']   = df['application_date'].dt.month\n",
    "    df['application_dow']     = df['application_date'].dt.dayofweek\n",
    "    df['application_qtr']     = df['application_month'].apply(lambda x: identify_qtr(x))\n",
    "    df['application_daytype'] = df['application_dow'].apply(lambda x: identify_daytype(x))\n",
    "    df['application_season']  = df['application_month'].apply(lambda x: identify_season(x))\n",
    "    df['dist_holi']           = df['application_date'].apply(lambda x: dist_from_holiday(x, 'holi'))\n",
    "    df['dist_muharram']       = df['application_date'].apply(lambda x: dist_from_holiday(x, 'muharram'))\n",
    "    df['dist_dussehra']       = df['application_date'].apply(lambda x: dist_from_holiday(x, 'dussehra'))\n",
    "    df['dist_diwali']         = df['application_date'].apply(lambda x: dist_from_holiday(x, 'diwali'))\n",
    "    df['dist_christmas']      = df['application_date'].apply(lambda x: dist_from_holiday(x, 'christmas'))\n",
    "    df = merge_public_data(df)\n",
    "        \n",
    "    return df.fillna(0)"
   ]
  },
  {
   "cell_type": "markdown",
   "metadata": {},
   "source": [
    "### Generate simple linear model and plot characteristics"
   ]
  },
  {
   "cell_type": "code",
   "execution_count": 158,
   "metadata": {
    "collapsed": true
   },
   "outputs": [],
   "source": [
    "train_df = prepare_training_frame(train_file)\n",
    "cols = ['segment', 'application_qtr', 'application_daytype', 'application_season', 'dist_holi','dist_muharram','dist_dussehra','dist_diwali','dist_christmas', 'wpi', 'wpi-3m-mean', 'wpi-6m-mean', 'case_count']\n",
    "train_df = train_df[cols]\n",
    "train_df['segment'] = train_df['segment'].astype('category')\n",
    "train_df['application_qtr'] = train_df['application_qtr'].astype('category')\n",
    "train_df['application_daytype'] = train_df['application_daytype'].astype('category')\n",
    "train_df['application_season'] = train_df['application_season'].astype('category')\n",
    "train_df = pd.get_dummies(train_df)\n",
    "\n",
    "tr_df_X = train_df.drop(['case_count'], axis=1).iloc[:-500]\n",
    "tr_df_Y = train_df['case_count'].iloc[:-500]\n",
    "te_df_X = train_df.drop(['case_count'], axis=1).iloc[-500:]\n",
    "te_df_Y = train_df['case_count'].iloc[-500:]\n",
    "regr = linear_model.LinearRegression()\n",
    "regr.fit(tr_df_X, tr_df_Y)\n",
    "te_pred_df_Y = regr.predict(te_df_X)\n",
    "plt.scatter(te_df_Y, te_pred_df_Y)\n",
    "plt.show()\n",
    "print(\"Mean Squared Error : {}\".format(mean_squared_error(te_df_Y, te_pred_df_Y)))\n",
    "print(\"R squared : {}\".format(r2_score(te_df_Y, te_pred_df_Y)))"
   ]
  },
  {
   "cell_type": "markdown",
   "metadata": {},
   "source": [
    "### Predict case_counts using testing data and write to file"
   ]
  },
  {
   "cell_type": "code",
   "execution_count": 160,
   "metadata": {
    "collapsed": true
   },
   "outputs": [],
   "source": [
    "test_df = prepare_testing_frame(test_file)\n",
    "cols = ['segment', 'application_qtr', 'application_daytype', 'application_season', 'dist_holi','dist_muharram','dist_dussehra','dist_diwali','dist_christmas', 'wpi', 'wpi-3m-mean', 'wpi-6m-mean']\n",
    "filt_test_df = test_df.loc[:, cols]\n",
    "\n",
    "filt_test_df['segment'] = filt_test_df['segment'].astype('category')\n",
    "filt_test_df['application_qtr'] = filt_test_df['application_qtr'].astype('category')\n",
    "filt_test_df['application_daytype'] = filt_test_df['application_daytype'].astype('category')\n",
    "filt_test_df['application_season'] = filt_test_df['application_season'].astype('category')\n",
    "filt_test_df = pd.get_dummies(filt_test_df)\n",
    "\n",
    "filt_test_df['application_qtr_QTR1'] = [0] * len(filt_test_df)\n",
    "filt_test_df['application_qtr_QTR2'] = [0] * len(filt_test_df)\n",
    "filt_test_df['application_season_summer'] = [0] * len(filt_test_df)\n",
    "filt_test_df['application_season_winter'] = [0] * len(filt_test_df)\n",
    "\n",
    "filt_test_df = filt_test_df[tr_df_X.columns]\n",
    "filt_test_pred = regr.predict(filt_test_df)\n",
    "test_df['case_count'] = filt_test_pred\n",
    "test_df['case_count'] = test_df['case_count'].round(2)\n",
    "test_df[['id', 'application_date', 'segment', 'case_count']].to_csv(test_predict_file, index=False)"
   ]
  }
 ],
 "metadata": {
  "kernelspec": {
   "display_name": "Python 3",
   "language": "python",
   "name": "python3"
  },
  "language_info": {
   "codemirror_mode": {
    "name": "ipython",
    "version": 3
   },
   "file_extension": ".py",
   "mimetype": "text/x-python",
   "name": "python",
   "nbconvert_exporter": "python",
   "pygments_lexer": "ipython3",
   "version": "3.7.4"
  }
 },
 "nbformat": 4,
 "nbformat_minor": 2
}
