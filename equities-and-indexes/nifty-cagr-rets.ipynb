{
 "cells": [
  {
   "cell_type": "markdown",
   "id": "434bfe08",
   "metadata": {},
   "source": [
    "##### Problems<br><br>-Download price data for NIFTY50 symbols<br>-Calculate annualized absolute daily returns, CAGR, beta, annualized mean volume and annualized standard deviation of volume<br>-Rank symbols in terms of each"
   ]
  },
  {
   "cell_type": "code",
   "execution_count": 24,
   "id": "46eba3f2",
   "metadata": {},
   "outputs": [],
   "source": [
    "import pandas as pd \n",
    "import numpy as np\n",
    "from datetime import datetime, timedelta \n",
    "import yfinance as yf\n",
    "from pandas.testing import assert_frame_equal\n",
    "import matplotlib.pyplot as plt \n",
    "%matplotlib inline "
   ]
  },
  {
   "cell_type": "markdown",
   "id": "f42c5c94",
   "metadata": {},
   "source": [
    "##### Initialize variables to use"
   ]
  },
  {
   "cell_type": "code",
   "execution_count": 2,
   "id": "ef7aa065",
   "metadata": {},
   "outputs": [],
   "source": [
    "start_date = '2020-01-01'\n",
    "end_date   = '2021-11-30'\n",
    "use_file   = True "
   ]
  },
  {
   "cell_type": "markdown",
   "id": "a059463a",
   "metadata": {},
   "source": [
    "##### Read in NIFTY symbol file "
   ]
  },
  {
   "cell_type": "code",
   "execution_count": 126,
   "id": "a487bb17",
   "metadata": {},
   "outputs": [],
   "source": [
    "t = round((pd.Timestamp(end_date) - pd.Timestamp(start_date)).days/365, 4)\n",
    "syms = pd.read_excel('datasets/nifty.xlsx')\n",
    "syms.columns = ['company', 'sector', 'yfinance-symbol']"
   ]
  },
  {
   "cell_type": "code",
   "execution_count": 149,
   "id": "f47b4070",
   "metadata": {},
   "outputs": [
    {
     "data": {
      "text/plain": [
       "Consumer Goods            6\n",
       "Banking                   6\n",
       "Automobile                6\n",
       "Financial Services        5\n",
       "Information Technology    5\n",
       "Energy - Oil & Gas        4\n",
       "Pharmaceuticals           4\n",
       "Metals                    4\n",
       "Cement                    3\n",
       "Energy - Power            2\n",
       "Infrastructure            1\n",
       "Telecommunication         1\n",
       "Construction              1\n",
       "Consumer Durables         1\n",
       "Chemicals                 1\n",
       "Name: sector, dtype: int64"
      ]
     },
     "execution_count": 149,
     "metadata": {},
     "output_type": "execute_result"
    }
   ],
   "source": [
    "syms['sector'].value_counts()"
   ]
  },
  {
   "cell_type": "markdown",
   "id": "19eddf39",
   "metadata": {},
   "source": [
    "##### Generate symbol list"
   ]
  },
  {
   "cell_type": "code",
   "execution_count": 127,
   "id": "18ea9906",
   "metadata": {},
   "outputs": [],
   "source": [
    "sym_names = syms['yfinance-symbol'].tolist()\n",
    "index_sym = '^NSEI'"
   ]
  },
  {
   "cell_type": "markdown",
   "id": "26f54e11",
   "metadata": {},
   "source": [
    "##### Download or read NIFTY price data "
   ]
  },
  {
   "cell_type": "code",
   "execution_count": null,
   "id": "198368f4",
   "metadata": {},
   "outputs": [],
   "source": [
    "if use_file == False:\n",
    "    data_df = yf.download(sym_names, start_date, end_date)\n",
    "    data_df.to_csv('nifty_price_data.csv')\n",
    "    index_df = yf.download(index_sym, start_date, end_date)\n",
    "    index_df.to_csv('nifty_index_price_data.csv')\n",
    "else:\n",
    "    data_df = pd.read_csv('nifty_price_data.csv', header=[0,1])\n",
    "    index_df = pd.read_csv('nifty_index_price_data.csv')"
   ]
  },
  {
   "cell_type": "markdown",
   "id": "3e77cede",
   "metadata": {},
   "source": [
    "##### Generate adjusted close and volume dataframes"
   ]
  },
  {
   "cell_type": "code",
   "execution_count": 128,
   "id": "e176683a",
   "metadata": {},
   "outputs": [],
   "source": [
    "sym_adjcl_df = data_df['Adj Close']\n",
    "sym_vol_df   = data_df['Volume']\n",
    "sym_rets_df  = sym_adjcl_df.pct_change().dropna(axis=0)\n",
    "idx_adjcl_df = index_df['Adj Close'].to_frame().rename(columns={'Adj Close':'NSEI'})\n",
    "idx_vol_df   = index_df['Volume'].to_frame().rename(columns={'Adj Close':'NSEI'})\n",
    "idx_rets_df  = idx_adjcl_df.pct_change().dropna(axis=0) "
   ]
  },
  {
   "cell_type": "markdown",
   "id": "2e63a880",
   "metadata": {},
   "source": [
    "##### Calculate return, CAGR and beta for the stocks"
   ]
  },
  {
   "cell_type": "code",
   "execution_count": 129,
   "id": "375e0f92",
   "metadata": {},
   "outputs": [],
   "source": [
    "final_df = pd.DataFrame(columns=['symbol', 'rets', 'cagr', 'beta', 'mean_vol', 'std_vol'])\n",
    "for idx, sym in enumerate(sym_names):\n",
    "    init_price, final_price = sym_adjcl_df.iloc[0, idx], sym_adjcl_df.iloc[-1, idx]\n",
    "    rets = round(sym_rets_df[sym].mean() * 252, 6) \n",
    "    cagr = round(((final_price/init_price)**t - 1), 6)\n",
    "    beta = round(sym_rets_df[sym].cov(idx_rets_df['NSEI']) / idx_rets_df['NSEI'].var(), 6) \n",
    "    mean_vol = round(sym_vol_df[sym].mean() * 252, 6)\n",
    "    std_vol  = round(sym_vol_df[sym].std() * (252**0.5), 6)\n",
    "    final_df.loc[idx] = [sym, rets, cagr, beta, mean_vol, std_vol ]"
   ]
  },
  {
   "cell_type": "markdown",
   "id": "ac94fdaf",
   "metadata": {},
   "source": [
    "##### Reformatting of final dataframe "
   ]
  },
  {
   "cell_type": "code",
   "execution_count": 130,
   "id": "955fb559",
   "metadata": {},
   "outputs": [],
   "source": [
    "syms = pd.merge(syms, final_df, left_on='yfinance-symbol', right_on='symbol')\n",
    "syms.drop(['yfinance-symbol'], axis=1, inplace=True)"
   ]
  },
  {
   "cell_type": "markdown",
   "id": "5e8d635d",
   "metadata": {},
   "source": [
    "##### Check if rankings of stocks as per rets and CAGR are same or different "
   ]
  },
  {
   "cell_type": "code",
   "execution_count": 133,
   "id": "f23ea1d0",
   "metadata": {},
   "outputs": [
    {
     "data": {
      "text/html": [
       "<div>\n",
       "<style scoped>\n",
       "    .dataframe tbody tr th:only-of-type {\n",
       "        vertical-align: middle;\n",
       "    }\n",
       "\n",
       "    .dataframe tbody tr th {\n",
       "        vertical-align: top;\n",
       "    }\n",
       "\n",
       "    .dataframe thead th {\n",
       "        text-align: right;\n",
       "    }\n",
       "</style>\n",
       "<table border=\"1\" class=\"dataframe\">\n",
       "  <thead>\n",
       "    <tr style=\"text-align: right;\">\n",
       "      <th></th>\n",
       "      <th>company</th>\n",
       "      <th>sector</th>\n",
       "      <th>symbol</th>\n",
       "      <th>rets</th>\n",
       "      <th>cagr</th>\n",
       "      <th>beta</th>\n",
       "      <th>mean_vol</th>\n",
       "      <th>std_vol</th>\n",
       "    </tr>\n",
       "  </thead>\n",
       "  <tbody>\n",
       "    <tr>\n",
       "      <th>42</th>\n",
       "      <td>Tata Motors</td>\n",
       "      <td>Automobile</td>\n",
       "      <td>TATAMOTORS.NS</td>\n",
       "      <td>0.648152</td>\n",
       "      <td>4.790032</td>\n",
       "      <td>1.379760</td>\n",
       "      <td>1.580106e+10</td>\n",
       "      <td>7.124260e+08</td>\n",
       "    </tr>\n",
       "    <tr>\n",
       "      <th>43</th>\n",
       "      <td>Tata Steel</td>\n",
       "      <td>Metals</td>\n",
       "      <td>TATASTEEL.NS</td>\n",
       "      <td>0.593194</td>\n",
       "      <td>4.780922</td>\n",
       "      <td>1.163029</td>\n",
       "      <td>4.126298e+09</td>\n",
       "      <td>1.382072e+08</td>\n",
       "    </tr>\n",
       "    <tr>\n",
       "      <th>11</th>\n",
       "      <td>Divi's Laboratories</td>\n",
       "      <td>Pharmaceuticals</td>\n",
       "      <td>DIVISLAB.NS</td>\n",
       "      <td>0.587133</td>\n",
       "      <td>5.877943</td>\n",
       "      <td>0.570018</td>\n",
       "      <td>2.228374e+08</td>\n",
       "      <td>1.218063e+07</td>\n",
       "    </tr>\n",
       "    <tr>\n",
       "      <th>27</th>\n",
       "      <td>JSW Steel</td>\n",
       "      <td>Metals</td>\n",
       "      <td>JSWSTEEL.NS</td>\n",
       "      <td>0.574517</td>\n",
       "      <td>4.474085</td>\n",
       "      <td>1.273666</td>\n",
       "      <td>2.382195e+09</td>\n",
       "      <td>1.037092e+08</td>\n",
       "    </tr>\n",
       "    <tr>\n",
       "      <th>49</th>\n",
       "      <td>Wipro</td>\n",
       "      <td>Information Technology</td>\n",
       "      <td>WIPRO.NS</td>\n",
       "      <td>0.559771</td>\n",
       "      <td>5.059264</td>\n",
       "      <td>0.712645</td>\n",
       "      <td>2.794337e+09</td>\n",
       "      <td>2.036948e+08</td>\n",
       "    </tr>\n",
       "    <tr>\n",
       "      <th>41</th>\n",
       "      <td>Tata Consumer Products</td>\n",
       "      <td>Consumer Goods</td>\n",
       "      <td>TATACONSUM.NS</td>\n",
       "      <td>0.530641</td>\n",
       "      <td>4.332508</td>\n",
       "      <td>0.897452</td>\n",
       "      <td>1.037938e+09</td>\n",
       "      <td>7.173598e+07</td>\n",
       "    </tr>\n",
       "    <tr>\n",
       "      <th>24</th>\n",
       "      <td>Infosys</td>\n",
       "      <td>Information Technology</td>\n",
       "      <td>INFY.NS</td>\n",
       "      <td>0.519143</td>\n",
       "      <td>4.369393</td>\n",
       "      <td>0.846436</td>\n",
       "      <td>2.253235e+09</td>\n",
       "      <td>9.980829e+07</td>\n",
       "    </tr>\n",
       "    <tr>\n",
       "      <th>14</th>\n",
       "      <td>Grasim Industries</td>\n",
       "      <td>Cement</td>\n",
       "      <td>GRASIM.NS</td>\n",
       "      <td>0.516971</td>\n",
       "      <td>3.878003</td>\n",
       "      <td>1.091427</td>\n",
       "      <td>5.331106e+08</td>\n",
       "      <td>2.356622e+07</td>\n",
       "    </tr>\n",
       "    <tr>\n",
       "      <th>20</th>\n",
       "      <td>Hindalco Industries</td>\n",
       "      <td>Metals</td>\n",
       "      <td>HINDALCO.NS</td>\n",
       "      <td>0.495667</td>\n",
       "      <td>2.714712</td>\n",
       "      <td>1.442499</td>\n",
       "      <td>3.866562e+09</td>\n",
       "      <td>1.341658e+08</td>\n",
       "    </tr>\n",
       "    <tr>\n",
       "      <th>45</th>\n",
       "      <td>Tech Mahindra</td>\n",
       "      <td>Information Technology</td>\n",
       "      <td>TECHM.NS</td>\n",
       "      <td>0.481152</td>\n",
       "      <td>3.438199</td>\n",
       "      <td>0.858442</td>\n",
       "      <td>1.051201e+09</td>\n",
       "      <td>4.095360e+07</td>\n",
       "    </tr>\n",
       "  </tbody>\n",
       "</table>\n",
       "</div>"
      ],
      "text/plain": [
       "                   company                  sector         symbol      rets  \\\n",
       "42             Tata Motors              Automobile  TATAMOTORS.NS  0.648152   \n",
       "43              Tata Steel                  Metals   TATASTEEL.NS  0.593194   \n",
       "11     Divi's Laboratories         Pharmaceuticals    DIVISLAB.NS  0.587133   \n",
       "27               JSW Steel                  Metals    JSWSTEEL.NS  0.574517   \n",
       "49                   Wipro  Information Technology       WIPRO.NS  0.559771   \n",
       "41  Tata Consumer Products          Consumer Goods  TATACONSUM.NS  0.530641   \n",
       "24                 Infosys  Information Technology        INFY.NS  0.519143   \n",
       "14       Grasim Industries                  Cement      GRASIM.NS  0.516971   \n",
       "20     Hindalco Industries                  Metals    HINDALCO.NS  0.495667   \n",
       "45           Tech Mahindra  Information Technology       TECHM.NS  0.481152   \n",
       "\n",
       "        cagr      beta      mean_vol       std_vol  \n",
       "42  4.790032  1.379760  1.580106e+10  7.124260e+08  \n",
       "43  4.780922  1.163029  4.126298e+09  1.382072e+08  \n",
       "11  5.877943  0.570018  2.228374e+08  1.218063e+07  \n",
       "27  4.474085  1.273666  2.382195e+09  1.037092e+08  \n",
       "49  5.059264  0.712645  2.794337e+09  2.036948e+08  \n",
       "41  4.332508  0.897452  1.037938e+09  7.173598e+07  \n",
       "24  4.369393  0.846436  2.253235e+09  9.980829e+07  \n",
       "14  3.878003  1.091427  5.331106e+08  2.356622e+07  \n",
       "20  2.714712  1.442499  3.866562e+09  1.341658e+08  \n",
       "45  3.438199  0.858442  1.051201e+09  4.095360e+07  "
      ]
     },
     "execution_count": 133,
     "metadata": {},
     "output_type": "execute_result"
    }
   ],
   "source": [
    "syms.sort_values(['rets'], ascending=False).head(10)"
   ]
  },
  {
   "cell_type": "code",
   "execution_count": 134,
   "id": "47bdac1a",
   "metadata": {},
   "outputs": [
    {
     "data": {
      "text/html": [
       "<div>\n",
       "<style scoped>\n",
       "    .dataframe tbody tr th:only-of-type {\n",
       "        vertical-align: middle;\n",
       "    }\n",
       "\n",
       "    .dataframe tbody tr th {\n",
       "        vertical-align: top;\n",
       "    }\n",
       "\n",
       "    .dataframe thead th {\n",
       "        text-align: right;\n",
       "    }\n",
       "</style>\n",
       "<table border=\"1\" class=\"dataframe\">\n",
       "  <thead>\n",
       "    <tr style=\"text-align: right;\">\n",
       "      <th></th>\n",
       "      <th>company</th>\n",
       "      <th>sector</th>\n",
       "      <th>symbol</th>\n",
       "      <th>rets</th>\n",
       "      <th>cagr</th>\n",
       "      <th>beta</th>\n",
       "      <th>mean_vol</th>\n",
       "      <th>std_vol</th>\n",
       "    </tr>\n",
       "  </thead>\n",
       "  <tbody>\n",
       "    <tr>\n",
       "      <th>11</th>\n",
       "      <td>Divi's Laboratories</td>\n",
       "      <td>Pharmaceuticals</td>\n",
       "      <td>DIVISLAB.NS</td>\n",
       "      <td>0.587133</td>\n",
       "      <td>5.877943</td>\n",
       "      <td>0.570018</td>\n",
       "      <td>2.228374e+08</td>\n",
       "      <td>1.218063e+07</td>\n",
       "    </tr>\n",
       "    <tr>\n",
       "      <th>49</th>\n",
       "      <td>Wipro</td>\n",
       "      <td>Information Technology</td>\n",
       "      <td>WIPRO.NS</td>\n",
       "      <td>0.559771</td>\n",
       "      <td>5.059264</td>\n",
       "      <td>0.712645</td>\n",
       "      <td>2.794337e+09</td>\n",
       "      <td>2.036948e+08</td>\n",
       "    </tr>\n",
       "    <tr>\n",
       "      <th>42</th>\n",
       "      <td>Tata Motors</td>\n",
       "      <td>Automobile</td>\n",
       "      <td>TATAMOTORS.NS</td>\n",
       "      <td>0.648152</td>\n",
       "      <td>4.790032</td>\n",
       "      <td>1.379760</td>\n",
       "      <td>1.580106e+10</td>\n",
       "      <td>7.124260e+08</td>\n",
       "    </tr>\n",
       "    <tr>\n",
       "      <th>43</th>\n",
       "      <td>Tata Steel</td>\n",
       "      <td>Metals</td>\n",
       "      <td>TATASTEEL.NS</td>\n",
       "      <td>0.593194</td>\n",
       "      <td>4.780922</td>\n",
       "      <td>1.163029</td>\n",
       "      <td>4.126298e+09</td>\n",
       "      <td>1.382072e+08</td>\n",
       "    </tr>\n",
       "    <tr>\n",
       "      <th>27</th>\n",
       "      <td>JSW Steel</td>\n",
       "      <td>Metals</td>\n",
       "      <td>JSWSTEEL.NS</td>\n",
       "      <td>0.574517</td>\n",
       "      <td>4.474085</td>\n",
       "      <td>1.273666</td>\n",
       "      <td>2.382195e+09</td>\n",
       "      <td>1.037092e+08</td>\n",
       "    </tr>\n",
       "    <tr>\n",
       "      <th>24</th>\n",
       "      <td>Infosys</td>\n",
       "      <td>Information Technology</td>\n",
       "      <td>INFY.NS</td>\n",
       "      <td>0.519143</td>\n",
       "      <td>4.369393</td>\n",
       "      <td>0.846436</td>\n",
       "      <td>2.253235e+09</td>\n",
       "      <td>9.980829e+07</td>\n",
       "    </tr>\n",
       "    <tr>\n",
       "      <th>41</th>\n",
       "      <td>Tata Consumer Products</td>\n",
       "      <td>Consumer Goods</td>\n",
       "      <td>TATACONSUM.NS</td>\n",
       "      <td>0.530641</td>\n",
       "      <td>4.332508</td>\n",
       "      <td>0.897452</td>\n",
       "      <td>1.037938e+09</td>\n",
       "      <td>7.173598e+07</td>\n",
       "    </tr>\n",
       "    <tr>\n",
       "      <th>14</th>\n",
       "      <td>Grasim Industries</td>\n",
       "      <td>Cement</td>\n",
       "      <td>GRASIM.NS</td>\n",
       "      <td>0.516971</td>\n",
       "      <td>3.878003</td>\n",
       "      <td>1.091427</td>\n",
       "      <td>5.331106e+08</td>\n",
       "      <td>2.356622e+07</td>\n",
       "    </tr>\n",
       "    <tr>\n",
       "      <th>45</th>\n",
       "      <td>Tech Mahindra</td>\n",
       "      <td>Information Technology</td>\n",
       "      <td>TECHM.NS</td>\n",
       "      <td>0.481152</td>\n",
       "      <td>3.438199</td>\n",
       "      <td>0.858442</td>\n",
       "      <td>1.051201e+09</td>\n",
       "      <td>4.095360e+07</td>\n",
       "    </tr>\n",
       "    <tr>\n",
       "      <th>15</th>\n",
       "      <td>HCL Technologies</td>\n",
       "      <td>Information Technology</td>\n",
       "      <td>HCLTECH.NS</td>\n",
       "      <td>0.443660</td>\n",
       "      <td>3.020647</td>\n",
       "      <td>0.780468</td>\n",
       "      <td>1.564926e+09</td>\n",
       "      <td>6.555629e+07</td>\n",
       "    </tr>\n",
       "  </tbody>\n",
       "</table>\n",
       "</div>"
      ],
      "text/plain": [
       "                   company                  sector         symbol      rets  \\\n",
       "11     Divi's Laboratories         Pharmaceuticals    DIVISLAB.NS  0.587133   \n",
       "49                   Wipro  Information Technology       WIPRO.NS  0.559771   \n",
       "42             Tata Motors              Automobile  TATAMOTORS.NS  0.648152   \n",
       "43              Tata Steel                  Metals   TATASTEEL.NS  0.593194   \n",
       "27               JSW Steel                  Metals    JSWSTEEL.NS  0.574517   \n",
       "24                 Infosys  Information Technology        INFY.NS  0.519143   \n",
       "41  Tata Consumer Products          Consumer Goods  TATACONSUM.NS  0.530641   \n",
       "14       Grasim Industries                  Cement      GRASIM.NS  0.516971   \n",
       "45           Tech Mahindra  Information Technology       TECHM.NS  0.481152   \n",
       "15        HCL Technologies  Information Technology     HCLTECH.NS  0.443660   \n",
       "\n",
       "        cagr      beta      mean_vol       std_vol  \n",
       "11  5.877943  0.570018  2.228374e+08  1.218063e+07  \n",
       "49  5.059264  0.712645  2.794337e+09  2.036948e+08  \n",
       "42  4.790032  1.379760  1.580106e+10  7.124260e+08  \n",
       "43  4.780922  1.163029  4.126298e+09  1.382072e+08  \n",
       "27  4.474085  1.273666  2.382195e+09  1.037092e+08  \n",
       "24  4.369393  0.846436  2.253235e+09  9.980829e+07  \n",
       "41  4.332508  0.897452  1.037938e+09  7.173598e+07  \n",
       "14  3.878003  1.091427  5.331106e+08  2.356622e+07  \n",
       "45  3.438199  0.858442  1.051201e+09  4.095360e+07  \n",
       "15  3.020647  0.780468  1.564926e+09  6.555629e+07  "
      ]
     },
     "execution_count": 134,
     "metadata": {},
     "output_type": "execute_result"
    }
   ],
   "source": [
    "syms.sort_values(['cagr'], ascending=False).head(10)"
   ]
  },
  {
   "cell_type": "code",
   "execution_count": 147,
   "id": "767e11bd",
   "metadata": {},
   "outputs": [
    {
     "ename": "AssertionError",
     "evalue": "DataFrame.index are different\n\nDataFrame.index values are different (78.0 %)\n[left]:  Int64Index([42, 43, 11, 27, 49, 41, 24, 14, 20, 45, 15, 46,  9,  0,  4,  5, 47,\n            40,  1, 30, 36,  6, 12, 44, 35, 38, 22, 34, 29, 48, 32, 39, 28, 33,\n            21, 16,  8, 17, 37, 25, 13, 18,  3, 19, 26, 31,  2,  7, 10, 23],\n           dtype='int64')\n[right]: Int64Index([11, 49, 42, 43, 27, 24, 41, 14, 45, 15,  9, 46, 20,  0, 47,  4,  1,\n            40, 44, 12, 36,  5,  6, 30, 35, 29, 38, 22, 32, 34, 39, 21,  8, 33,\n            28, 48, 17, 37, 25, 16,  3, 13, 18, 19, 26, 31,  7, 10,  2, 23],\n           dtype='int64')",
     "output_type": "error",
     "traceback": [
      "\u001b[0;31m---------------------------------------------------------------------------\u001b[0m",
      "\u001b[0;31mAssertionError\u001b[0m                            Traceback (most recent call last)",
      "\u001b[0;32m<ipython-input-147-a81d8d25474b>\u001b[0m in \u001b[0;36m<module>\u001b[0;34m\u001b[0m\n\u001b[0;32m----> 1\u001b[0;31m \u001b[0massert_frame_equal\u001b[0m\u001b[0;34m(\u001b[0m\u001b[0msyms\u001b[0m\u001b[0;34m.\u001b[0m\u001b[0msort_values\u001b[0m\u001b[0;34m(\u001b[0m\u001b[0;34m[\u001b[0m\u001b[0;34m'rets'\u001b[0m\u001b[0;34m]\u001b[0m\u001b[0;34m,\u001b[0m \u001b[0mascending\u001b[0m\u001b[0;34m=\u001b[0m\u001b[0;32mFalse\u001b[0m\u001b[0;34m)\u001b[0m\u001b[0;34m[\u001b[0m\u001b[0;34m[\u001b[0m\u001b[0;34m'company'\u001b[0m\u001b[0;34m,\u001b[0m \u001b[0;34m'rets'\u001b[0m\u001b[0;34m,\u001b[0m \u001b[0;34m'cagr'\u001b[0m\u001b[0;34m]\u001b[0m\u001b[0;34m]\u001b[0m\u001b[0;34m,\u001b[0m \u001b[0msyms\u001b[0m\u001b[0;34m.\u001b[0m\u001b[0msort_values\u001b[0m\u001b[0;34m(\u001b[0m\u001b[0;34m[\u001b[0m\u001b[0;34m'cagr'\u001b[0m\u001b[0;34m]\u001b[0m\u001b[0;34m,\u001b[0m \u001b[0mascending\u001b[0m\u001b[0;34m=\u001b[0m\u001b[0;32mFalse\u001b[0m\u001b[0;34m)\u001b[0m\u001b[0;34m[\u001b[0m\u001b[0;34m[\u001b[0m\u001b[0;34m'company'\u001b[0m\u001b[0;34m,\u001b[0m \u001b[0;34m'rets'\u001b[0m\u001b[0;34m,\u001b[0m \u001b[0;34m'cagr'\u001b[0m\u001b[0;34m]\u001b[0m\u001b[0;34m]\u001b[0m\u001b[0;34m)\u001b[0m\u001b[0;34m\u001b[0m\u001b[0;34m\u001b[0m\u001b[0m\n\u001b[0m",
      "    \u001b[0;31m[... skipping hidden 2 frame]\u001b[0m\n",
      "\u001b[0;32m~/anaconda3/lib/python3.8/site-packages/pandas/_libs/testing.pyx\u001b[0m in \u001b[0;36mpandas._libs.testing.assert_almost_equal\u001b[0;34m()\u001b[0m\n",
      "\u001b[0;32m~/anaconda3/lib/python3.8/site-packages/pandas/_libs/testing.pyx\u001b[0m in \u001b[0;36mpandas._libs.testing.assert_almost_equal\u001b[0;34m()\u001b[0m\n",
      "\u001b[0;32m~/anaconda3/lib/python3.8/site-packages/pandas/_testing/asserters.py\u001b[0m in \u001b[0;36mraise_assert_detail\u001b[0;34m(obj, message, left, right, diff, index_values)\u001b[0m\n\u001b[1;32m    663\u001b[0m         \u001b[0mmsg\u001b[0m \u001b[0;34m+=\u001b[0m \u001b[0;34mf\"\\n[diff]: {diff}\"\u001b[0m\u001b[0;34m\u001b[0m\u001b[0;34m\u001b[0m\u001b[0m\n\u001b[1;32m    664\u001b[0m \u001b[0;34m\u001b[0m\u001b[0m\n\u001b[0;32m--> 665\u001b[0;31m     \u001b[0;32mraise\u001b[0m \u001b[0mAssertionError\u001b[0m\u001b[0;34m(\u001b[0m\u001b[0mmsg\u001b[0m\u001b[0;34m)\u001b[0m\u001b[0;34m\u001b[0m\u001b[0;34m\u001b[0m\u001b[0m\n\u001b[0m\u001b[1;32m    666\u001b[0m \u001b[0;34m\u001b[0m\u001b[0m\n\u001b[1;32m    667\u001b[0m \u001b[0;34m\u001b[0m\u001b[0m\n",
      "\u001b[0;31mAssertionError\u001b[0m: DataFrame.index are different\n\nDataFrame.index values are different (78.0 %)\n[left]:  Int64Index([42, 43, 11, 27, 49, 41, 24, 14, 20, 45, 15, 46,  9,  0,  4,  5, 47,\n            40,  1, 30, 36,  6, 12, 44, 35, 38, 22, 34, 29, 48, 32, 39, 28, 33,\n            21, 16,  8, 17, 37, 25, 13, 18,  3, 19, 26, 31,  2,  7, 10, 23],\n           dtype='int64')\n[right]: Int64Index([11, 49, 42, 43, 27, 24, 41, 14, 45, 15,  9, 46, 20,  0, 47,  4,  1,\n            40, 44, 12, 36,  5,  6, 30, 35, 29, 38, 22, 32, 34, 39, 21,  8, 33,\n            28, 48, 17, 37, 25, 16,  3, 13, 18, 19, 26, 31,  7, 10,  2, 23],\n           dtype='int64')"
     ]
    }
   ],
   "source": [
    "assert_frame_equal(syms.sort_values(['rets'], ascending=False)[['company', 'rets', 'cagr']], syms.sort_values(['cagr'], ascending=False)[['company', 'rets', 'cagr']])"
   ]
  },
  {
   "cell_type": "code",
   "execution_count": 148,
   "id": "50634b1d",
   "metadata": {},
   "outputs": [
    {
     "data": {
      "text/html": [
       "<div>\n",
       "<style scoped>\n",
       "    .dataframe tbody tr th:only-of-type {\n",
       "        vertical-align: middle;\n",
       "    }\n",
       "\n",
       "    .dataframe tbody tr th {\n",
       "        vertical-align: top;\n",
       "    }\n",
       "\n",
       "    .dataframe thead th {\n",
       "        text-align: right;\n",
       "    }\n",
       "</style>\n",
       "<table border=\"1\" class=\"dataframe\">\n",
       "  <thead>\n",
       "    <tr style=\"text-align: right;\">\n",
       "      <th></th>\n",
       "      <th>company</th>\n",
       "      <th>sector</th>\n",
       "      <th>symbol</th>\n",
       "      <th>rets</th>\n",
       "      <th>cagr</th>\n",
       "      <th>beta</th>\n",
       "      <th>mean_vol</th>\n",
       "      <th>std_vol</th>\n",
       "      <th>rets_qcut</th>\n",
       "      <th>cagr_qcut</th>\n",
       "      <th>beta_qcut</th>\n",
       "    </tr>\n",
       "  </thead>\n",
       "  <tbody>\n",
       "    <tr>\n",
       "      <th>23</th>\n",
       "      <td>IndusInd Bank</td>\n",
       "      <td>Banking</td>\n",
       "      <td>INDUSINDBK.NS</td>\n",
       "      <td>-0.026743</td>\n",
       "      <td>-0.616501</td>\n",
       "      <td>1.640898</td>\n",
       "      <td>3.544856e+09</td>\n",
       "      <td>2.083070e+08</td>\n",
       "      <td>(-0.027700000000000002, 0.12]</td>\n",
       "      <td>(-0.618, 0.227]</td>\n",
       "      <td>(1.266, 1.641]</td>\n",
       "    </tr>\n",
       "    <tr>\n",
       "      <th>2</th>\n",
       "      <td>Axis Bank</td>\n",
       "      <td>Banking</td>\n",
       "      <td>AXISBANK.NS</td>\n",
       "      <td>0.055902</td>\n",
       "      <td>-0.234704</td>\n",
       "      <td>1.531043</td>\n",
       "      <td>5.160564e+09</td>\n",
       "      <td>2.387720e+08</td>\n",
       "      <td>(-0.027700000000000002, 0.12]</td>\n",
       "      <td>(-0.618, 0.227]</td>\n",
       "      <td>(1.266, 1.641]</td>\n",
       "    </tr>\n",
       "    <tr>\n",
       "      <th>5</th>\n",
       "      <td>Bajaj Finserv</td>\n",
       "      <td>Financial Services</td>\n",
       "      <td>BAJFINANCE.NS</td>\n",
       "      <td>0.393235</td>\n",
       "      <td>1.574335</td>\n",
       "      <td>1.453214</td>\n",
       "      <td>1.121242e+09</td>\n",
       "      <td>6.892095e+07</td>\n",
       "      <td>(0.371, 0.493]</td>\n",
       "      <td>(1.126, 1.991]</td>\n",
       "      <td>(1.266, 1.641]</td>\n",
       "    </tr>\n",
       "    <tr>\n",
       "      <th>20</th>\n",
       "      <td>Hindalco Industries</td>\n",
       "      <td>Metals</td>\n",
       "      <td>HINDALCO.NS</td>\n",
       "      <td>0.495667</td>\n",
       "      <td>2.714712</td>\n",
       "      <td>1.442499</td>\n",
       "      <td>3.866562e+09</td>\n",
       "      <td>1.341658e+08</td>\n",
       "      <td>(0.493, 0.648]</td>\n",
       "      <td>(1.991, 3.369]</td>\n",
       "      <td>(1.266, 1.641]</td>\n",
       "    </tr>\n",
       "    <tr>\n",
       "      <th>22</th>\n",
       "      <td>ICICI Bank</td>\n",
       "      <td>Banking</td>\n",
       "      <td>ICICIBANK.NS</td>\n",
       "      <td>0.256390</td>\n",
       "      <td>0.757407</td>\n",
       "      <td>1.441270</td>\n",
       "      <td>6.848141e+09</td>\n",
       "      <td>2.807685e+08</td>\n",
       "      <td>(0.163, 0.275]</td>\n",
       "      <td>(0.45, 1.126]</td>\n",
       "      <td>(1.266, 1.641]</td>\n",
       "    </tr>\n",
       "    <tr>\n",
       "      <th>42</th>\n",
       "      <td>Tata Motors</td>\n",
       "      <td>Automobile</td>\n",
       "      <td>TATAMOTORS.NS</td>\n",
       "      <td>0.648152</td>\n",
       "      <td>4.790032</td>\n",
       "      <td>1.379760</td>\n",
       "      <td>1.580106e+10</td>\n",
       "      <td>7.124260e+08</td>\n",
       "      <td>(0.493, 0.648]</td>\n",
       "      <td>(3.369, 5.878]</td>\n",
       "      <td>(1.266, 1.641]</td>\n",
       "    </tr>\n",
       "    <tr>\n",
       "      <th>4</th>\n",
       "      <td>Bajaj Finance</td>\n",
       "      <td>Financial Services</td>\n",
       "      <td>BAJAJFINSV.NS</td>\n",
       "      <td>0.424414</td>\n",
       "      <td>2.090248</td>\n",
       "      <td>1.343029</td>\n",
       "      <td>1.622156e+08</td>\n",
       "      <td>8.723342e+06</td>\n",
       "      <td>(0.371, 0.493]</td>\n",
       "      <td>(1.991, 3.369]</td>\n",
       "      <td>(1.266, 1.641]</td>\n",
       "    </tr>\n",
       "    <tr>\n",
       "      <th>27</th>\n",
       "      <td>JSW Steel</td>\n",
       "      <td>Metals</td>\n",
       "      <td>JSWSTEEL.NS</td>\n",
       "      <td>0.574517</td>\n",
       "      <td>4.474085</td>\n",
       "      <td>1.273666</td>\n",
       "      <td>2.382195e+09</td>\n",
       "      <td>1.037092e+08</td>\n",
       "      <td>(0.493, 0.648]</td>\n",
       "      <td>(3.369, 5.878]</td>\n",
       "      <td>(1.266, 1.641]</td>\n",
       "    </tr>\n",
       "    <tr>\n",
       "      <th>16</th>\n",
       "      <td>HDFC</td>\n",
       "      <td>Financial Services</td>\n",
       "      <td>HDFC.NS</td>\n",
       "      <td>0.154470</td>\n",
       "      <td>0.307487</td>\n",
       "      <td>1.272721</td>\n",
       "      <td>1.122225e+09</td>\n",
       "      <td>3.955398e+07</td>\n",
       "      <td>(0.12, 0.163]</td>\n",
       "      <td>(0.227, 0.45]</td>\n",
       "      <td>(1.266, 1.641]</td>\n",
       "    </tr>\n",
       "    <tr>\n",
       "      <th>38</th>\n",
       "      <td>State Bank of India</td>\n",
       "      <td>Banking</td>\n",
       "      <td>SBIN.NS</td>\n",
       "      <td>0.269689</td>\n",
       "      <td>0.913881</td>\n",
       "      <td>1.229506</td>\n",
       "      <td>1.251016e+10</td>\n",
       "      <td>4.767985e+08</td>\n",
       "      <td>(0.163, 0.275]</td>\n",
       "      <td>(0.45, 1.126]</td>\n",
       "      <td>(1.049, 1.266]</td>\n",
       "    </tr>\n",
       "  </tbody>\n",
       "</table>\n",
       "</div>"
      ],
      "text/plain": [
       "                company              sector         symbol      rets  \\\n",
       "23        IndusInd Bank             Banking  INDUSINDBK.NS -0.026743   \n",
       "2             Axis Bank             Banking    AXISBANK.NS  0.055902   \n",
       "5         Bajaj Finserv  Financial Services  BAJFINANCE.NS  0.393235   \n",
       "20  Hindalco Industries              Metals    HINDALCO.NS  0.495667   \n",
       "22           ICICI Bank             Banking   ICICIBANK.NS  0.256390   \n",
       "42          Tata Motors          Automobile  TATAMOTORS.NS  0.648152   \n",
       "4         Bajaj Finance  Financial Services  BAJAJFINSV.NS  0.424414   \n",
       "27            JSW Steel              Metals    JSWSTEEL.NS  0.574517   \n",
       "16                 HDFC  Financial Services        HDFC.NS  0.154470   \n",
       "38  State Bank of India             Banking        SBIN.NS  0.269689   \n",
       "\n",
       "        cagr      beta      mean_vol       std_vol  \\\n",
       "23 -0.616501  1.640898  3.544856e+09  2.083070e+08   \n",
       "2  -0.234704  1.531043  5.160564e+09  2.387720e+08   \n",
       "5   1.574335  1.453214  1.121242e+09  6.892095e+07   \n",
       "20  2.714712  1.442499  3.866562e+09  1.341658e+08   \n",
       "22  0.757407  1.441270  6.848141e+09  2.807685e+08   \n",
       "42  4.790032  1.379760  1.580106e+10  7.124260e+08   \n",
       "4   2.090248  1.343029  1.622156e+08  8.723342e+06   \n",
       "27  4.474085  1.273666  2.382195e+09  1.037092e+08   \n",
       "16  0.307487  1.272721  1.122225e+09  3.955398e+07   \n",
       "38  0.913881  1.229506  1.251016e+10  4.767985e+08   \n",
       "\n",
       "                        rets_qcut        cagr_qcut       beta_qcut  \n",
       "23  (-0.027700000000000002, 0.12]  (-0.618, 0.227]  (1.266, 1.641]  \n",
       "2   (-0.027700000000000002, 0.12]  (-0.618, 0.227]  (1.266, 1.641]  \n",
       "5                  (0.371, 0.493]   (1.126, 1.991]  (1.266, 1.641]  \n",
       "20                 (0.493, 0.648]   (1.991, 3.369]  (1.266, 1.641]  \n",
       "22                 (0.163, 0.275]    (0.45, 1.126]  (1.266, 1.641]  \n",
       "42                 (0.493, 0.648]   (3.369, 5.878]  (1.266, 1.641]  \n",
       "4                  (0.371, 0.493]   (1.991, 3.369]  (1.266, 1.641]  \n",
       "27                 (0.493, 0.648]   (3.369, 5.878]  (1.266, 1.641]  \n",
       "16                  (0.12, 0.163]    (0.227, 0.45]  (1.266, 1.641]  \n",
       "38                 (0.163, 0.275]    (0.45, 1.126]  (1.049, 1.266]  "
      ]
     },
     "execution_count": 148,
     "metadata": {},
     "output_type": "execute_result"
    }
   ],
   "source": [
    "syms.sort_values(['beta'], ascending=False).head(10)"
   ]
  },
  {
   "cell_type": "markdown",
   "id": "0df81430",
   "metadata": {},
   "source": [
    "##### Generate scatter plots for beta vs. abs returns and beta vs. CAGR"
   ]
  },
  {
   "cell_type": "code",
   "execution_count": 136,
   "id": "13dddd4c",
   "metadata": {},
   "outputs": [
    {
     "data": {
      "image/png": "[encoded data removed]",
      "text/plain": [
       "<Figure size 720x432 with 1 Axes>"
      ]
     },
     "metadata": {
      "needs_background": "light"
     },
     "output_type": "display_data"
    }
   ],
   "source": [
    "syms.plot(kind='scatter', x='rets', y='beta', figsize=(10, 6), grid=True, title='Beta vs. Abs Rets')\n",
    "plt.show()"
   ]
  },
  {
   "cell_type": "code",
   "execution_count": 137,
   "id": "b5db672e",
   "metadata": {},
   "outputs": [
    {
     "data": {
      "image/png": "[encoded data removed]",
      "text/plain": [
       "<Figure size 720x432 with 1 Axes>"
      ]
     },
     "metadata": {
      "needs_background": "light"
     },
     "output_type": "display_data"
    }
   ],
   "source": [
    "syms.plot(kind='scatter', x='cagr', y='beta', figsize=(10, 6), grid=True, title='Beta vs. CAGR')\n",
    "plt.show() "
   ]
  },
  {
   "cell_type": "markdown",
   "id": "49c84019",
   "metadata": {},
   "source": [
    "##### Find correlation between returns/cagr with beta "
   ]
  },
  {
   "cell_type": "code",
   "execution_count": 138,
   "id": "bd2e59be",
   "metadata": {},
   "outputs": [
    {
     "data": {
      "text/plain": [
       "0.030973056301464196"
      ]
     },
     "execution_count": 138,
     "metadata": {},
     "output_type": "execute_result"
    }
   ],
   "source": [
    "syms['rets'].corr(syms['beta'])"
   ]
  },
  {
   "cell_type": "code",
   "execution_count": 139,
   "id": "ad6cc0e8",
   "metadata": {},
   "outputs": [
    {
     "data": {
      "text/plain": [
       "-0.053569559030180305"
      ]
     },
     "execution_count": 139,
     "metadata": {},
     "output_type": "execute_result"
    }
   ],
   "source": [
    "syms['cagr'].corr(syms['beta'])"
   ]
  },
  {
   "cell_type": "code",
   "execution_count": 150,
   "id": "6c3b602f",
   "metadata": {},
   "outputs": [
    {
     "data": {
      "text/plain": [
       "0.3356134004350413"
      ]
     },
     "execution_count": 150,
     "metadata": {},
     "output_type": "execute_result"
    }
   ],
   "source": [
    "syms['mean_vol'].corr(syms['beta'])"
   ]
  },
  {
   "cell_type": "code",
   "execution_count": 151,
   "id": "b91e11f5",
   "metadata": {},
   "outputs": [
    {
     "data": {
      "text/plain": [
       "0.28219602024244295"
      ]
     },
     "execution_count": 151,
     "metadata": {},
     "output_type": "execute_result"
    }
   ],
   "source": [
    "syms['std_vol'].corr(syms['beta'])"
   ]
  },
  {
   "cell_type": "markdown",
   "id": "f5df67dc",
   "metadata": {},
   "source": [
    "##### Divide returns, CAGR and beta in 6 quantiles and check for sector counts "
   ]
  },
  {
   "cell_type": "code",
   "execution_count": 140,
   "id": "fa5688e2",
   "metadata": {},
   "outputs": [],
   "source": [
    "syms['rets_qcut'] = pd.qcut(syms['rets'], q=6)\n",
    "syms['cagr_qcut'] = pd.qcut(syms['cagr'], q=6)\n",
    "syms['beta_qcut'] = pd.qcut(syms['beta'], q=6)"
   ]
  },
  {
   "cell_type": "code",
   "execution_count": 141,
   "id": "360205be",
   "metadata": {},
   "outputs": [
    {
     "data": {
      "text/plain": [
       "rets_qcut\n",
       "(-0.027700000000000002, 0.12]    9\n",
       "(0.12, 0.163]                    8\n",
       "(0.163, 0.275]                   8\n",
       "(0.275, 0.371]                   8\n",
       "(0.371, 0.493]                   8\n",
       "(0.493, 0.648]                   9\n",
       "Name: sector, dtype: int64"
      ]
     },
     "execution_count": 141,
     "metadata": {},
     "output_type": "execute_result"
    }
   ],
   "source": [
    "syms.groupby(['rets_qcut'])['sector'].count()"
   ]
  },
  {
   "cell_type": "code",
   "execution_count": 142,
   "id": "c2cb4c94",
   "metadata": {},
   "outputs": [
    {
     "data": {
      "text/plain": [
       "cagr_qcut\n",
       "(-0.618, 0.227]    9\n",
       "(0.227, 0.45]      8\n",
       "(0.45, 1.126]      8\n",
       "(1.126, 1.991]     8\n",
       "(1.991, 3.369]     8\n",
       "(3.369, 5.878]     9\n",
       "Name: sector, dtype: int64"
      ]
     },
     "execution_count": 142,
     "metadata": {},
     "output_type": "execute_result"
    }
   ],
   "source": [
    "syms.groupby(['cagr_qcut'])['sector'].count()"
   ]
  },
  {
   "cell_type": "code",
   "execution_count": 143,
   "id": "8942055f",
   "metadata": {},
   "outputs": [
    {
     "data": {
      "text/plain": [
       "beta_qcut\n",
       "(0.405, 0.671]    9\n",
       "(0.671, 0.78]     8\n",
       "(0.78, 0.9]       8\n",
       "(0.9, 1.049]      8\n",
       "(1.049, 1.266]    8\n",
       "(1.266, 1.641]    9\n",
       "Name: sector, dtype: int64"
      ]
     },
     "execution_count": 143,
     "metadata": {},
     "output_type": "execute_result"
    }
   ],
   "source": [
    "syms.groupby(['beta_qcut'])['sector'].count()"
   ]
  },
  {
   "cell_type": "code",
   "execution_count": 144,
   "id": "81ec4e79",
   "metadata": {},
   "outputs": [
    {
     "data": {
      "text/html": [
       "<div>\n",
       "<style scoped>\n",
       "    .dataframe tbody tr th:only-of-type {\n",
       "        vertical-align: middle;\n",
       "    }\n",
       "\n",
       "    .dataframe tbody tr th {\n",
       "        vertical-align: top;\n",
       "    }\n",
       "\n",
       "    .dataframe thead th {\n",
       "        text-align: right;\n",
       "    }\n",
       "</style>\n",
       "<table border=\"1\" class=\"dataframe\">\n",
       "  <thead>\n",
       "    <tr style=\"text-align: right;\">\n",
       "      <th></th>\n",
       "      <th>unique_beta_qcut</th>\n",
       "      <th>sector_count</th>\n",
       "    </tr>\n",
       "    <tr>\n",
       "      <th>sector</th>\n",
       "      <th></th>\n",
       "      <th></th>\n",
       "    </tr>\n",
       "  </thead>\n",
       "  <tbody>\n",
       "    <tr>\n",
       "      <th>Automobile</th>\n",
       "      <td>4</td>\n",
       "      <td>6</td>\n",
       "    </tr>\n",
       "    <tr>\n",
       "      <th>Banking</th>\n",
       "      <td>2</td>\n",
       "      <td>6</td>\n",
       "    </tr>\n",
       "    <tr>\n",
       "      <th>Cement</th>\n",
       "      <td>3</td>\n",
       "      <td>3</td>\n",
       "    </tr>\n",
       "    <tr>\n",
       "      <th>Chemicals</th>\n",
       "      <td>1</td>\n",
       "      <td>1</td>\n",
       "    </tr>\n",
       "    <tr>\n",
       "      <th>Construction</th>\n",
       "      <td>1</td>\n",
       "      <td>1</td>\n",
       "    </tr>\n",
       "    <tr>\n",
       "      <th>Consumer Durables</th>\n",
       "      <td>1</td>\n",
       "      <td>1</td>\n",
       "    </tr>\n",
       "    <tr>\n",
       "      <th>Consumer Goods</th>\n",
       "      <td>3</td>\n",
       "      <td>6</td>\n",
       "    </tr>\n",
       "    <tr>\n",
       "      <th>Energy - Oil &amp; Gas</th>\n",
       "      <td>3</td>\n",
       "      <td>4</td>\n",
       "    </tr>\n",
       "    <tr>\n",
       "      <th>Energy - Power</th>\n",
       "      <td>2</td>\n",
       "      <td>2</td>\n",
       "    </tr>\n",
       "    <tr>\n",
       "      <th>Financial Services</th>\n",
       "      <td>3</td>\n",
       "      <td>5</td>\n",
       "    </tr>\n",
       "    <tr>\n",
       "      <th>Information Technology</th>\n",
       "      <td>2</td>\n",
       "      <td>5</td>\n",
       "    </tr>\n",
       "    <tr>\n",
       "      <th>Infrastructure</th>\n",
       "      <td>1</td>\n",
       "      <td>1</td>\n",
       "    </tr>\n",
       "    <tr>\n",
       "      <th>Metals</th>\n",
       "      <td>3</td>\n",
       "      <td>4</td>\n",
       "    </tr>\n",
       "    <tr>\n",
       "      <th>Pharmaceuticals</th>\n",
       "      <td>1</td>\n",
       "      <td>4</td>\n",
       "    </tr>\n",
       "    <tr>\n",
       "      <th>Telecommunication</th>\n",
       "      <td>1</td>\n",
       "      <td>1</td>\n",
       "    </tr>\n",
       "  </tbody>\n",
       "</table>\n",
       "</div>"
      ],
      "text/plain": [
       "                        unique_beta_qcut  sector_count\n",
       "sector                                                \n",
       "Automobile                             4             6\n",
       "Banking                                2             6\n",
       "Cement                                 3             3\n",
       "Chemicals                              1             1\n",
       "Construction                           1             1\n",
       "Consumer Durables                      1             1\n",
       "Consumer Goods                         3             6\n",
       "Energy - Oil & Gas                     3             4\n",
       "Energy - Power                         2             2\n",
       "Financial Services                     3             5\n",
       "Information Technology                 2             5\n",
       "Infrastructure                         1             1\n",
       "Metals                                 3             4\n",
       "Pharmaceuticals                        1             4\n",
       "Telecommunication                      1             1"
      ]
     },
     "execution_count": 144,
     "metadata": {},
     "output_type": "execute_result"
    }
   ],
   "source": [
    "syms.groupby(['sector']).agg(unique_beta_qcut=('beta_qcut', 'nunique'), sector_count=('sector', 'count'))"
   ]
  },
  {
   "cell_type": "markdown",
   "id": "8952dbaf",
   "metadata": {},
   "source": [
    "##### Generate scatter plot beta vs. mean_vol and beta vs. std_vol "
   ]
  },
  {
   "cell_type": "code",
   "execution_count": 145,
   "id": "a7598d50",
   "metadata": {},
   "outputs": [
    {
     "data": {
      "image/png": "[encoded data removed]",
      "text/plain": [
       "<Figure size 720x432 with 1 Axes>"
      ]
     },
     "metadata": {
      "needs_background": "light"
     },
     "output_type": "display_data"
    }
   ],
   "source": [
    "syms.plot(kind='scatter', x='mean_vol', y='beta', grid=True, title='Beta vs. Mean Volume', figsize=(10, 6))\n",
    "plt.show() "
   ]
  },
  {
   "cell_type": "code",
   "execution_count": 146,
   "id": "13e745fe",
   "metadata": {},
   "outputs": [
    {
     "data": {
      "image/png": "[encoded data removed]",
      "text/plain": [
       "<Figure size 720x432 with 1 Axes>"
      ]
     },
     "metadata": {
      "needs_background": "light"
     },
     "output_type": "display_data"
    }
   ],
   "source": [
    "syms.plot(kind='scatter', x='std_vol', y='beta', grid=True, title='Beta vs. Std Volume', figsize=(10, 6))\n",
    "plt.show()"
   ]
  }
 ],
 "metadata": {
  "kernelspec": {
   "display_name": "Python 3",
   "language": "python",
   "name": "python3"
  },
  "language_info": {
   "codemirror_mode": {
    "name": "ipython",
    "version": 3
   },
   "file_extension": ".py",
   "mimetype": "text/x-python",
   "name": "python",
   "nbconvert_exporter": "python",
   "pygments_lexer": "ipython3",
   "version": "3.8.8"
  }
 },
 "nbformat": 4,
 "nbformat_minor": 5
}
