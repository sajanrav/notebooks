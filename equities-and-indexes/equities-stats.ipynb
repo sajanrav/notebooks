{
 "cells": [
  {
   "cell_type": "code",
   "execution_count": null,
   "metadata": {},
   "outputs": [],
   "source": [
    "#Stocks\n",
    "#------\n",
    "#^NSEI\n",
    "#NATIONALUM.NS\n",
    "#BHEL.NS\n",
    "#YESBANK.NS \n",
    "#GAIL.NS\n",
    "#MRPL.NS\n",
    "#ONGC.NS\n",
    "#SJVN.NS \n",
    "#TATAPOWER.NS"
   ]
  },
  {
   "cell_type": "markdown",
   "metadata": {},
   "source": [
    "### Import libraries"
   ]
  },
  {
   "cell_type": "code",
   "execution_count": 12,
   "metadata": {},
   "outputs": [],
   "source": [
    "import pandas as pd\n",
    "import numpy as np \n",
    "import yfinance as yf\n",
    "import seaborn as sns\n",
    "import matplotlib.pyplot as plt\n",
    "from itertools import permutations, combinations\n",
    "%matplotlib inline"
   ]
  },
  {
   "cell_type": "markdown",
   "metadata": {},
   "source": [
    "### Constants"
   ]
  },
  {
   "cell_type": "code",
   "execution_count": null,
   "metadata": {},
   "outputs": [],
   "source": [
    "syms = ['^NSEI', 'NATIONALUM.NS', 'BHEL.NS', 'YESBANK.NS', 'GAIL.NS', 'MRPL.NS', 'ONGC.NS', 'SJVN.NS', 'TATAPOWER.NS']\n",
    "start_date = '2016-01-01'\n",
    "end_date   = '2020-11-30'"
   ]
  },
  {
   "cell_type": "markdown",
   "metadata": {},
   "source": [
    "### Fetching price data from Yahoo Finance"
   ]
  },
  {
   "cell_type": "code",
   "execution_count": null,
   "metadata": {},
   "outputs": [],
   "source": [
    "price_df = pd.DataFrame()\n",
    "for sym in syms:\n",
    "    df = yf.download(sym, start_date, end_date)\n",
    "    df['sym'] = [sym] * len(df)\n",
    "    price_df = pd.concat([price_df, df])\n",
    "price_df.to_csv('datasets/nse_equities_20160101_20201130.csv')"
   ]
  },
  {
   "cell_type": "markdown",
   "metadata": {},
   "source": [
    "### Fetching price data from local file "
   ]
  },
  {
   "cell_type": "code",
   "execution_count": null,
   "metadata": {},
   "outputs": [],
   "source": [
    "price_df = pd.read_csv('datasets/nse_equities_20160101_20201130.csv')"
   ]
  },
  {
   "cell_type": "markdown",
   "metadata": {},
   "source": [
    "### Calculating arithmetic returns for symbols "
   ]
  },
  {
   "cell_type": "code",
   "execution_count": null,
   "metadata": {},
   "outputs": [],
   "source": [
    "price_df.reset_index(inplace=True)\n",
    "filt_df = price_df[['Date', 'sym', 'Adj Close', 'Volume']].copy()\n",
    "filt_df['price_ret'] = filt_df['Adj Close']/filt_df['Adj Close'].shift(1) - 1\n",
    "filt_df.dropna(axis=0, how='any', inplace=True)\n",
    "filt_df.reset_index(drop=True, inplace=True)"
   ]
  },
  {
   "cell_type": "markdown",
   "metadata": {},
   "source": [
    "### Basic data profiling "
   ]
  },
  {
   "cell_type": "code",
   "execution_count": null,
   "metadata": {},
   "outputs": [],
   "source": [
    "ret_df = filt_df.pivot(index='Date', columns='sym', values='price_ret' ).dropna(axis=0, how='any')"
   ]
  },
  {
   "cell_type": "code",
   "execution_count": null,
   "metadata": {},
   "outputs": [],
   "source": [
    "ret_df.corr()"
   ]
  },
  {
   "cell_type": "code",
   "execution_count": null,
   "metadata": {},
   "outputs": [],
   "source": [
    "sns.heatmap(ret_df.corr())\n",
    "plt.show()"
   ]
  },
  {
   "cell_type": "code",
   "execution_count": null,
   "metadata": {},
   "outputs": [],
   "source": [
    "fig, axes = plt.subplots(4,2, figsize=(15,20))\n",
    "plt.subplots_adjust(wspace=0.2, hspace=0.5)\n",
    "row, col = 0, 0 \n",
    "\n",
    "for sym in syms:\n",
    "    if sym == '^NSEI':\n",
    "        continue\n",
    "        \n",
    "    ser1 = filt_df[filt_df['sym'] == sym][['Date', 'Adj Close']].reset_index(drop=True).rename(columns={'Adj Close':sym})\n",
    "    ser1[sym] = np.log(ser1[sym])\n",
    "    ser2 = filt_df[filt_df['sym'] == '^NSEI'][['Date', 'Adj Close']].reset_index(drop=True).rename(columns={'Adj Close':'NSE'})\n",
    "    ser2['NSE'] = np.log(ser2['NSE'])\n",
    "    df = pd.merge(ser1, ser2, on='Date')\n",
    "    df.plot(x='Date', y=[sym, 'NSE'], kind='line', ax=axes[row][col], grid=True, title=sym)\n",
    "    if col < 1:\n",
    "        col += 1\n",
    "    else:\n",
    "        row += 1\n",
    "        col = 0 \n",
    "        \n",
    "plt.show()"
   ]
  },
  {
   "cell_type": "code",
   "execution_count": null,
   "metadata": {},
   "outputs": [],
   "source": [
    "fig, axes = plt.subplots(4,2, figsize=(15,20))\n",
    "plt.subplots_adjust(wspace=0.2, hspace=0.5)\n",
    "row, col = 0, 0 \n",
    "\n",
    "for sym in syms:\n",
    "    if sym == '^NSEI':\n",
    "        continue\n",
    "        \n",
    "    ser1 = filt_df[filt_df['sym'] == sym]['price_ret'].reset_index(drop=True)\n",
    "    ser2 = filt_df[filt_df['sym'] == '^NSEI']['price_ret'].reset_index(drop=True)\n",
    "    df = pd.DataFrame({sym:ser1, 'NSE':ser2})\n",
    "    df.plot(x=sym, y='NSE', kind='scatter', ax=axes[row][col], grid=True)\n",
    "    if col < 1:\n",
    "        col += 1\n",
    "    else:\n",
    "        row += 1\n",
    "        col = 0 \n",
    "        \n",
    "plt.show()"
   ]
  },
  {
   "cell_type": "code",
   "execution_count": null,
   "metadata": {},
   "outputs": [],
   "source": [
    "fig, axes = plt.subplots(4,2, figsize=(15,20))\n",
    "plt.subplots_adjust(wspace=0.2, hspace=0.5)\n",
    "row, col = 0, 0 \n",
    "\n",
    "for sym in syms:\n",
    "    if sym == '^NSEI':\n",
    "        continue\n",
    "        \n",
    "    ser1 = filt_df[filt_df['sym'] == sym]['price_ret'].reset_index(drop=True)\n",
    "    ser2 = filt_df[filt_df['sym'] == '^NSEI']['price_ret'].reset_index(drop=True)\n",
    "    df = pd.DataFrame({sym:np.log(ser1), 'NSE':np.log(ser2)})\n",
    "    df.plot(x=sym, y='NSE', kind='scatter', ax=axes[row][col], grid=True)\n",
    "    if col < 1:\n",
    "        col += 1\n",
    "    else:\n",
    "        row += 1\n",
    "        col = 0 \n",
    "        \n",
    "plt.show()"
   ]
  },
  {
   "cell_type": "markdown",
   "metadata": {},
   "source": [
    "### Creating symbol list as per criteria"
   ]
  },
  {
   "cell_type": "code",
   "execution_count": null,
   "metadata": {
    "scrolled": true
   },
   "outputs": [],
   "source": [
    "stats_df = pd.DataFrame(columns=['symbol', 'sharpe', 'beta', 'mean_ret', 'std_ret'])\n",
    "idx = 0 \n",
    "for sym in syms:\n",
    "    if sym == '^NSEI':\n",
    "        continue\n",
    "    \n",
    "    ser1 = filt_df[filt_df['sym'] == sym]['price_ret'].reset_index(drop=True)\n",
    "    ser2 = filt_df[filt_df['sym'] == '^NSEI']['price_ret'].reset_index(drop=True)\n",
    "    sharpe = (ser1.mean()/ser2.std()) * pow(252, 0.5)\n",
    "    beta   = ser1.cov(ser2) / ser2.var()\n",
    "    mean_ret = ser1.mean()\n",
    "    std_ret  = ser1.std()\n",
    "    stats_df.loc[idx] = [sym, sharpe, beta, mean_ret, std_ret]\n",
    "    idx += 1\n",
    "\n",
    "stats_df"
   ]
  },
  {
   "cell_type": "code",
   "execution_count": null,
   "metadata": {},
   "outputs": [],
   "source": [
    "sharpe_top_5   = stats_df.sort_values(['sharpe'], ascending=False)['symbol'].tolist()[:5]\n",
    "beta_top_5     = stats_df.sort_values(['beta'], ascending=False)['symbol'].tolist()[:5]\n",
    "beta_bottom_5  = stats_df.sort_values(['beta'], ascending=True)['symbol'].tolist()[:5]\n",
    "mean_top_5     = stats_df.sort_values(['mean_ret'], ascending=False)['symbol'].tolist()[:5]\n",
    "std_top_5      = stats_df.sort_values(['std_ret'], ascending=False)['symbol'].tolist()[:5]"
   ]
  },
  {
   "cell_type": "code",
   "execution_count": null,
   "metadata": {},
   "outputs": [],
   "source": [
    "sharpe_top_5, beta_top_5, beta_bottom_5, mean_top_5, std_top_5"
   ]
  },
  {
   "cell_type": "code",
   "execution_count": null,
   "metadata": {},
   "outputs": [],
   "source": [
    "stats_df.plot(x='symbol', y=['sharpe', 'beta', 'mean_ret', 'std_ret'], grid=True, kind='bar', figsize=(10,5))\n",
    "plt.show()"
   ]
  },
  {
   "cell_type": "markdown",
   "metadata": {},
   "source": [
    "### Functions to calculate optimal portfolio and corresponding stats"
   ]
  },
  {
   "cell_type": "code",
   "execution_count": null,
   "metadata": {},
   "outputs": [],
   "source": [
    "def get_weights(syms):\n",
    "    print(\"In get_weights()\")\n",
    "    weights = list(np.arange(0,1,0.05))\n",
    "    weights = [ round(val, 3) for val in weights ]\n",
    "    weights_list = []\n",
    "    for i in range(len(syms)): \n",
    "        weights_list.extend(weights)\n",
    "    \n",
    "    weights_comb = set(list(combinations(weights_list, 5)))\n",
    "    weights_comb = [ val for val in weights_comb if sum(val) == 1]\n",
    "    \n",
    "    return weights_comb"
   ]
  },
  {
   "cell_type": "code",
   "execution_count": null,
   "metadata": {},
   "outputs": [],
   "source": [
    "def get_max_dd(df):\n",
    "    df['max'] = df['total_value'].cummax()\n",
    "    df['dd']  = df['total_value']/df['max'] - 1\n",
    "    \n",
    "    return abs(df['dd'].min())*100"
   ]
  },
  {
   "cell_type": "code",
   "execution_count": null,
   "metadata": {},
   "outputs": [],
   "source": [
    "def return_pval_df(weights, syms, value, df): \n",
    "    print(\"In return_pval_df()\")\n",
    "    final_df = pd.DataFrame(columns=['weights', 'mean', 'std', 'sharpe', 'max_dd'])\n",
    "    for idx, wt in enumerate(weights):\n",
    "        ret_cols = list(df.columns)[1:]\n",
    "        pval_cols = [ 'pval_' + val.replace('ret_','') for val in ret_cols ] \n",
    "        df['total_value'] = 0\n",
    "        for i in range(len(syms)):\n",
    "            df.loc[:, pval_cols[i]] = df.loc[:, ret_cols[i]] * wt[i] * value\n",
    "            df['total_value'] = df['total_value'] + df[pval_cols[i]]\n",
    "            \n",
    "        df['return'] = df['total_value']/df['total_value'].shift(1) - 1\n",
    "        \n",
    "        pvalue_mean   = round(df['return'].mean(), 4)\n",
    "        pvalue_std    = round(df['return'].std(), 4)\n",
    "        pvalue_sharpe = round(pvalue_mean / pvalue_std * pow(252, 0.5), 4)\n",
    "        pvalue_max_dd = round(get_max_dd(df), 4)\n",
    "        weight_names  = ','.join([ str(val1) + '-' + str(val2) for val1, val2 in zip(wt, syms) ])\n",
    "        final_df.loc[idx] = [weight_names, pvalue_mean, pvalue_std, pvalue_sharpe, pvalue_max_dd] \n",
    "    \n",
    "    return final_df"
   ]
  },
  {
   "cell_type": "code",
   "execution_count": null,
   "metadata": {},
   "outputs": [],
   "source": [
    "def plot_pval(pval_df): \n",
    "    fig, ax = plt.subplots(figsize=(8,5))\n",
    "    sns.scatterplot(x='std', y='mean', data=pval_df)\n",
    "    std_max_sharpe, mean_max_sharpe = pval_df[pval_df['sharpe'] == pval_df['sharpe'].max()]['std'].iloc[0], \\\n",
    "                                      pval_df[pval_df['sharpe'] == pval_df['sharpe'].max()]['mean'].iloc[0]\n",
    "    ax.annotate('Max Sharpe \\n(Mean: {},\\n Std: {})'.format(mean_max_sharpe, std_max_sharpe), xy=(std_max_sharpe, mean_max_sharpe), xytext=(20,100), textcoords='offset points', arrowprops=dict(arrowstyle='->', color='black'), ha='center', va='center')\n",
    "    plt.show()"
   ]
  },
  {
   "cell_type": "code",
   "execution_count": null,
   "metadata": {},
   "outputs": [],
   "source": [
    "def get_portfolio_data(value, syms, filt_df):\n",
    "    print(\"In get_portfolio_data()\")\n",
    "    weights = get_weights(syms)\n",
    "    ret_value_df = filt_df[filt_df['sym'].isin(syms)].reset_index(drop=True)\n",
    "    ret_value_df = ret_value_df.pivot(index='Date', columns='sym', values='price_ret')\n",
    "    ret_value_df.columns = [ 'ret_' + val for val in list(ret_value_df.columns) ]\n",
    "    ret_value_df.reset_index(inplace=True)\n",
    "    pval_df  = return_pval_df(weights, syms, value, ret_value_df)\n",
    "    plot_pval(pval_df)\n",
    "    \n",
    "    return pval_df"
   ]
  },
  {
   "cell_type": "code",
   "execution_count": null,
   "metadata": {},
   "outputs": [],
   "source": [
    "def get_portfolio_stats(value, syms):\n",
    "    final_df = get_portfolio_data(value, syms, filt_df)\n",
    "    final_df = final_df.sort_values(['sharpe'], ascending=False).reset_index(drop=True)\n",
    "    print(\"Weights : {}\".format(final_df.loc[0,'weights']))\n",
    "    print(\"Mean    : {}\".format(final_df.loc[1,'mean']))\n",
    "    print(\"Std     : {}\".format(final_df.loc[2,'std']))\n",
    "    print(\"Sharpe  : {}\".format(final_df.loc[3,'sharpe']))\n",
    "    print(\"Max DD  : {}\".format(final_df.loc[4,'max_dd']))"
   ]
  },
  {
   "cell_type": "markdown",
   "metadata": {},
   "source": [
    "### Function calls to calculate portfolio stats for symbol groups "
   ]
  },
  {
   "cell_type": "code",
   "execution_count": null,
   "metadata": {},
   "outputs": [],
   "source": [
    "get_portfolio_stats(1, sharpe_top_5)"
   ]
  },
  {
   "cell_type": "code",
   "execution_count": null,
   "metadata": {},
   "outputs": [],
   "source": [
    "get_portfolio_stats(1, beta_top_5)"
   ]
  },
  {
   "cell_type": "code",
   "execution_count": null,
   "metadata": {},
   "outputs": [],
   "source": [
    "get_portfolio_stats(1, beta_bottom_5)"
   ]
  },
  {
   "cell_type": "code",
   "execution_count": null,
   "metadata": {},
   "outputs": [],
   "source": [
    "get_portfolio_stats(1, mean_top_5)"
   ]
  },
  {
   "cell_type": "code",
   "execution_count": null,
   "metadata": {},
   "outputs": [],
   "source": [
    "get_portfolio_stats(1, std_top_5)"
   ]
  }
 ],
 "metadata": {
  "kernelspec": {
   "display_name": "Python 3",
   "language": "python",
   "name": "python3"
  },
  "language_info": {
   "codemirror_mode": {
    "name": "ipython",
    "version": 3
   },
   "file_extension": ".py",
   "mimetype": "text/x-python",
   "name": "python",
   "nbconvert_exporter": "python",
   "pygments_lexer": "ipython3",
   "version": "3.8.6"
  }
 },
 "nbformat": 4,
 "nbformat_minor": 4
}
