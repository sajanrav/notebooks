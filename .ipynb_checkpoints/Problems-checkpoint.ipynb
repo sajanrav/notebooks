{
 "cells": [
  {
   "cell_type": "code",
   "execution_count": 63,
   "metadata": {},
   "outputs": [
    {
     "data": {
      "text/plain": [
       "900"
      ]
     },
     "execution_count": 63,
     "metadata": {},
     "output_type": "execute_result"
    }
   ],
   "source": [
    "#Given a text with logs of telephone calls in the format HH:MM:SS, XXX-XXX-XXX, \n",
    "#find out the total cost. \n",
    "#The cost calculation is to be done as follows:\n",
    "#1. If the call duration is less than 5 mins, \n",
    "#   for every second, multiply by 3 cents\n",
    "#2. If the call duration is more than or equal \n",
    "#   to 5 mins, multiply every started minute by \n",
    "#   5 cents\n",
    "#The number with the longest duration is ignored from the \n",
    "#cost calculation.\n",
    "\n",
    "from datetime import datetime, date, timedelta\n",
    "import math\n",
    "\n",
    "def get_cost(S):\n",
    "    logs = S.split('\\n')\n",
    "    logs = [ [val.split(',')[0], val.split(',')[1]] for val in logs ]\n",
    "    for val in logs:\n",
    "        time_val = datetime.strptime(val[0], '%H:%M:%S')\n",
    "        val[0] = time_val.hour * 3600 + time_val.minute * 60 + time_val.second \n",
    "\n",
    "    phone_nums = [ val[1] for val in logs ]\n",
    "    phone_nums = set(phone_nums)\n",
    "    tot_duration = {}\n",
    "\n",
    "    for val in phone_nums:\n",
    "        tot_dur_num = 0\n",
    "        for desc in logs:\n",
    "            if val == desc[1]:\n",
    "                tot_dur_num = tot_dur_num + desc[0]\n",
    "        tot_duration[val] = tot_dur_num\n",
    "\n",
    "    max_time = max(tot_duration.values())\n",
    "    ignore_nums = []\n",
    "    for num, dur in tot_duration.items():\n",
    "        if dur == max_time:\n",
    "            ignore_nums.append(num)\n",
    "        \n",
    "    if len(ignore_nums) > 1:\n",
    "        numbers = [ (val, int(val.replace('-',''))) for val in ignore_nums ]\n",
    "        ignore_number =  min(numbers, key=lambda t:t[1])[0]\n",
    "    else:\n",
    "        ignore_number = ignore_nums[0]\n",
    "\n",
    "    cost = 0\n",
    "    for details in logs:\n",
    "        if details[1] != ignore_number:\n",
    "            mins = math.ceil(details[0] / 60)\n",
    "            if mins < 5:\n",
    "                cost = cost + details[0]*3\n",
    "            elif mins >= 5:\n",
    "                cost = cost + mins*150\n",
    "    return cost\n",
    "\n",
    "S = \"00:01:07,400-234-090\\n00:05:01,701-080-080\\n00:05:00,400-234-090\"\n",
    "get_cost(S)"
   ]
  },
  {
   "cell_type": "code",
   "execution_count": 61,
   "metadata": {},
   "outputs": [
    {
     "data": {
      "text/plain": [
       "(6, [321, 132, 231, 213, 312, 123])"
      ]
     },
     "execution_count": 61,
     "metadata": {},
     "output_type": "execute_result"
    }
   ],
   "source": [
    "#Given an integer N, find the no. of integers of same length \n",
    "#which could be generated from it.\n",
    "\n",
    "import itertools\n",
    "\n",
    "def similar_numbers(N):\n",
    "    perm_n = []\n",
    "    if N < 99999:\n",
    "        str_n = str(N)\n",
    "        perm_n = [ int(''.join(val)) for val in itertools.permutations(str_n, len(str_n))]\n",
    "        perm_n = [ val for val in perm_n if len(str(val)) == len(str_n)]\n",
    "    \n",
    "    return len(set(perm_n)), list(set(perm_n))\n",
    "    \n",
    "similar_numbers(123)"
   ]
  },
  {
   "cell_type": "code",
   "execution_count": null,
   "metadata": {},
   "outputs": [],
   "source": [
    "#The source of the next step of problems is:\n",
    "#https://github.com/karan/Projects"
   ]
  },
  {
   "cell_type": "code",
   "execution_count": 5,
   "metadata": {},
   "outputs": [
    {
     "data": {
      "text/plain": [
       "('JK', 'BC', 'HI', 'HI')"
      ]
     },
     "execution_count": 5,
     "metadata": {},
     "output_type": "execute_result"
    }
   ],
   "source": [
    "#Caesar cipher - Implement a Caesar cipher, both encoding and decoding. \n",
    "#The key is an integer from 1 to 25. This cipher rotates the letters of\n",
    "#the alphabet (A to Z). The encoding replaces each letter with the 1st to\n",
    "#25th next letter in the alphabet (wrapping Z to A). So key 2 encrypts \n",
    "#\"HI\" to \"JK\", but key 20 encrypts \"HI\" to \"BC\". This simple \n",
    "#\"monoalphabetic substitution cipher\" provides almost no security, \n",
    "#because an attacker who has the encoded message can either use \n",
    "#frequency analysis to guess the key, or just try all 25 keys\n",
    "\n",
    "def encrypt(plain, p_key):\n",
    "    p_ord = [ ord(val) for val in plain ]\n",
    "    c_ord = []\n",
    "    for val in p_ord:\n",
    "        c_key = val + p_key\n",
    "        if c_key <= 90:\n",
    "            c_ord.append(c_key)\n",
    "        else:\n",
    "            c_ord.append(64+(c_key-90))\n",
    "            \n",
    "    cipher = [ chr(val) for val in c_ord ]\n",
    "    \n",
    "    return \"\".join(cipher)\n",
    "\n",
    "def decrypt(cipher, c_key):\n",
    "    c_ord = [ ord(val) for val in cipher ]\n",
    "    p_ord = []\n",
    "    for val in c_ord:\n",
    "        p_key = val - c_key\n",
    "        if p_key >= 64:\n",
    "            p_ord.append(p_key)\n",
    "        else:\n",
    "            p_ord.append(91-(65-p_key ))\n",
    "    \n",
    "    plain = [ chr(val) for val in p_ord ]\n",
    "    \n",
    "    return \"\".join(plain)\n",
    "\n",
    "encrypt(\"HI\", 2), \\\n",
    "encrypt(\"HI\", 20), \\\n",
    "decrypt(\"JK\", 2), \\\n",
    "decrypt(\"BC\", 20)"
   ]
  },
  {
   "cell_type": "code",
   "execution_count": 2,
   "metadata": {},
   "outputs": [
    {
     "name": "stdout",
     "output_type": "stream",
     "text": [
      "1,2,Fizz,4,Buzz,Fizz,7,8,Fizz,Buzz,11,Fizz,13,14,Fizzbuzz,16,17,Fizz,19,Buzz,Fizz,22,23,Fizz,Buzz,26,Fizz,28,29,Fizzbuzz,31,32,Fizz,34,Buzz,Fizz,37,38,Fizz,Buzz,41,Fizz,43,44,Fizzbuzz,46,47,Fizz,49,Buzz,Fizz,52,53,Fizz,Buzz,56,Fizz,58,59,Fizzbuzz,61,62,Fizz,64,Buzz,Fizz,67,68,Fizz,Buzz,71,Fizz,73,74,Fizzbuzz,76,77,Fizz,79,Buzz,Fizz,82,83,Fizz,Buzz,86,Fizz,88,89,Fizzbuzz,91,92,Fizz,94,Buzz,Fizz,97,98,Fizz,Buzz\n"
     ]
    }
   ],
   "source": [
    "#Fizz Buzz - Write a program that prints the numbers from 1 to 100. \n",
    "#But for multiples of three print “Fizz” instead of the number and\n",
    "#for the multiples of five print “Buzz”. For numbers which are \n",
    "#multiples of both three and five print “FizzBuzz”\n",
    "\n",
    "out = []\n",
    "for i in range(1, 101):\n",
    "    if ( i % 3 == 0) & ( i % 5 == 0):\n",
    "        out.append('Fizzbuzz')\n",
    "    elif i % 3 == 0:\n",
    "        out.append('Fizz')\n",
    "    elif i % 5 == 0:\n",
    "        out.append('Buzz')\n",
    "    else:\n",
    "        out.append(str(i))\n",
    "\n",
    "final = \",\".join(out)\n",
    "print(final)"
   ]
  },
  {
   "cell_type": "code",
   "execution_count": 9,
   "metadata": {},
   "outputs": [
    {
     "data": {
      "text/plain": [
       "('txet', 'esrever')"
      ]
     },
     "execution_count": 9,
     "metadata": {},
     "output_type": "execute_result"
    }
   ],
   "source": [
    "#Reverse a String - Enter a string and the program\n",
    "#will reverse it and print it out.\n",
    "\n",
    "def reverse(t):\n",
    "    out = [ t[i] for i in range(len(t)-1, -1, -1)]\n",
    "    return ''.join(out)\n",
    "\n",
    "reverse('text'), reverse('reverse')"
   ]
  },
  {
   "cell_type": "code",
   "execution_count": 17,
   "metadata": {},
   "outputs": [
    {
     "name": "stdout",
     "output_type": "stream",
     "text": [
      "Total count of vowels : 3\n",
      "Count of 'a': 0\n",
      "Count of 'e': 2\n",
      "Count of 'i': 0\n",
      "Count of 'o': 1\n",
      "Count of 'u': 0\n"
     ]
    }
   ],
   "source": [
    "#Count Vowels - Enter a string and the program counts\n",
    "#the number of vowels in the text. For added complexity\n",
    "#have it report a sum of each vowel found.\n",
    "\n",
    "def vowel_count(t):\n",
    "    vowels = ['a', 'e', 'i', 'o', 'u']\n",
    "    vow_count = dict(zip(vowels, [0,0,0,0,0]))\n",
    "    total = 0\n",
    "    for part in t:\n",
    "        if part in vowels:\n",
    "            if part in vow_count:\n",
    "                vow_count[part] += 1\n",
    "            else:\n",
    "                vow_count[part] = 1\n",
    "            total += 1\n",
    "    \n",
    "    print(\"Total count of vowels : {}\".format(total))\n",
    "    for key, val in vow_count.items():\n",
    "        print(\"Count of '{}': {}\".format(key, val))\n",
    "        \n",
    "vowel_count('sometext')"
   ]
  },
  {
   "cell_type": "code",
   "execution_count": 18,
   "metadata": {},
   "outputs": [
    {
     "data": {
      "text/plain": [
       "('racecar is a palindrome', 'another is not a palindrome')"
      ]
     },
     "execution_count": 18,
     "metadata": {},
     "output_type": "execute_result"
    }
   ],
   "source": [
    "#Check if Palindrome - Checks if the string entered\n",
    "#by the user is a palindrome. That is that it reads\n",
    "#the same forwards as backwards like “racecar”\n",
    "\n",
    "def palindrome(t):\n",
    "    rev = [ t[i] for i in range(len(t)-1, -1, -1)]\n",
    "    rev = \"\".join(rev)\n",
    "    if rev == t:\n",
    "        return t + \" is a palindrome\"\n",
    "    else:\n",
    "        return t + \" is not a palindrome\"\n",
    "    \n",
    "palindrome('racecar'), palindrome('another')"
   ]
  },
  {
   "cell_type": "code",
   "execution_count": 20,
   "metadata": {},
   "outputs": [
    {
     "data": {
      "text/plain": [
       "('ananabay', 'appleway')"
      ]
     },
     "execution_count": 20,
     "metadata": {},
     "output_type": "execute_result"
    }
   ],
   "source": [
    "#Pig Latin - Pig Latin is a game of alterations played\n",
    "#on the English language game. To create the Pig Latin\n",
    "#form of an English word the initial consonant sound is\n",
    "#transposed to the end of the word and an ay is affixed\n",
    "#(Ex.: \"banana\" would yield anana-bay). Read Wikipedia\n",
    "#for more information on rules.\n",
    "\n",
    "def gen_piglatin(t):\n",
    "    vowels = ['a','e','i','o','u']\n",
    "    base = 0\n",
    "    if t[0] in vowels:\n",
    "        return t + \"way\"\n",
    "    else:\n",
    "        return t[1:] + t[0] + \"ay\"\n",
    "\n",
    "gen_piglatin('banana'), \\\n",
    "gen_piglatin('apple')"
   ]
  },
  {
   "cell_type": "code",
   "execution_count": 6,
   "metadata": {},
   "outputs": [
    {
     "name": "stdout",
     "output_type": "stream",
     "text": [
      "Plain : 3\n",
      "text : 9\n",
      "exclusively : 2\n",
      "consists : 1\n",
      "of : 5\n",
      "character : 4\n",
      "representation : 1\n",
      "Each : 1\n",
      "is : 2\n",
      "represented : 1\n",
      "by : 1\n",
      "a : 3\n",
      "fixed-length : 1\n",
      "sequence : 2\n",
      "one : 2\n",
      "two : 1\n",
      "or : 3\n",
      "four : 2\n",
      "bytes : 2\n",
      "as : 2\n",
      "variable-length : 1\n",
      "to : 2\n",
      "in : 2\n",
      "accordance : 1\n",
      "specific : 1\n",
      "encoding : 2\n",
      "conventions : 2\n",
      "such : 3\n",
      "ASCII : 1\n",
      "ISO/IEC : 1\n",
      "2022 : 1\n",
      "UTF-8 : 1\n",
      "Unicode : 1\n",
      "These : 1\n",
      "define : 1\n",
      "many : 1\n",
      "printable : 1\n",
      "characters : 3\n",
      "but : 1\n",
      "also : 1\n",
      "non-printing : 1\n",
      "that : 2\n",
      "control : 1\n",
      "the : 5\n",
      "flow : 1\n",
      "space : 1\n",
      "line : 1\n",
      "break : 2\n",
      "and : 2\n",
      "page : 1\n",
      "contains : 1\n",
      "no : 1\n",
      "other : 1\n",
      "information : 1\n",
      "about : 1\n",
      "itself : 1\n",
      "not : 3\n",
      "even : 1\n",
      "convention : 1\n",
      "employed : 1\n",
      "stored : 1\n",
      "files : 2\n",
      "although : 1\n",
      "do : 1\n",
      "store : 1\n",
      "plain : 2\n",
      "In : 1\n",
      "early : 1\n",
      "days : 1\n",
      "computers : 1\n",
      "was : 1\n",
      "displayed : 1\n",
      "using : 2\n",
      "monospace : 1\n",
      "font : 1\n",
      "horizontal : 1\n",
      "alignment : 1\n",
      "columnar : 1\n",
      "formatting : 1\n",
      "were : 1\n",
      "sometimes : 1\n",
      "done : 1\n",
      "whitespace : 1\n",
      "For : 1\n",
      "compatibility : 1\n",
      "reasons : 1\n",
      "this : 1\n",
      "tradition : 1\n",
      "has : 1\n",
      "changed : 1\n"
     ]
    }
   ],
   "source": [
    "#Count Words in a String - Counts the number of individual\n",
    "#words in a string. For added complexity read these strings\n",
    "#in from a text file and generate a summary.\n",
    "\n",
    "import re\n",
    "\n",
    "def split_words(t):\n",
    "    words = re.split(r'[ |.|,|!|:|;]',t)\n",
    "    words = [ word.strip() for word in words ]\n",
    "    count_words = {}\n",
    "    for word in words:\n",
    "        if word in count_words:\n",
    "            count_words[word] += 1\n",
    "        else:\n",
    "            count_words[word] = 1\n",
    "    \n",
    "    return count_words\n",
    "\n",
    "t = 'Plain text exclusively consists of character representation.\\\n",
    "    Each character is represented by a fixed-length sequence of one,\\\n",
    "    two, or four bytes, or as a variable-length sequence of one to \\\n",
    "    four bytes, in accordance to specific character encoding conventions,\\\n",
    "    such as ASCII, ISO/IEC 2022, UTF-8, or Unicode. These conventions \\\n",
    "    define many printable characters, but also non-printing characters \\\n",
    "    that control the flow of the text, such space, line break, and page \\\n",
    "    break. Plain text contains no other information about the text itself,\\\n",
    "    not even the character encoding convention employed. Plain text is \\\n",
    "    stored in text files, although text files do not exclusively store plain\\\n",
    "    text. In the early days of computers, plain text was displayed using a\\\n",
    "    monospace font, such that horizontal alignment and columnar formatting\\\n",
    "    were sometimes done using whitespace characters. For compatibility \\\n",
    "    reasons, this tradition has not changed.'\n",
    "\n",
    "counts = split_words(t)\n",
    "for key, val in counts.items():\n",
    "    if key != '':\n",
    "        print(\"{} : {}\".format(key, val))\n",
    "    \n",
    "    "
   ]
  },
  {
   "cell_type": "code",
   "execution_count": 10,
   "metadata": {},
   "outputs": [
    {
     "data": {
      "text/plain": [
       "(3.14286, 3.1428571429, 3.1428571429)"
      ]
     },
     "execution_count": 10,
     "metadata": {},
     "output_type": "execute_result"
    }
   ],
   "source": [
    "#Find PI to the Nth Digit - Enter a number and have\n",
    "#the program generate PI up to that many decimal\n",
    "#places. Keep a limit to how far the program will go.\n",
    "\n",
    "def place(n):\n",
    "    n = 10 if n > 10 else n\n",
    "    return round(22/7, n)\n",
    "\n",
    "place(5), place(15), place(10)"
   ]
  },
  {
   "cell_type": "code",
   "execution_count": 20,
   "metadata": {},
   "outputs": [
    {
     "data": {
      "text/plain": [
       "('0,1,1,2,3',\n",
       " '0,1',\n",
       " '0,1,1,2,3,5,8,13,21,34',\n",
       " '0,1,1,2,3,5,8,13,21,34,55,89,144,233,377,610,987,1597,2584,4181')"
      ]
     },
     "execution_count": 20,
     "metadata": {},
     "output_type": "execute_result"
    }
   ],
   "source": [
    "#Fibonacci Sequence - Enter a number and have the\n",
    "#program generate the Fibonacci sequence to that \n",
    "#number or to the Nth number.\n",
    "\n",
    "def fibonacci(N):\n",
    "    first = 0\n",
    "    second = 1\n",
    "    fib = []\n",
    "    N = 20 if N > 20 else N\n",
    "    \n",
    "    for i in range(N-2):\n",
    "        num = first+second\n",
    "        fib.append(num)\n",
    "        first = second\n",
    "        second = num\n",
    "    \n",
    "    fib = [0,1] + fib\n",
    "    return \",\".join(map(str, fib))\n",
    "\n",
    "fibonacci(5), \\\n",
    "fibonacci(2), \\\n",
    "fibonacci(10), \\\n",
    "fibonacci(21)"
   ]
  },
  {
   "cell_type": "code",
   "execution_count": 26,
   "metadata": {},
   "outputs": [
    {
     "data": {
      "text/plain": [
       "('1,3,5', '1,2,5', '1,3,17')"
      ]
     },
     "execution_count": 26,
     "metadata": {},
     "output_type": "execute_result"
    }
   ],
   "source": [
    "#Prime Factorization - Have the user enter a \n",
    "#number and find all Prime Factors (if there\n",
    "#are any) and display them.\n",
    "import math\n",
    "\n",
    "def check_prime(num):\n",
    "    limit = (num/2)+1 if (num%2)==0 else math.ceil(num/2)\n",
    "    for i in range(2, int(limit)):\n",
    "        if num % i == 0:\n",
    "            return False\n",
    "\n",
    "    return True\n",
    "    \n",
    "def find_primes(N):\n",
    "    primes = []\n",
    "    limit = (N/2)+1 if N%2 == 0 else math.ceil(N/2)\n",
    "    for i in range(2,int(limit)):\n",
    "        if N % i == 0:\n",
    "            if check_prime(i):\n",
    "                primes.append(i)\n",
    "    primes = [1] + primes\n",
    "    return \",\".join(map(str, primes))\n",
    "\n",
    "find_primes(15), \\\n",
    "find_primes(20), \\\n",
    "find_primes(51)"
   ]
  },
  {
   "cell_type": "code",
   "execution_count": 2,
   "metadata": {},
   "outputs": [
    {
     "data": {
      "text/plain": [
       "('2,3,5,7', '2,3,5,7,11,13,17,19,23')"
      ]
     },
     "execution_count": 2,
     "metadata": {},
     "output_type": "execute_result"
    }
   ],
   "source": [
    "#Next Prime Number - Have the program find prime numbers \n",
    "#until the user chooses to stop asking for the next one.\n",
    "import math\n",
    "\n",
    "def check_prime(num):\n",
    "    limit = (num/2)+1 if (num%2)==0 else math.ceil(num/2)\n",
    "    for i in range(2, int(limit)):\n",
    "        if num % i == 0:\n",
    "            return False\n",
    "\n",
    "    return True\n",
    "\n",
    "def find_primes(N):\n",
    "    primes = []\n",
    "    for i in range(2, N):\n",
    "        if check_prime(i):\n",
    "            primes.append(i)\n",
    "    return \",\".join(map(str,primes))\n",
    "\n",
    "find_primes(10), \\\n",
    "find_primes(25)"
   ]
  },
  {
   "cell_type": "code",
   "execution_count": 1,
   "metadata": {},
   "outputs": [
    {
     "data": {
      "text/plain": [
       "('1010', 10, 7)"
      ]
     },
     "execution_count": 1,
     "metadata": {},
     "output_type": "execute_result"
    }
   ],
   "source": [
    "# Binary to Decimal and Back Converter - Develop a\n",
    "# converter to convert a decimal number to binary \n",
    "# or a binary number to its decimal equivalent.\n",
    "\n",
    "def ret_bin(num):\n",
    "    return bin(num)[2:]\n",
    "\n",
    "def ret_dec(binary):\n",
    "    length = len(binary)\n",
    "    dec = 0\n",
    "    for i in range(0, len(binary)):\n",
    "        dec = dec + ((2**((len(binary)-1)-i)) * int(binary[i]))\n",
    "        \n",
    "    return dec\n",
    "\n",
    "ret_bin(10), \\\n",
    "ret_dec('1010'), \\\n",
    "ret_dec('0111')"
   ]
  },
  {
   "cell_type": "code",
   "execution_count": 5,
   "metadata": {},
   "outputs": [
    {
     "data": {
      "text/plain": [
       "(30, 'Symbol not defined', 1.5)"
      ]
     },
     "execution_count": 5,
     "metadata": {},
     "output_type": "execute_result"
    }
   ],
   "source": [
    "# Calculator - A simple calculator to do basic operators. \n",
    "# Make it a scientific calculator for added complexity.\n",
    "\n",
    "def calc(sym, a, b):\n",
    "    if sym == '+':\n",
    "        return a+b\n",
    "    elif sym == '-':\n",
    "        return a-b\n",
    "    elif sym == '*':\n",
    "        return a*b\n",
    "    elif sym == '/':\n",
    "        return a/b\n",
    "    elif sym == '%':\n",
    "        return a%b\n",
    "    else:\n",
    "        return 'Symbol not defined'\n",
    "    \n",
    "calc('+', 10, 20), \\\n",
    "calc('.', 20, 20), \\\n",
    "calc('/', 3, 2)"
   ]
  },
  {
   "cell_type": "code",
   "execution_count": 7,
   "metadata": {},
   "outputs": [
    {
     "data": {
      "text/plain": [
       "(120, 720, 120, 720)"
      ]
     },
     "execution_count": 7,
     "metadata": {},
     "output_type": "execute_result"
    }
   ],
   "source": [
    "# Factorial Finder - The Factorial of a positive integer, n,\n",
    "# is defined as the product of the sequence n, n-1, n-2, ...1\n",
    "#and the factorial of zero, 0, is defined as being 1. \n",
    "#Solve this using both loops and recursion.\n",
    "\n",
    "def fact(n):\n",
    "    prod = 1\n",
    "    for i in range(1, n+1):\n",
    "        prod = prod * i\n",
    "    return prod\n",
    "\n",
    "def rec_fact(n):\n",
    "    if n == 1:\n",
    "        return n\n",
    "    else:\n",
    "        return n * rec_fact(n-1)\n",
    "        \n",
    "fact(5), fact(6), rec_fact(5), rec_fact(6)"
   ]
  },
  {
   "cell_type": "code",
   "execution_count": null,
   "metadata": {},
   "outputs": [],
   "source": []
  }
 ],
 "metadata": {
  "kernelspec": {
   "display_name": "Python 3",
   "language": "python",
   "name": "python3"
  },
  "language_info": {
   "codemirror_mode": {
    "name": "ipython",
    "version": 3
   },
   "file_extension": ".py",
   "mimetype": "text/x-python",
   "name": "python",
   "nbconvert_exporter": "python",
   "pygments_lexer": "ipython3",
   "version": "3.7.0"
  }
 },
 "nbformat": 4,
 "nbformat_minor": 2
}
