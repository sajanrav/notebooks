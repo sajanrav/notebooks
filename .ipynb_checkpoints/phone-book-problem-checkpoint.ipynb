{
 "cells": [
  {
   "cell_type": "markdown",
   "metadata": {},
   "source": [
    "## Solution to Phone Book problem implemented using dictionary\n",
    "\n",
    "Notes:\n",
    "1. The unittest cases are minimal. More extensive unit\n",
    "   tests can be added \n",
    "2. The implementation of the phone book has been done \n",
    "   using a dictionaries. There is scope for more optimal \n",
    "   use of data structures in the implementation\n",
    "3. Trie has not been implemented. \n"
   ]
  },
  {
   "cell_type": "code",
   "execution_count": null,
   "metadata": {},
   "outputs": [],
   "source": [
    "from typing import Optional\n",
    "from collections import Counter, defaultdict"
   ]
  },
  {
   "cell_type": "code",
   "execution_count": null,
   "metadata": {},
   "outputs": [],
   "source": [
    "class FastPhone:\n",
    "    def __init__(self):\n",
    "        '''\n",
    "        Constructor for FastPhone class\n",
    "        '''\n",
    "        \n",
    "        self.phone_book = {}\n",
    "        self.dialer = ''\n",
    "      \n",
    "    def get_number_prefixes(self, number):\n",
    "        '''\n",
    "        Method to get all prefixes for a \n",
    "        given number \n",
    "        \n",
    "        args:\n",
    "        number(str): Phone number in string format\n",
    "        \n",
    "        except:\n",
    "        None\n",
    "        \n",
    "        returns:\n",
    "        number_pre(list): List of all possible prefixes\n",
    "                          for a number\n",
    "        '''\n",
    "        \n",
    "        number_pre, start = [], ''\n",
    "        for val in range(0, len(number)):\n",
    "            start += number[val]\n",
    "            number_pre.append(start)\n",
    "        \n",
    "        return number_pre\n",
    "        \n",
    "    def add_number(self, number: str, person: str):\n",
    "        '''\n",
    "        Method to add name and phone number to \n",
    "        phone book dictionary \n",
    "        \n",
    "        args:\n",
    "        number(str): Phone number\n",
    "        person(str): Name of person \n",
    "        \n",
    "        except:\n",
    "        ValueError(exception): Raised when non-permitted \n",
    "                               number is passed \n",
    "                               \n",
    "        returns:\n",
    "        None\n",
    "        \n",
    "        '''\n",
    "        \n",
    "        if not bool(self.phone_book):\n",
    "            self.phone_book[number] = person\n",
    "        else:\n",
    "            is_check = False \n",
    "            for pb_number, pb_name in self.phone_book.items():\n",
    "                number_pre = self.get_number_prefixes(number)\n",
    "                if pb_number in number_pre:\n",
    "                    is_check = True \n",
    "                    raise ValueError(\"{} not allowed.\".format(number))\n",
    "                    \n",
    "            if is_check == False:\n",
    "                self.phone_book[number] = person\n",
    "            \n",
    "    def dial(self, digit: str) -> Optional[str]:\n",
    "        '''\n",
    "        Method to fetch name of person when on \n",
    "        partial autocomplete of number \n",
    "        \n",
    "        args:\n",
    "        digit(str): Single digit of phone number \n",
    "        \n",
    "        except:\n",
    "        KeyError(exception): Raised when no name is \n",
    "                             found \n",
    "                             \n",
    "        returns:\n",
    "        return_val(str): Name when matching phone number\n",
    "                         is found \n",
    "                        \n",
    "        '''\n",
    "        \n",
    "        self.dialer = self.dialer + digit\n",
    "        if self.dialer in self.phone_book.keys():\n",
    "            return_val = self.phone_book[self.dialer]\n",
    "            self.dialer = ''\n",
    "        else:\n",
    "            number_pre, number_pre_dict = [], defaultdict(list)\n",
    "            for number, name in self.phone_book.items():\n",
    "                number_pre.extend(self.get_number_prefixes(number))\n",
    "                number_pre_dict[number].extend(number_pre)\n",
    "         \n",
    "            if self.dialer in number_pre and Counter(number_pre)[self.dialer] == 1: \n",
    "                for key, values in number_pre_dict.items():\n",
    "                    if self.dialer in values:\n",
    "                        return_val = self.phone_book[key]\n",
    "                        self.dialer = ''\n",
    "            else:\n",
    "                raise KeyError(\"No corresponding name found for {}\".format(digit))\n",
    "                \n",
    "        return return_val    "
   ]
  },
  {
   "cell_type": "markdown",
   "metadata": {},
   "source": [
    "### Unit test cases"
   ]
  },
  {
   "cell_type": "code",
   "execution_count": 68,
   "metadata": {},
   "outputs": [],
   "source": [
    "import unittest\n",
    "\n",
    "class test_fastphone(unittest.TestCase):\n",
    "    def setUp(self):\n",
    "        self.fp = FastPhone()\n",
    "        \n",
    "    def test_addition(self):\n",
    "        self.assertEqual(self.fp.add_number(\"123\", \"Alice\"), None)\n",
    "        self.assertEqual(self.fp.add_number(\"124567\", \"Ketan\"), None)\n",
    "        self.assertRaises(ValueError, self.fp.add_number('123419', 'Kuan'))"
   ]
  },
  {
   "cell_type": "code",
   "execution_count": 69,
   "metadata": {},
   "outputs": [
    {
     "name": "stderr",
     "output_type": "stream",
     "text": [
      "E\n",
      "======================================================================\n",
      "ERROR: test_addition (__main__.test_fastphone)\n",
      "----------------------------------------------------------------------\n",
      "Traceback (most recent call last):\n",
      "  File \"<ipython-input-68-5c9c9fe581d7>\", line 10, in test_addition\n",
      "    self.assertRaises(ValueError, self.fp.add_number('123419', 'Kuan'))\n",
      "  File \"<ipython-input-60-858453e8ec66>\", line 59, in add_number\n",
      "    raise ValueError(\"{} not allowed.\".format(number))\n",
      "ValueError: 123419 not allowed.\n",
      "\n",
      "----------------------------------------------------------------------\n",
      "Ran 1 test in 0.002s\n",
      "\n",
      "FAILED (errors=1)\n"
     ]
    }
   ],
   "source": [
    "if __name__ == '__main__':\n",
    "    unittest.main(argv=['first-arg-is-ignored'], exit=False)"
   ]
  },
  {
   "cell_type": "markdown",
   "metadata": {},
   "source": [
    "### Simple calls to the class using hard-coded values "
   ]
  },
  {
   "cell_type": "code",
   "execution_count": null,
   "metadata": {},
   "outputs": [],
   "source": [
    "fp = FastPhone()\n",
    "fp.add_number('123', 'Alice')\n",
    "fp.add_number('124566','Ketan')\n",
    "fp.add_number('125500','Kuan')"
   ]
  },
  {
   "cell_type": "code",
   "execution_count": null,
   "metadata": {},
   "outputs": [],
   "source": [
    "fp.dial('1')"
   ]
  },
  {
   "cell_type": "code",
   "execution_count": null,
   "metadata": {},
   "outputs": [],
   "source": [
    "fp.dial('2')"
   ]
  },
  {
   "cell_type": "code",
   "execution_count": null,
   "metadata": {},
   "outputs": [],
   "source": [
    "fp.dial('3')"
   ]
  },
  {
   "cell_type": "code",
   "execution_count": null,
   "metadata": {},
   "outputs": [],
   "source": [
    "fp.dial('1')"
   ]
  },
  {
   "cell_type": "code",
   "execution_count": null,
   "metadata": {},
   "outputs": [],
   "source": [
    "fp.dial('2')"
   ]
  },
  {
   "cell_type": "code",
   "execution_count": null,
   "metadata": {},
   "outputs": [],
   "source": [
    "fp.dial('4')"
   ]
  }
 ],
 "metadata": {
  "kernelspec": {
   "display_name": "Python 3",
   "language": "python",
   "name": "python3"
  },
  "language_info": {
   "codemirror_mode": {
    "name": "ipython",
    "version": 3
   },
   "file_extension": ".py",
   "mimetype": "text/x-python",
   "name": "python",
   "nbconvert_exporter": "python",
   "pygments_lexer": "ipython3",
   "version": "3.8.6"
  }
 },
 "nbformat": 4,
 "nbformat_minor": 4
}
